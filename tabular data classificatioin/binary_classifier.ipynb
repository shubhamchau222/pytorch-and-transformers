{
 "cells": [
  {
   "cell_type": "code",
   "execution_count": 1,
   "id": "0ce2eabd",
   "metadata": {},
   "outputs": [],
   "source": [
    "import pandas as pd\n",
    "import numpy as np \n",
    "import torch \n",
    "import torch.nn as nn \n",
    "from sklearn.metrics import accuracy_score, classification_report, confusion_matrix\n",
    "from sklearn.model_selection import train_test_split\n",
    "from torch.utils.data import Dataset, DataLoader"
   ]
  },
  {
   "cell_type": "code",
   "execution_count": 2,
   "id": "d4b6d800",
   "metadata": {},
   "outputs": [
    {
     "data": {
      "text/html": [
       "<div>\n",
       "<style scoped>\n",
       "    .dataframe tbody tr th:only-of-type {\n",
       "        vertical-align: middle;\n",
       "    }\n",
       "\n",
       "    .dataframe tbody tr th {\n",
       "        vertical-align: top;\n",
       "    }\n",
       "\n",
       "    .dataframe thead th {\n",
       "        text-align: right;\n",
       "    }\n",
       "</style>\n",
       "<table border=\"1\" class=\"dataframe\">\n",
       "  <thead>\n",
       "    <tr style=\"text-align: right;\">\n",
       "      <th></th>\n",
       "      <th>Pregnancies</th>\n",
       "      <th>Glucose</th>\n",
       "      <th>BloodPressure</th>\n",
       "      <th>SkinThickness</th>\n",
       "      <th>Insulin</th>\n",
       "      <th>BMI</th>\n",
       "      <th>DiabetesPedigreeFunction</th>\n",
       "      <th>Age</th>\n",
       "      <th>Outcome</th>\n",
       "    </tr>\n",
       "  </thead>\n",
       "  <tbody>\n",
       "    <tr>\n",
       "      <th>0</th>\n",
       "      <td>6</td>\n",
       "      <td>148</td>\n",
       "      <td>72</td>\n",
       "      <td>35</td>\n",
       "      <td>0</td>\n",
       "      <td>33.6</td>\n",
       "      <td>0.627</td>\n",
       "      <td>50</td>\n",
       "      <td>1</td>\n",
       "    </tr>\n",
       "    <tr>\n",
       "      <th>1</th>\n",
       "      <td>1</td>\n",
       "      <td>85</td>\n",
       "      <td>66</td>\n",
       "      <td>29</td>\n",
       "      <td>0</td>\n",
       "      <td>26.6</td>\n",
       "      <td>0.351</td>\n",
       "      <td>31</td>\n",
       "      <td>0</td>\n",
       "    </tr>\n",
       "    <tr>\n",
       "      <th>2</th>\n",
       "      <td>8</td>\n",
       "      <td>183</td>\n",
       "      <td>64</td>\n",
       "      <td>0</td>\n",
       "      <td>0</td>\n",
       "      <td>23.3</td>\n",
       "      <td>0.672</td>\n",
       "      <td>32</td>\n",
       "      <td>1</td>\n",
       "    </tr>\n",
       "    <tr>\n",
       "      <th>3</th>\n",
       "      <td>1</td>\n",
       "      <td>89</td>\n",
       "      <td>66</td>\n",
       "      <td>23</td>\n",
       "      <td>94</td>\n",
       "      <td>28.1</td>\n",
       "      <td>0.167</td>\n",
       "      <td>21</td>\n",
       "      <td>0</td>\n",
       "    </tr>\n",
       "    <tr>\n",
       "      <th>4</th>\n",
       "      <td>0</td>\n",
       "      <td>137</td>\n",
       "      <td>40</td>\n",
       "      <td>35</td>\n",
       "      <td>168</td>\n",
       "      <td>43.1</td>\n",
       "      <td>2.288</td>\n",
       "      <td>33</td>\n",
       "      <td>1</td>\n",
       "    </tr>\n",
       "  </tbody>\n",
       "</table>\n",
       "</div>"
      ],
      "text/plain": [
       "   Pregnancies  Glucose  BloodPressure  SkinThickness  Insulin   BMI  \\\n",
       "0            6      148             72             35        0  33.6   \n",
       "1            1       85             66             29        0  26.6   \n",
       "2            8      183             64              0        0  23.3   \n",
       "3            1       89             66             23       94  28.1   \n",
       "4            0      137             40             35      168  43.1   \n",
       "\n",
       "   DiabetesPedigreeFunction  Age  Outcome  \n",
       "0                     0.627   50        1  \n",
       "1                     0.351   31        0  \n",
       "2                     0.672   32        1  \n",
       "3                     0.167   21        0  \n",
       "4                     2.288   33        1  "
      ]
     },
     "execution_count": 2,
     "metadata": {},
     "output_type": "execute_result"
    }
   ],
   "source": [
    "# read dataset\n",
    "df= pd.read_csv(\"data/diabetes.csv\", skiprows=1)\n",
    "df.head()"
   ]
  },
  {
   "cell_type": "code",
   "execution_count": 3,
   "id": "9985e77f",
   "metadata": {},
   "outputs": [
    {
     "name": "stdout",
     "output_type": "stream",
     "text": [
      "Pregnancies                 0\n",
      "Glucose                     0\n",
      "BloodPressure               0\n",
      "SkinThickness               0\n",
      "Insulin                     0\n",
      "BMI                         0\n",
      "DiabetesPedigreeFunction    0\n",
      "Age                         0\n",
      "Outcome                     0\n",
      "dtype: int64\n"
     ]
    },
    {
     "data": {
      "text/plain": [
       "((768, 9),\n",
       " None,\n",
       " Outcome\n",
       " 0    500\n",
       " 1    268\n",
       " Name: count, dtype: int64)"
      ]
     },
     "execution_count": 3,
     "metadata": {},
     "output_type": "execute_result"
    }
   ],
   "source": [
    "df.shape, print(df.isna().sum()), df['Outcome'].value_counts()"
   ]
  },
  {
   "cell_type": "code",
   "execution_count": 4,
   "id": "af700cf4",
   "metadata": {},
   "outputs": [
    {
     "data": {
      "text/plain": [
       "Index(['Pregnancies', 'Glucose', 'BloodPressure', 'SkinThickness', 'Insulin',\n",
       "       'BMI', 'DiabetesPedigreeFunction', 'Age', 'Outcome'],\n",
       "      dtype='object')"
      ]
     },
     "execution_count": 4,
     "metadata": {},
     "output_type": "execute_result"
    }
   ],
   "source": [
    "df.columns"
   ]
  },
  {
   "cell_type": "code",
   "execution_count": 5,
   "id": "eed9d2c3",
   "metadata": {},
   "outputs": [
    {
     "name": "stdout",
     "output_type": "stream",
     "text": [
      "X_train Shape (614, 8)\n",
      "x_test Shape (154, 8)\n",
      "y_train Shape (614,)\n",
      "y_test Shape (154,)\n"
     ]
    }
   ],
   "source": [
    "X = df.iloc[:, :-1]\n",
    "y= df['Outcome']\n",
    "\n",
    "x_train, x_test, y_train, y_test= train_test_split(X,y, \n",
    "                                                   test_size=0.2, \n",
    "                                                   random_state=42,\n",
    "                                                   stratify=y)\n",
    "\n",
    "print(f\"X_train Shape {x_train.shape}\")\n",
    "print(f\"x_test Shape {x_test.shape}\")\n",
    "print(f\"y_train Shape {y_train.shape}\")\n",
    "print(f\"y_test Shape {y_test.shape}\")"
   ]
  },
  {
   "cell_type": "code",
   "execution_count": 6,
   "id": "f5ed5cac",
   "metadata": {},
   "outputs": [
    {
     "data": {
      "text/plain": [
       "(Outcome\n",
       " 0    0.651466\n",
       " 1    0.348534\n",
       " Name: count, dtype: float64,\n",
       " Outcome\n",
       " 0    0.649351\n",
       " 1    0.350649\n",
       " Name: count, dtype: float64)"
      ]
     },
     "execution_count": 6,
     "metadata": {},
     "output_type": "execute_result"
    }
   ],
   "source": [
    "# Equal proportion of classes amongs the train and test data\n",
    "y_train.value_counts()/y_train.value_counts().sum() , y_test.value_counts()/y_test.value_counts().sum()"
   ]
  },
  {
   "cell_type": "code",
   "execution_count": 7,
   "id": "b85d17c2",
   "metadata": {},
   "outputs": [
    {
     "data": {
      "text/plain": [
       "614"
      ]
     },
     "execution_count": 7,
     "metadata": {},
     "output_type": "execute_result"
    }
   ],
   "source": [
    "len(x_train)"
   ]
  },
  {
   "cell_type": "code",
   "execution_count": 53,
   "id": "7a78cf24",
   "metadata": {},
   "outputs": [],
   "source": [
    "class Mydataset(Dataset):\n",
    "    \"\"\"\n",
    "        Args:\n",
    "            data (array-like): Input data.\n",
    "            labels (array-like): Corresponding labels.\n",
    "            transform (callable, optional): Optional transform to be applied on a sample.\n",
    "    \"\"\"\n",
    "    def __init__(self, input_feature, output_feature):\n",
    "        super().__init__()\n",
    "        self.input_feature= input_feature\n",
    "        self.output_feature = output_feature\n",
    "\n",
    "    def __len__(self):\n",
    "        return len(self.input_feature)\n",
    "    \n",
    "    def __getitem__(self, index):\n",
    "        data= self.input_feature[index]\n",
    "        label= self.output_feature[index]\n",
    "        return data, label\n",
    "    "
   ]
  },
  {
   "cell_type": "code",
   "execution_count": 54,
   "id": "18119eac",
   "metadata": {},
   "outputs": [
    {
     "name": "stdout",
     "output_type": "stream",
     "text": [
      "X_train tensor Shape torch.Size([614, 8])\n",
      "x_test tensor Shape torch.Size([154, 8])\n",
      "y_train tensor Shape torch.Size([614, 1])\n",
      "y_test tensor Shape torch.Size([154, 1])\n"
     ]
    }
   ],
   "source": [
    "x_train_tensor= torch.tensor(x_train.values, dtype=torch.float32)\n",
    "x_test_tensor= torch.tensor(x_test.values, dtype=torch.float32)\n",
    "y_train_tensor= torch.tensor(y_train.values, dtype=torch.float32).unsqueeze(1) #adding Extradimensions\n",
    "y_test_tensor= torch.tensor(y_test.values, dtype=torch.float32).unsqueeze(1) #adding Extradimensions\n",
    "\n",
    "print(f\"X_train tensor Shape {x_train_tensor.shape}\")\n",
    "print(f\"x_test tensor Shape {x_test_tensor.shape}\")\n",
    "print(f\"y_train tensor Shape {y_train_tensor.shape}\")\n",
    "print(f\"y_test tensor Shape {y_test_tensor.shape}\")\n"
   ]
  },
  {
   "cell_type": "code",
   "execution_count": 55,
   "id": "8f5292a8",
   "metadata": {},
   "outputs": [],
   "source": [
    "batch_size= 16\n",
    "\n",
    "train_dataset = Mydataset(x_train_tensor, y_train_tensor)\n",
    "test_dataset =  Mydataset(x_test_tensor, y_test_tensor)\n",
    "\n",
    "train_dataloader= DataLoader(dataset=train_dataset, batch_size=32, shuffle=True)\n",
    "validation_dataloder = DataLoader(dataset=test_dataset, batch_size=batch_size,shuffle=False)"
   ]
  },
  {
   "cell_type": "code",
   "execution_count": 56,
   "id": "7d9209e1",
   "metadata": {},
   "outputs": [
    {
     "data": {
      "text/plain": [
       "torch.Size([32, 8])"
      ]
     },
     "execution_count": 56,
     "metadata": {},
     "output_type": "execute_result"
    }
   ],
   "source": [
    "iter_ = iter(train_dataloader)\n",
    "next(iter_)[0].shape"
   ]
  },
  {
   "cell_type": "code",
   "execution_count": 57,
   "id": "fd054c4a",
   "metadata": {},
   "outputs": [
    {
     "name": "stdout",
     "output_type": "stream",
     "text": [
      "There will be 38 batches.\n"
     ]
    }
   ],
   "source": [
    "\n",
    "numberofbatches= len(train_dataset) / batch_size\n",
    "print(f\"There will be {round(numberofbatches)} batches.\")"
   ]
  },
  {
   "cell_type": "markdown",
   "id": "c5615f8c",
   "metadata": {},
   "source": [
    "# **Model Building**"
   ]
  },
  {
   "cell_type": "code",
   "execution_count": 118,
   "id": "99a7e8fe",
   "metadata": {},
   "outputs": [],
   "source": [
    "# class BinaryClassifier(nn.Module):\n",
    "#     def __init__(self, input_size):\n",
    "#         super(BinaryClassifier, self).__init__()\n",
    "#         self.linear1 = nn.Linear(input_size, 16)\n",
    "#         self.relu = nn.ReLU()\n",
    "#         self.linear2 = nn.Linear(16, 1)\n",
    "#         self.sigmoid = nn.Sigmoid()\n",
    "\n",
    "#     def forward(self, x):\n",
    "#         x = self.linear1(x)\n",
    "#         x = self.relu(x)\n",
    "#         x = self.linear2(x)\n",
    "#         x = self.sigmoid(x)\n",
    "#         return x\n",
    "    \n",
    "\n",
    "class BinaryClassifier(nn.Module):\n",
    "    def __init__(self, input_size, hidden_size=16, dropout_rate=0.4):\n",
    "        super(BinaryClassifier, self).__init__()\n",
    "\n",
    "        self.linear1 = nn.Linear(input_size, hidden_size)\n",
    "        self.batch_norm1 = nn.BatchNorm1d(hidden_size)\n",
    "        self.relu = nn.ReLU()\n",
    "        self.dropout = nn.Dropout(dropout_rate)\n",
    "        self.linear2 = nn.Linear(hidden_size, 1)\n",
    "        self.sigmoid = nn.Sigmoid()\n",
    "\n",
    "    def forward(self, x):\n",
    "        x = self.linear1(x)\n",
    "        x = self.batch_norm1(x)  \n",
    "        x = self.relu(x)  \n",
    "        x = self.dropout(x)  \n",
    "        x = self.linear2(x)\n",
    "        x = self.sigmoid(x)\n",
    "        return x \n",
    "    \n",
    "# model obj\n",
    "# model= BinaryClassifier(input_size= x_train.shape[1])\n",
    "model= BinaryClassifier(input_size= x_train.shape[1])"
   ]
  },
  {
   "cell_type": "code",
   "execution_count": 119,
   "id": "4f0fa6cd",
   "metadata": {},
   "outputs": [],
   "source": [
    "learning_rate= 0.001\n",
    "criterion = nn.BCELoss()  # Binary Cross-Entropy Loss\n",
    "optimizer = torch.optim.Adam(model.parameters(), lr=learning_rate)\n",
    "\n",
    "epochs= 10\n"
   ]
  },
  {
   "cell_type": "code",
   "execution_count": 120,
   "id": "9eaae8df",
   "metadata": {},
   "outputs": [
    {
     "name": "stdout",
     "output_type": "stream",
     "text": [
      "Epoch:0 | Train loss: 0.7412 | Train accuracy: 45.93% | Test loss: 0.7361 | Test accuracy: 37.01%\n",
      "Epoch:1 | Train loss: 0.7080 | Train accuracy: 52.61% | Test loss: 0.7074 | Test accuracy: 44.16%\n",
      "Epoch:2 | Train loss: 0.6957 | Train accuracy: 55.05% | Test loss: 0.6834 | Test accuracy: 56.49%\n",
      "Epoch:3 | Train loss: 0.6644 | Train accuracy: 63.84% | Test loss: 0.6651 | Test accuracy: 64.29%\n",
      "Epoch:4 | Train loss: 0.6471 | Train accuracy: 68.24% | Test loss: 0.6543 | Test accuracy: 65.58%\n",
      "Epoch:5 | Train loss: 0.6212 | Train accuracy: 71.82% | Test loss: 0.6352 | Test accuracy: 68.83%\n",
      "Epoch:6 | Train loss: 0.6210 | Train accuracy: 70.20% | Test loss: 0.6161 | Test accuracy: 72.08%\n",
      "Epoch:7 | Train loss: 0.6022 | Train accuracy: 70.36% | Test loss: 0.6031 | Test accuracy: 71.43%\n",
      "Epoch:8 | Train loss: 0.5803 | Train accuracy: 73.78% | Test loss: 0.5939 | Test accuracy: 71.43%\n",
      "Epoch:9 | Train loss: 0.5669 | Train accuracy: 73.62% | Test loss: 0.5780 | Test accuracy: 72.73%\n"
     ]
    }
   ],
   "source": [
    "train_acc, test_acc= [],[] \n",
    "train_loss_hist, test_loss_hist= [],[] \n",
    "\n",
    "for epoch in range(epochs):\n",
    "    train_loss, test_loss = 0.0, 0.0\n",
    "    train_correct, test_correct = 0,0\n",
    "    train_total, test_total = 0,0\n",
    "\n",
    "    model.train()\n",
    "    \n",
    "    for steps,data in enumerate(train_dataloader):\n",
    "        inputs, labels= data\n",
    "        outputs= model(inputs)\n",
    "        loss= criterion(outputs, labels)\n",
    "\n",
    "        loss.backward()\n",
    "        optimizer.step()\n",
    "        optimizer.zero_grad()\n",
    "\n",
    "        train_loss += loss.item() * inputs.size(0)\n",
    "\n",
    "        training_prediction = (outputs > 0.5).float()\n",
    "        train_correct += (training_prediction == labels).sum().item()\n",
    "\n",
    "        train_total += inputs.size(0)\n",
    "\n",
    "    model.eval()\n",
    "    with torch.no_grad():\n",
    "        for tst_steps,testdata in enumerate(validation_dataloder):\n",
    "            test_inputs, test_labels = testdata\n",
    "\n",
    "            test_pred= model(test_inputs)\n",
    "\n",
    "            t_loss= criterion(test_pred, test_labels)\n",
    "\n",
    "            test_loss +=  t_loss.item() * test_inputs.size(0)\n",
    "\n",
    "            test_predicted = (test_pred > 0.5).float()\n",
    "            test_correct += (test_predicted == test_labels).sum().item()\n",
    "\n",
    "            test_total += test_labels.size(0)\n",
    "\n",
    "    print(f\"Epoch:{epoch} | Train loss: {train_loss/train_total:.4f} | Train accuracy: {(train_correct/train_total)*100:.2f}% | Test loss: {test_loss/test_total:.4f} | Test accuracy: {(test_correct/test_total)*100:.2f}%\")\n",
    "    \n",
    "    # for visialization \n",
    "\n",
    "    train_acc.append(train_correct/train_total)\n",
    "    test_acc.append(test_correct/test_total)\n",
    "    train_loss_hist.append(train_loss/train_total)\n",
    "    test_loss_hist.append(test_loss/test_total)\n"
   ]
  },
  {
   "cell_type": "markdown",
   "id": "c518df61",
   "metadata": {},
   "source": [
    "## Save weights"
   ]
  },
  {
   "cell_type": "code",
   "execution_count": 123,
   "id": "e94cdcda",
   "metadata": {},
   "outputs": [],
   "source": [
    "#Save model (save weights)\n",
    "# torch.save(model.state_dict(), \"models/binary_classifier.pth\")"
   ]
  },
  {
   "cell_type": "code",
   "execution_count": 133,
   "id": "c9b05ac2",
   "metadata": {},
   "outputs": [
    {
     "data": {
      "text/plain": [
       "BinaryClassifier(\n",
       "  (linear1): Linear(in_features=8, out_features=16, bias=True)\n",
       "  (batch_norm1): BatchNorm1d(16, eps=1e-05, momentum=0.1, affine=True, track_running_stats=True)\n",
       "  (relu): ReLU()\n",
       "  (dropout): Dropout(p=0.4, inplace=False)\n",
       "  (linear2): Linear(in_features=16, out_features=1, bias=True)\n",
       "  (sigmoid): Sigmoid()\n",
       ")"
      ]
     },
     "execution_count": 133,
     "metadata": {},
     "output_type": "execute_result"
    }
   ],
   "source": [
    "# --- Loading the Model ---\n",
    "loaded_model = BinaryClassifier(8, 16, 0.4) \n",
    "loaded_model.load_state_dict(torch.load(\"models/binary_classifier.pth\"))\n",
    "loaded_model.eval() # Set the model to evaluation mode"
   ]
  },
  {
   "cell_type": "code",
   "execution_count": 134,
   "id": "551c03be",
   "metadata": {},
   "outputs": [
    {
     "name": "stdout",
     "output_type": "stream",
     "text": [
      "              precision    recall  f1-score   support\n",
      "\n",
      "         0.0       0.76      0.84      0.80       100\n",
      "         1.0       0.64      0.52      0.57        54\n",
      "\n",
      "    accuracy                           0.73       154\n",
      "   macro avg       0.70      0.68      0.69       154\n",
      "weighted avg       0.72      0.73      0.72       154\n",
      "\n",
      "----------------------------------------\n",
      "[[84 16]\n",
      " [26 28]]\n"
     ]
    }
   ],
   "source": [
    "from sklearn.metrics import accuracy_score, classification_report\n",
    "\n",
    "# checking trained model report \n",
    "model.eval()\n",
    "\n",
    "predictions= (model(x_test_tensor) > 0.5).float().squeeze()\n",
    "\n",
    "report1= classification_report(y_true=y_test_tensor.squeeze(), \n",
    "                      y_pred= predictions)\n",
    "\n",
    "conf_m= confusion_matrix(y_true=y_test_tensor.squeeze(), \n",
    "                      y_pred= predictions)\n",
    "\n",
    "print(report1)\n",
    "print(\"--\"*20)\n",
    "print(conf_m)"
   ]
  },
  {
   "cell_type": "code",
   "execution_count": 135,
   "id": "ffc77d20",
   "metadata": {},
   "outputs": [
    {
     "name": "stdout",
     "output_type": "stream",
     "text": [
      "              precision    recall  f1-score   support\n",
      "\n",
      "         0.0       0.76      0.84      0.80       100\n",
      "         1.0       0.64      0.52      0.57        54\n",
      "\n",
      "    accuracy                           0.73       154\n",
      "   macro avg       0.70      0.68      0.69       154\n",
      "weighted avg       0.72      0.73      0.72       154\n",
      "\n",
      "----------------------------------------\n",
      "[[84 16]\n",
      " [26 28]]\n"
     ]
    }
   ],
   "source": [
    "from sklearn.metrics import accuracy_score, classification_report\n",
    "\n",
    "# checking trained model report \n",
    "loaded_model.eval()\n",
    "\n",
    "predictions= (loaded_model(x_test_tensor) > 0.5).float().squeeze()\n",
    "\n",
    "report2= classification_report(y_true=y_test_tensor.squeeze(), \n",
    "                      y_pred= predictions)\n",
    "\n",
    "conf_m= confusion_matrix(y_true=y_test_tensor.squeeze(), \n",
    "                      y_pred= predictions)\n",
    "\n",
    "print(report2)\n",
    "print(\"--\"*20)\n",
    "print(conf_m)"
   ]
  },
  {
   "cell_type": "code",
   "execution_count": null,
   "id": "01e4e584",
   "metadata": {},
   "outputs": [],
   "source": [
    "#save complete model\n",
    "# torch.save(model, \"models/binary_classifier_full.pth\")"
   ]
  },
  {
   "cell_type": "code",
   "execution_count": 126,
   "id": "1fee84c5",
   "metadata": {},
   "outputs": [],
   "source": [
    "import seaborn as sns \n",
    "import matplotlib.pyplot as plt"
   ]
  },
  {
   "cell_type": "code",
   "execution_count": 127,
   "id": "13c2267f",
   "metadata": {},
   "outputs": [
    {
     "data": {
      "image/png": "[encoded data removed]",
      "text/plain": [
       "<Figure size 640x480 with 1 Axes>"
      ]
     },
     "metadata": {},
     "output_type": "display_data"
    }
   ],
   "source": [
    "sns.lineplot(x=range(epochs), y=train_acc, color=\"red\", label=\"Training Acc\")\n",
    "sns.lineplot(x=range(epochs), y=test_acc, color=\"blue\", label=\"Testing ACC\")\n",
    "plt.title(\"Training vs Testing Accuracy Over Epochs\")\n",
    "plt.xlabel(\"Epochs\")\n",
    "plt.ylabel(\"Accu.\")\n",
    "plt.legend()\n",
    "plt.show()"
   ]
  },
  {
   "cell_type": "code",
   "execution_count": 128,
   "id": "1046809a",
   "metadata": {},
   "outputs": [
    {
     "data": {
      "image/png": "[encoded data removed]",
      "text/plain": [
       "<Figure size 640x480 with 1 Axes>"
      ]
     },
     "metadata": {},
     "output_type": "display_data"
    }
   ],
   "source": [
    "sns.lineplot(x=range(epochs), y=train_loss_hist, color=\"red\", label=\"Training Loss\")\n",
    "sns.lineplot(x=range(epochs), y=test_loss_hist, color=\"blue\", label=\"Testing Loss\")\n",
    "plt.title(\"Training vs Testing Loss Over Epochs\")\n",
    "plt.xlabel(\"Epochs\")\n",
    "plt.ylabel(\"Loss\")\n",
    "plt.legend()\n",
    "plt.show()\n"
   ]
  },
  {
   "cell_type": "code",
   "execution_count": null,
   "id": "2b83eb9e",
   "metadata": {},
   "outputs": [],
   "source": []
  },
  {
   "cell_type": "code",
   "execution_count": null,
   "id": "cd27f2db",
   "metadata": {},
   "outputs": [],
   "source": []
  },
  {
   "cell_type": "code",
   "execution_count": null,
   "id": "aa25000d",
   "metadata": {},
   "outputs": [],
   "source": []
  },
  {
   "cell_type": "code",
   "execution_count": null,
   "id": "5b181f08",
   "metadata": {},
   "outputs": [],
   "source": []
  },
  {
   "cell_type": "code",
   "execution_count": null,
   "id": "d361500b",
   "metadata": {},
   "outputs": [],
   "source": []
  },
  {
   "cell_type": "markdown",
   "id": "0f237f09",
   "metadata": {},
   "source": [
    "## Validation"
   ]
  },
  {
   "cell_type": "code",
   "execution_count": 132,
   "id": "36c462e7",
   "metadata": {},
   "outputs": [],
   "source": [
    "# epochs = 50\n",
    "\n",
    "# for epoch in range(epochs):\n",
    "#     train_loss = 0.0\n",
    "#     train_correct = 0\n",
    "#     train_total = 0\n",
    "#     test_loss = 0.0\n",
    "#     test_correct = 0\n",
    "#     test_total = 0\n",
    "\n",
    "#     # Training Phase\n",
    "#     model.train()\n",
    "#     for inputs, labels in train_dataloader:\n",
    "#         # Zero the gradients\n",
    "#         optimizer.zero_grad()\n",
    "\n",
    "#         # Forward pass\n",
    "#         outputs = model(inputs)\n",
    "\n",
    "#         # Calculate the loss\n",
    "#         loss = criterion(outputs, labels)\n",
    "\n",
    "#         # Backward pass and optimization\n",
    "#         loss.backward()\n",
    "#         optimizer.step()\n",
    "\n",
    "#         # Update training loss and accuracy\n",
    "#         train_loss += loss.item() * inputs.size(0)\n",
    "#         predicted = (outputs > 0.5).float() # Threshold at 0.5 for binary classification\n",
    "#         train_total += labels.size(0)\n",
    "#         train_correct += (predicted == labels).sum().item()\n",
    "\n",
    "#     avg_train_loss = train_loss / train_total\n",
    "#     train_accuracy = 100 * train_correct / train_total\n",
    "\n",
    "#     # Evaluation Phase\n",
    "#     model.eval()\n",
    "#     with torch.no_grad():\n",
    "#         for inputs, labels in validation_dataloder:\n",
    "#             # Forward pass\n",
    "#             outputs = model(inputs)\n",
    "\n",
    "#             # Calculate the loss\n",
    "#             loss = criterion(outputs, labels)\n",
    "\n",
    "#             # Update test loss and accuracy\n",
    "#             test_loss += loss.item() * inputs.size(0)\n",
    "#             predicted = (outputs > 0.5).float()\n",
    "#             test_total += labels.size(0)\n",
    "#             test_correct += (predicted == labels).sum().item()\n",
    "\n",
    "#     avg_test_loss = test_loss / test_total\n",
    "#     test_accuracy = 100 * test_correct / test_total\n",
    "\n",
    "#     print(f\"Epoch [{epoch+1}/{epochs}], \"\n",
    "#           f\"Train Loss: {avg_train_loss:.4f}, Train Accuracy: {train_accuracy:.2f}%, \"\n",
    "#           f\"Test Loss: {avg_test_loss:.4f}, Test Accuracy: {test_accuracy:.2f}%\")\n",
    "\n",
    "# print(\"Finished Training\")"
   ]
  },
  {
   "cell_type": "code",
   "execution_count": null,
   "id": "160b80fd",
   "metadata": {},
   "outputs": [],
   "source": []
  }
 ],
 "metadata": {
  "kernelspec": {
   "display_name": ".venv",
   "language": "python",
   "name": "python3"
  },
  "language_info": {
   "codemirror_mode": {
    "name": "ipython",
    "version": 3
   },
   "file_extension": ".py",
   "mimetype": "text/x-python",
   "name": "python",
   "nbconvert_exporter": "python",
   "pygments_lexer": "ipython3",
   "version": "3.13.2"
  }
 },
 "nbformat": 4,
 "nbformat_minor": 5
}
