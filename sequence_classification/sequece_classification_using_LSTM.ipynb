{
 "cells": [
  {
   "cell_type": "code",
   "execution_count": 34,
   "id": "4328e959-3028-4c03-bb7d-e71fe6635b6d",
   "metadata": {},
   "outputs": [],
   "source": [
    "!pip install nltk -q"
   ]
  },
  {
   "cell_type": "code",
   "execution_count": 41,
   "id": "03d54b78-57da-41c3-a740-901d36f6c4bd",
   "metadata": {},
   "outputs": [],
   "source": [
    "import warnings \n",
    "warnings.filterwarnings(\"ignore\")"
   ]
  },
  {
   "cell_type": "code",
   "execution_count": 125,
   "id": "1c26891b-f40f-4cfa-8d85-0bf4a497ad48",
   "metadata": {},
   "outputs": [],
   "source": [
    "import os\n",
    "import sys\n",
    "import torch\n",
    "import torch.nn as nn \n",
    "import os\n",
    "\n",
    "import matplotlib.pyplot as plt \n",
    "import seaborn as sns\n",
    "import pandas as pd\n",
    "import numpy as np \n",
    "\n",
    "# torch \n",
    "from torch.utils.data import DataLoader, Dataset\n",
    "import torch.nn.functional as F\n",
    "from torch import optim \n",
    "\n",
    "# torchtexts\n",
    "# from torchtext.data.utils import get_tokenizer\n",
    "# from torchtext.datasets import AG_NEWS\n",
    "# from torchtext.vocab import build_vocab_from_iterator\n",
    "# import torchtext.transforms as T\n",
    "\n",
    "from tqdm import tqdm\n",
    "from collections import Counter\n"
   ]
  },
  {
   "cell_type": "code",
   "execution_count": 43,
   "id": "ec391bd1-0ca2-4826-b85d-aa3f04ecdbf4",
   "metadata": {},
   "outputs": [
    {
     "name": "stdout",
     "output_type": "stream",
     "text": [
      "{'very', 'with', 'some', 'more', \"we'll\", 'through', 'do', 'if', 'about', 'a', 'doesn', \"i'd\", 'there', 'itself', \"hadn't\", 'couldn', 'yourselves', 'shan', 'now', 'when', 'at', 're', 'them', 'to', 'ain', 'here', 'shouldn', 'because', 'an', 'by', 'are', 'just', \"should've\", \"needn't\", 'this', \"mustn't\", \"couldn't\", \"he'd\", 'their', \"she'll\", 'does', \"they're\", 'other', 'until', 'in', 'hadn', 'its', \"mightn't\", 'off', 'my', 'the', 'only', 'she', 'yours', \"you'd\", \"wasn't\", 'but', \"they'd\", 'who', 'should', \"shouldn't\", \"he'll\", 'over', \"doesn't\", \"hasn't\", \"i've\", \"i'll\", \"it's\", \"aren't\", 'can', 'and', 'of', 'isn', 'is', 'own', 'what', \"i'm\", 'hasn', 'themselves', 'mustn', 'during', \"we're\", 'being', 'while', 'so', \"you're\", 'yourself', 'down', 'on', 'him', 'any', 'how', 'few', 'be', 'our', \"they've\", 'his', 'same', 'theirs', 'these', 'out', 'than', 'which', 'ma', \"she's\", \"that'll\", 'most', 'or', 'after', \"isn't\", 'have', 'aren', 'were', 'each', 'having', 't', \"it'd\", 'did', 'don', 'he', 'against', 'both', 'himself', \"didn't\", \"weren't\", 'again', 'between', 'weren', 'me', 'mightn', 'once', 's', 'whom', 'into', 'below', \"haven't\", \"he's\", 'too', 'further', 'above', \"you've\", 'haven', 'nor', 'd', 'll', 'that', 'will', \"you'll\", 'y', 'those', \"they'll\", 'all', 'then', \"she'd\", 'such', 'ours', 'doing', 'for', 'your', 'myself', \"won't\", 'i', 'has', 'wouldn', 'o', 'her', 'won', 'why', 'where', 'been', \"shan't\", 'no', 'didn', 'had', \"wouldn't\", \"it'll\", 'up', 'you', 'as', 'they', 'from', 'herself', \"we've\", 'we', 'm', 'under', \"don't\", 'not', 'before', 've', \"we'd\", 'ourselves', 'hers', 'was', 'needn', 'am', 'wasn', 'it'}\n"
     ]
    },
    {
     "name": "stderr",
     "output_type": "stream",
     "text": [
      "[nltk_data] Downloading package stopwords to\n",
      "[nltk_data]     C:\\Users\\Dell\\AppData\\Roaming\\nltk_data...\n",
      "[nltk_data]   Package stopwords is already up-to-date!\n"
     ]
    }
   ],
   "source": [
    "import nltk\n",
    "nltk.download('stopwords') #Download the NLTK Stopwords\n",
    "from nltk.corpus import stopwords\n",
    "stopwords = set(stopwords.words(\"english\"))\n",
    "print(stopwords)"
   ]
  },
  {
   "cell_type": "code",
   "execution_count": 44,
   "id": "61886dc9-264b-4bdc-8dc6-4d260aa7bd90",
   "metadata": {},
   "outputs": [],
   "source": [
    "# Define the hyperparameters\n",
    "learning_rate = 1e-4  # Learning rate for the optimizer\n",
    "nepochs = 20  # Number of training epochs\n",
    "batch_size = 32  # Batch size for training\n",
    "\n",
    "max_len = 128  # Maximum length of input sequences\n",
    "data_set_root = \"./datasets\"  # Root directory of the dataset"
   ]
  },
  {
   "cell_type": "markdown",
   "id": "17bdd51e-39a1-4f56-bc1e-b5f033cb63bb",
   "metadata": {},
   "source": [
    "# Dataset, Tokenizers and Vocab!"
   ]
  },
  {
   "cell_type": "code",
   "execution_count": 17,
   "id": "a76f3d69-cf60-47ed-814d-fe3599609749",
   "metadata": {},
   "outputs": [
    {
     "data": {
      "text/plain": [
       "(['labeledBow.feat',\n",
       "  'neg',\n",
       "  'pos',\n",
       "  'unsup',\n",
       "  'unsupBow.feat',\n",
       "  'urls_neg.txt',\n",
       "  'urls_pos.txt',\n",
       "  'urls_unsup.txt'],\n",
       " ['0_9.txt', '10000_8.txt', '10001_10.txt', '10002_7.txt', '10003_8.txt'],\n",
       " 10121,\n",
       " 12500)"
      ]
     },
     "execution_count": 17,
     "metadata": {},
     "output_type": "execute_result"
    }
   ],
   "source": [
    "dataset_root_dir=  os.path.join(\"..\",\"data\",\"aclImdb\",\"train\")\n",
    "train_pos_dir_path= os.path.join(dataset_root_dir, \"pos\")\n",
    "train_neg_dir_path= os.path.join(dataset_root_dir, \"neg\")\n",
    "\n",
    "os.listdir(dataset_root_dir), os.listdir(train_pos_dir_path)[:5], len(os.listdir(train_pos_dir_path)), len(os.listdir(train_neg_dir_path))"
   ]
  },
  {
   "cell_type": "markdown",
   "id": "d487939e-0f1f-476d-ac66-9b9888c038ce",
   "metadata": {},
   "source": [
    "## Create the vocabulary"
   ]
  },
  {
   "cell_type": "code",
   "execution_count": 18,
   "id": "3e4175cb-4403-4b5d-99e3-739cbd0ed9f5",
   "metadata": {},
   "outputs": [
    {
     "name": "stdout",
     "output_type": "stream",
     "text": [
      "Average Sentence Length 124.03602846912162\n"
     ]
    }
   ],
   "source": [
    "import string\n",
    "import re\n",
    "from nltk.tokenize import word_tokenize\n",
    "from nltk.corpus import stopwords\n",
    "import numpy as np\n",
    "\n",
    "dataset_root_dir=  os.path.join(\"..\",\"data\",\"aclImdb\",\"train\")\n",
    "train_pos_dir_path= os.path.join(dataset_root_dir, \"pos\")\n",
    "train_neg_dir_path= os.path.join(dataset_root_dir, \"neg\")\n",
    "\n",
    "path_to_pos_text:list = [os.path.join(train_pos_dir_path, x) for x in os.listdir(train_pos_dir_path)]\n",
    "path_to_neg_text:list = [os.path.join(train_neg_dir_path, x) for x in os.listdir(train_neg_dir_path)]\n",
    "\n",
    "complete_training_data_path :list=  path_to_pos_text + path_to_neg_text\n",
    "\n",
    "punctuations= string.punctuation\n",
    "stopwords = set(stopwords.words(\"english\"))\n",
    "\n",
    "### Easy Text Analysis ###\n",
    "\n",
    "alltxt = []\n",
    "len_words = []\n",
    "\n",
    "for file in complete_training_data_path:\n",
    "    with open(file, \"r\", encoding=\"utf-8\") as f:\n",
    "        text_data:list = f.readlines()\n",
    "        text_data:str = text_data[0].strip().lower()\n",
    "        text_data:str = \"\".join([x for x in text_data if x not in punctuations]) # remove punctuations\n",
    "        text_data:list = word_tokenize(text_data)\n",
    "        text_data= [x for x in text_data if (x not in stopwords) and (len(x) > 0)] #remove stopwords and blank text\n",
    "        alltxt += text_data\n",
    "        len_words.append(len(text_data)) \n",
    "        f.close()\n",
    "\n",
    "import numpy as np\n",
    "print(\"Average Sentence Length\", np.mean(len_words))\n",
    "\n"
   ]
  },
  {
   "cell_type": "code",
   "execution_count": 22,
   "id": "578c728d-6d8f-4f80-8164-36bd8d6a5fcb",
   "metadata": {},
   "outputs": [
    {
     "data": {
      "image/png": "[encoded data removed]",
      "text/plain": [
       "<Figure size 500x500 with 1 Axes>"
      ]
     },
     "metadata": {},
     "output_type": "display_data"
    }
   ],
   "source": [
    "sns.displot(len_words, bins= 50 , kde=True, color=\"red\")\n",
    "plt.xlabel(\"len of sequence\")\n",
    "plt.show()"
   ]
  },
  {
   "cell_type": "markdown",
   "id": "795fcd9d-e65d-4504-8ef7-db29d1cb9feb",
   "metadata": {},
   "source": [
    "## Build Vocabulary"
   ]
  },
  {
   "cell_type": "code",
   "execution_count": 26,
   "id": "8db3d080-5b8b-4134-8ca6-c553035930a8",
   "metadata": {},
   "outputs": [
    {
     "name": "stdout",
     "output_type": "stream",
     "text": [
      "Unique voacbulary words count :  114390\n",
      "Filtered voacbulary words count :  904\n"
     ]
    }
   ],
   "source": [
    "#### GEt conunt and unique words ####\n",
    "unique_counts = dict(Counter(alltxt))\n",
    "\n",
    "words = sorted([key for (key,value) in unique_counts.items() if value > 500])  # select the words having frequncy > 500\n",
    "\n",
    "# add special tokens\n",
    "words.append(\"<UNK>\")\n",
    "words.append(\"<PAD>\")\n",
    "\n",
    "word2indx= {word:idx for idx, word in enumerate(words)}\n",
    "indx2word = {idx:word for idx, word in enumerate(words)}\n",
    "\n",
    "print(f\"Unique voacbulary words count : \", len(unique_counts))\n",
    "print(f\"Filtered voacbulary words count : \", len(word2indx))"
   ]
  },
  {
   "cell_type": "code",
   "execution_count": 25,
   "id": "3682d2b4-e9a6-4534-bdb2-77bcdd5cd5c7",
   "metadata": {},
   "outputs": [],
   "source": [
    "import json\n",
    "from datetime import datetime\n",
    "# Metadata and structure\n",
    "vocab_data = {\n",
    "    \"version\": \"1.0\",\n",
    "    \"created_at\": datetime.now().strftime(\"%Y-%m-%d %H:%M:%S\"),\n",
    "    \"vocabulary\": word2indx\n",
    "}\n",
    "\n",
    "vocab_filepath= \"Vocabulary.json\"\n",
    "with open(vocab_filepath, \"w\", encoding=\"utf-8\") as f:\n",
    "    json.dump(vocab_data, f, indent=4)\n",
    "    f.close()\n",
    "\n",
    "print(f\"Vocabulary saved to {vocab_filepath} file..\")"
   ]
  },
  {
   "cell_type": "markdown",
   "id": "949d274e-5f8e-400b-bdb3-d1c3f0f88e93",
   "metadata": {},
   "source": [
    "## Load vocabulary"
   ]
  },
  {
   "cell_type": "code",
   "execution_count": 30,
   "id": "029508c9-d418-40ed-9749-9e82fa287056",
   "metadata": {},
   "outputs": [
    {
     "name": "stdout",
     "output_type": "stream",
     "text": [
      "Vocabulary loaded successfully! \n",
      "\n",
      "dict_keys(['version', 'created_at', 'vocabulary']) \n",
      "\n",
      "Metadata : \n",
      "\t 1.0 \n",
      "\t 2025-04-28 17:24:10\n"
     ]
    }
   ],
   "source": [
    "# load vocab_data\n",
    "vocab_filepath= \"Vocabulary.json\"\n",
    "\n",
    "def load_vocabulary(vocab_filepath):\n",
    "    if os.path.exists(vocab_filepath):\n",
    "        try:\n",
    "            with open(vocab_filepath, \"r\") as f:\n",
    "                v_ = json.load(f)\n",
    "                f.close()\n",
    "                print(\"Vocabulary loaded successfully! \\n\")\n",
    "                \n",
    "        except json.JSONDecodeError as e:\n",
    "            print(f\"Error decoding JSON: {e}\")\n",
    "            \n",
    "        except Exception as e:\n",
    "            raise e\n",
    "    else:\n",
    "        print(f\"Provided path {vocab_filepath} does not exists\")\n",
    "    return v_ \n",
    "\n",
    "\n",
    "vocab_= load_vocabulary(vocab_filepath)\n",
    "print(vocab_.keys(), \"\\n\")\n",
    "print(f\"Metadata : \\n\\t {vocab_['version']} \\n\\t {vocab_['created_at']}\")\n",
    "vocabulary= vocab_['vocabulary']"
   ]
  },
  {
   "cell_type": "markdown",
   "id": "8ebd6d57-e23c-4a81-93c1-03b535d62553",
   "metadata": {},
   "source": [
    "# Build IMDB Dataset\n",
    "\n",
    "We want to follow the same preprocessing steps we did above to make sure its accurate. We will fill words that are not in our tokenizer with Unknown tokens. This will follow our"
   ]
  },
  {
   "cell_type": "code",
   "execution_count": 154,
   "id": "c86f7aaa-63af-4cf6-a212-2972975d368b",
   "metadata": {},
   "outputs": [],
   "source": [
    "class MyDataset(Dataset): \n",
    "    def __init__(self, path_to_data, word2idx, max_seq_len=200):\n",
    "        self.word2idx= word2idx\n",
    "        path_to_pos_fld = os.path.join(path_to_data, \"pos\")\n",
    "        path_to_neg_fld = os.path.join(path_to_data, \"neg\")\n",
    "        \n",
    "        path_to_pos_txt = [os.path.join(path_to_pos_fld, file) for file in os.listdir(path_to_pos_fld)]\n",
    "        path_to_neg_txt = [os.path.join(path_to_neg_fld, file) for file in os.listdir(path_to_neg_fld)]\n",
    "        \n",
    "        self.training_files = path_to_pos_txt + path_to_neg_txt\n",
    "        self.tokenizer = word2idx #tokenize the text (word to int)\n",
    "        self.max_len = max_seq_len\n",
    "    \n",
    "    def __len__(self):\n",
    "        return len(self.training_files) \n",
    "\n",
    "    def __getitem__(self, idx):\n",
    "        path_to_txt = self.training_files[idx]\n",
    "\n",
    "        #### prep text #### \n",
    "        with open(path_to_txt,\"r\", encoding=\"utf-8\") as f:\n",
    "             txt = f.readlines()[0].strip().lower()\n",
    "             f.close()\n",
    "        \n",
    "        txt:str = \"\".join([x for x in txt if x not in punctuations]) # remove punctuations\n",
    "        txt:list = word_tokenize(txt)\n",
    "        txt = [x for x in txt if (x not in stopwords) and (len(x) > 0)] #remove stopwords and blank text\n",
    "        \n",
    "        tokenized= [] \n",
    "        for word in txt:\n",
    "             if word in self.tokenizer.keys():\n",
    "                 tokenized.append(self.tokenizer[word])\n",
    "             else:\n",
    "                 tokenized.append(self.tokenizer['<UNK>'])\n",
    "        \n",
    "        sample = torch.tensor(tokenized)\n",
    "        if len(sample) > self.max_len:\n",
    "            diff = len(sample) - self.max_len\n",
    "            start_idx = np.random.randint(diff)\n",
    "            sample = sample[start_idx:start_idx+self.max_len]\n",
    "\n",
    "        ### GRAB CLASS LABEL ###\n",
    "        if \"neg\" in path_to_txt:\n",
    "            label = 0\n",
    "        else:\n",
    "            label = 1\n",
    "            \n",
    "        return sample, label        \n"
   ]
  },
  {
   "cell_type": "code",
   "execution_count": 155,
   "id": "7212fb37-fde8-4d8c-8864-007561726eae",
   "metadata": {},
   "outputs": [
    {
     "name": "stdout",
     "output_type": "stream",
     "text": [
      "torch.Size([72])\n",
      "1\n"
     ]
    }
   ],
   "source": [
    "imdbdataset = MyDataset(dataset_root_dir, vocabulary)\n",
    "### Check Dataset Works ###\n",
    "counter = 0\n",
    "for data, label in imdbdataset:\n",
    "    print(data.shape)\n",
    "    print(label)\n",
    "    break\n",
    "    "
   ]
  },
  {
   "cell_type": "code",
   "execution_count": 156,
   "id": "d3586e04-825d-4be2-8a2a-c34d98e61c87",
   "metadata": {},
   "outputs": [],
   "source": [
    "### Write Custom Collator ###\n",
    "def data_collator(batch):\n",
    "    texts, labels = [], []\n",
    "    \n",
    "    for text, label in batch:\n",
    "        labels.append(label)\n",
    "        texts.append(text)\n",
    "        \n",
    "    labels = torch.tensor(labels)\n",
    "    \n",
    "    ### Pad the list of sequences and then convert to tensor like example above but with our padding token <PAD> ###\n",
    "    texts = nn.utils.rnn.pad_sequence(texts, batch_first=True, padding_value=word2idx[\"<PAD>\"])\n",
    "    return texts, labels   \n"
   ]
  },
  {
   "cell_type": "code",
   "execution_count": 157,
   "id": "949847fa-f1ad-4429-b385-d2948efe6342",
   "metadata": {},
   "outputs": [
    {
     "name": "stdout",
     "output_type": "stream",
     "text": [
      "tensor([[902, 902, 902,  ..., 903, 903, 903],\n",
      "        [881, 902, 508,  ..., 903, 903, 903],\n",
      "        [572, 191, 902,  ..., 903, 903, 903],\n",
      "        ...,\n",
      "        [902, 134, 623,  ..., 903, 903, 903],\n",
      "        [902, 902, 902,  ..., 903, 903, 903],\n",
      "        [103, 172,  15,  ..., 903, 903, 903]])\n",
      "tensor([0, 0, 1, 1, 0, 0, 1, 0, 1, 1, 1, 1, 0, 1, 1, 0])\n"
     ]
    }
   ],
   "source": [
    "#### Data Loader ####\n",
    "imdbloader = DataLoader(imdbdataset, \n",
    "                        batch_size=16, \n",
    "                        shuffle=True, \n",
    "                        collate_fn=data_collator)\n",
    "\n",
    "\n",
    "counter = 0\n",
    "for text, label in imdbloader:\n",
    "    print(text)\n",
    "    print(label)\n",
    "    break"
   ]
  },
  {
   "cell_type": "markdown",
   "id": "7f9e3fdf-15ca-4bad-a4ea-a92a6641819a",
   "metadata": {},
   "source": [
    "Our Dataset has now been converted to a series of numbers, but we still have a small issue. These numbers don't really mean anything... We just randomly assigned some integer value to each of these words but that doesn't mean they can express the meaning of the word. Therefore we have to use something called an Embedding!"
   ]
  },
  {
   "cell_type": "markdown",
   "id": "5c13f03c-2b3f-4277-bce5-dee7c3cfd5b1",
   "metadata": {},
   "source": [
    "# Embedding\n",
    "\n",
    "Embeddings are numerical representation of some concept. In our case specifically, we want to represent a specific word with a vector of lenght 256 (arbritrary value that I picked, you can use much larger embedding dimensions). Our goal during the training process is to have words that are similar in meaning to have vectors that are closer together in the high dimensional space. For example, we want words like, Bad, Horrible, and Terrible to be closer together but far apart from words like Good, Amazing, Incredible. To do this we can use something known as a PyTorch Embedding!\n",
    "\n",
    "The embedding we want will have a row for each unique word in our corpus (along with unknown and padding) and the width will be our embedding dimension. This will be a simple lookup table, where if we want the embedding that goes with the word labeled with the index 3, then we grab the 3rd row of the embedding table. Lets try this!"
   ]
  },
  {
   "cell_type": "code",
   "execution_count": 158,
   "id": "5775fcd3-d2c1-4d3c-a856-82f1754a3c63",
   "metadata": {},
   "outputs": [
    {
     "name": "stdout",
     "output_type": "stream",
     "text": [
      "Embedding Weights\n",
      "Parameter containing:\n",
      "tensor([[ 0.5464, -0.2611,  0.4911],\n",
      "        [ 1.5574,  1.9191,  1.1514],\n",
      "        [ 1.4311, -0.1380, -0.2176],\n",
      "        [ 0.4189,  0.4691, -0.4236],\n",
      "        [ 0.3551, -0.9436, -0.1065]], requires_grad=True)\n",
      "Embedding for Single Sentence\n",
      "tensor([[ 1.5574,  1.9191,  1.1514],\n",
      "        [ 0.4189,  0.4691, -0.4236]], grad_fn=<EmbeddingBackward0>)\n",
      "torch.Size([2, 3])\n",
      "Embedding for Batch Sentence\n",
      "Batch shape :  torch.Size([3, 2])\n",
      "tensor([[[ 1.5574,  1.9191,  1.1514],\n",
      "         [ 0.4189,  0.4691, -0.4236]],\n",
      "\n",
      "        [[ 1.5574,  1.9191,  1.1514],\n",
      "         [ 0.4189,  0.4691, -0.4236]],\n",
      "\n",
      "        [[ 1.5574,  1.9191,  1.1514],\n",
      "         [ 0.4189,  0.4691, -0.4236]]], grad_fn=<EmbeddingBackward0>)\n",
      "torch.Size([3, 2, 3])\n"
     ]
    }
   ],
   "source": [
    "emb = nn.Embedding(5,3)\n",
    "\n",
    "print(\"Embedding Weights\")\n",
    "print(emb.weight)\n",
    "\n",
    "print(\"Embedding for Single Sentence\")\n",
    "sentence = torch.tensor([1, 3]) # Sentence words as a list of numbers\n",
    "print(emb(sentence))\n",
    "print(emb(sentence).shape)\n",
    "\n",
    "print(\"Embedding for Batch Sentence\")\n",
    "batch_sentences = torch.tensor([[1,3], \n",
    "                                [1,3], \n",
    "                                [1,3]])\n",
    "print(\"Batch shape : \" , batch_sentences.shape)\n",
    "print(emb(batch_sentences))\n",
    "print(emb(batch_sentences).shape) # batch_size, seq_len, emb_dims\n"
   ]
  },
  {
   "cell_type": "code",
   "execution_count": 159,
   "id": "48ed8c0e-4e18-4440-ade9-4320ba3699b3",
   "metadata": {},
   "outputs": [
    {
     "name": "stdout",
     "output_type": "stream",
     "text": [
      "tensor([[ 1.4311, -0.1380, -0.2176],\n",
      "        [ 1.4311, -0.1380, -0.2176],\n",
      "        [ 1.4311, -0.1380, -0.2176],\n",
      "        [ 0.4189,  0.4691, -0.4236]], grad_fn=<EmbeddingBackward0>)\n",
      "torch.Size([4, 3])\n"
     ]
    }
   ],
   "source": [
    "sentence = torch.tensor([2, 2, 2, 3]) # Sentence words as a list of numbers\n",
    "print(emb(sentence))\n",
    "print(emb(sentence).shape)"
   ]
  },
  {
   "cell_type": "markdown",
   "id": "df95ef63-78ec-466e-889d-e188f7838385",
   "metadata": {},
   "source": [
    "**Explore the LSTM Module**\n",
    "\n",
    "```python\n",
    "nn.LSTM(input_size,  # Expected number of features per input (in our case it will be the embedding depth)\n",
    "        hidden_size, # Number of features in Hidden State\n",
    "        num_layers,  # Number of LSTM Cells we want to stack\n",
    "        batch_first, # Will our tensor have batch dimension or sequence dimension first\n",
    ")\n",
    "```\n",
    "\n",
    "**Inputs to the LSTM**\n",
    "\n",
    "    H0: Num Layers x batch_size x Hidden Size -> Initialized as 0 if no information given\n",
    "    C0: Num Layers x batch_size x Hidden Size -> Initialized as 0 if no information give\n",
    "\n"
   ]
  },
  {
   "cell_type": "code",
   "execution_count": 160,
   "id": "99188880-a67e-42e9-a852-becf520f9988",
   "metadata": {},
   "outputs": [
    {
     "name": "stdout",
     "output_type": "stream",
     "text": [
      "Output: torch.Size([5, 15, 20])\n",
      "Final H: torch.Size([2, 5, 20])\n",
      "Final c: torch.Size([2, 5, 20])\n"
     ]
    },
    {
     "data": {
      "text/plain": [
       "tensor([True, True, True, True, True, True, True, True, True, True, True, True,\n",
       "        True, True, True, True, True, True, True, True])"
      ]
     },
     "execution_count": 160,
     "metadata": {},
     "output_type": "execute_result"
    }
   ],
   "source": [
    "batch_size = 5        # How Many Samples\n",
    "sequence_length = 15  # Sequence Length Per Sample\n",
    "input_size = 10       # Dimension of vector for each timestep in sequence per sample      \n",
    "hidden_size = 20      # Dimension expansion from Input size Inside the LSTM cell\n",
    "num_layers = 2        # Number of LSTM Cells\n",
    "\n",
    "lstm = nn.LSTM(input_size=input_size,\n",
    "               hidden_size=hidden_size, \n",
    "               num_layers=num_layers,\n",
    "               batch_first=True)\n",
    "\n",
    "\n",
    "\n",
    "rand = torch.rand(batch_size, sequence_length, input_size) # Batch x sequence length x input_size\n",
    "h0 = torch.zeros(num_layers, batch_size, hidden_size)      # Num Layers x Batch Size x Hidden State\n",
    "c0 = torch.zeros(num_layers, batch_size, hidden_size)      # Num Layers x Batch Size x Hidden State\n",
    "\n",
    "output, (hn, cn) = lstm(rand, (h0, c0))\n",
    "\n",
    "print(\"Output:\", output.shape) # Returns Batch Size x Sequence Length x Hidden Size -> Hidden state for each timestep\n",
    "print(\"Final H:\", hn.shape)    # Returns Num Layers x Batch Size x Hidden Size -> Last Hidden state for every layer\n",
    "print(\"Final c:\", cn.shape)    # Returns Num Layers x Batch Size x Hidden Size -> Last Hidden state for every layer\n",
    "\n",
    "hn[-1][0] == output[0][-1] # Check if the Last layer, first sample of Hn has same hidden size as first sample, last timestep of output"
   ]
  },
  {
   "cell_type": "code",
   "execution_count": 161,
   "id": "e31f62f3-18fe-4439-b850-1ae1b46a7a88",
   "metadata": {},
   "outputs": [
    {
     "data": {
      "text/plain": [
       "torch.Size([5, 15, 20])"
      ]
     },
     "execution_count": 161,
     "metadata": {},
     "output_type": "execute_result"
    }
   ],
   "source": [
    "output.shape"
   ]
  },
  {
   "cell_type": "code",
   "execution_count": 162,
   "id": "7d6e122a-a0a9-4050-a3ae-92fee1a8f9ed",
   "metadata": {},
   "outputs": [
    {
     "data": {
      "text/plain": [
       "(tensor([ 0.0424,  0.0389,  0.0940,  0.0288, -0.0779,  0.1395, -0.1450,  0.1436,\n",
       "         -0.0711,  0.0852,  0.0281, -0.0388,  0.0989, -0.0089, -0.1089, -0.0018,\n",
       "          0.0923,  0.1267,  0.0961,  0.0648], grad_fn=<SelectBackward0>),\n",
       " torch.Size([20]))"
      ]
     },
     "execution_count": 162,
     "metadata": {},
     "output_type": "execute_result"
    }
   ],
   "source": [
    "output[0][-1], output[0][-1].shape"
   ]
  },
  {
   "cell_type": "markdown",
   "id": "bf3b31ad-e33d-414c-a624-535fe8fa2297",
   "metadata": {},
   "source": [
    "# Model Design"
   ]
  },
  {
   "cell_type": "code",
   "execution_count": 163,
   "id": "eb7170b3-00fd-4bc6-8e99-26d98e4d5824",
   "metadata": {},
   "outputs": [],
   "source": [
    "class MyLSTM(nn.Module):\n",
    "    def __init__(self, vocab_size, embedding_dims, no_layers, no_hidden, no_classes, device):\n",
    "        super(MyLSTM, self).__init__()\n",
    "        # super().__init__()\n",
    "        self.vocab_size:int = vocab_size \n",
    "        self.embedding_dims:int = embedding_dims\n",
    "        self.no_layers:int = no_layers \n",
    "        self.no_hidden:int = no_hidden \n",
    "        self.classes:int = no_classes \n",
    "        self.device = device \n",
    "\n",
    "        #### Define the EMbddding Layer #### \n",
    "        self.embedding = nn.Embedding(self.vocab_size, self.embedding_dims)\n",
    "\n",
    "        ## Define the LSTM Layer ## \n",
    "        self.lstm= nn.LSTM(input_size= self.embedding_dims, \n",
    "                              hidden_size= self.no_hidden, \n",
    "                               num_layers= self.no_layers, \n",
    "                               batch_first=True,\n",
    "                               dropout= 0.2)\n",
    "\n",
    "        ## Final classifier layers ## \n",
    "        self.dropout= nn.Dropout(0.2)\n",
    "        self.dense= nn.Linear(in_features= self.no_hidden, \n",
    "                             out_features= self.classes)\n",
    "\n",
    "    def forward(self, x):\n",
    "        \n",
    "        ### INITIALIZE HIDDEN AND CELL STATE AS 0 ###\n",
    "        # h0 = torch.zeros(self.num_layers, batch_size, self.hidden_size).to(self.device)  # Num Layers x Batch Size x Hidden State\n",
    "        # c0 = torch.zeros(self.num_layers, batch_size, self.hidden_size).to(self.device)  # Num Layers x Batch Size x Hidden State\n",
    "        \n",
    "        x = self.embedding(x) # batch_size, seq_len, embed_dims \n",
    "        \n",
    "        op, (hn, cn) = self.lstm(x) # pass through LSTM (without zero h0, c0 intitalization)\n",
    "        last_hidden= op[ : ,-1 ,: ] #Extract the last hidden cell of each batch\n",
    "        \n",
    "        out= self.dropout(last_hidden)\n",
    "        out = self.dense(out)\n",
    "        return out\n",
    "    "
   ]
  },
  {
   "cell_type": "code",
   "execution_count": 164,
   "id": "293118f1-5630-4439-bef8-d6635b096142",
   "metadata": {},
   "outputs": [
    {
     "name": "stdout",
     "output_type": "stream",
     "text": [
      "Training on Device cpu\n"
     ]
    }
   ],
   "source": [
    "\n",
    "## SELECT DEVICE ##\n",
    "device= \"cuda\" if torch.cuda.is_available() else \"cpu\"\n",
    "print(f\"Training on Device {device}\")\n",
    "\n",
    "## Load the model ## \n",
    "model= MyLSTM(vocab_size= len(vocabulary), \n",
    "                embedding_dims=128,\n",
    "                no_layers=1,\n",
    "                no_classes=2, \n",
    "                no_hidden= 256, \n",
    "                device= device)\n",
    "\n",
    "model= model.to(device)\n",
    "\n",
    "## Model Training Args ## \n",
    "epochs = 15\n",
    "optimizer = optim.Adam(params=model.parameters(), lr=0.0005)\n",
    "loss_fn = nn.CrossEntropyLoss()\n",
    "batch_size = 128\n",
    "\n",
    "#### Build Training and Testing Dataset ####\n",
    "train_dataset = MyDataset(os.path.join(\"..\",\"data\",\"aclImdb\",\"train\"), vocabulary)\n",
    "test_dataset = MyDataset(os.path.join(\"..\",\"data\",\"aclImdb\",\"test\"), vocabulary)\n",
    "\n",
    "trainloader = DataLoader(train_dataset, batch_size=128, shuffle=True, collate_fn=data_collator)\n",
    "valloader = DataLoader(test_dataset, batch_size=128, shuffle=False, collate_fn=data_collator)\n",
    "\n",
    "def train(model, device, epochs, optimizer, loss_fn, batch_size, trainloader, valloader):\n",
    "    log_training = {\"epoch\": [],\n",
    "                    \"training_loss\": [],\n",
    "                    \"training_acc\": [],\n",
    "                    \"validation_loss\": [],\n",
    "                    \"validation_acc\": []}\n",
    "    \n",
    "    for epoch in range(1, epochs + 1):\n",
    "        print(f\"Starting Epoch {epoch}\")\n",
    "        training_losses, training_accuracies = [], []\n",
    "        validation_losses, validation_accuracies = [], []\n",
    "         \n",
    "        model.train() # Turn On BatchNorm and Dropout\n",
    "\n",
    "        for sent_, label in tqdm(trainloader):\n",
    "            sent_, label = sent_.to(device), label.to(device)\n",
    "            output= model(sent_)\n",
    "            # print(output.shape, label.shape)\n",
    "\n",
    "            ## calculate loss \n",
    "            loss= loss_fn(output, label)\n",
    "            training_losses.append(loss.item())\n",
    "\n",
    "            ## update the parameters \n",
    "            optimizer.zero_grad() \n",
    "            loss.backward() \n",
    "            nn.utils.clip_grad_norm_(model.parameters(), 5) # Just in case ot exploding gradient problem \n",
    "            optimizer.step() \n",
    "\n",
    "            ## Calculate the training accuracy\n",
    "            predictions = torch.argmax(output, axis=1) \n",
    "            correct_labels = (predictions == label).sum() / len(predictions)  # avg accu. \n",
    "            training_accuracies.append(correct_labels.item())\n",
    "\n",
    "        model.eval() #turning off the gradients\n",
    "        for sent_, label in tqdm(valloader):\n",
    "            sent_, label = sent_.to(device), label.to(device)\n",
    "            with torch.no_grad():\n",
    "                output= model(sent_) \n",
    "\n",
    "                ## calculate loss \n",
    "                loss= loss_fn(output, label)\n",
    "                validation_losses.append(loss.item())\n",
    "    \n",
    "                ## Calculate the training accuracy\n",
    "                predictions = torch.argmax(output, axis=1) \n",
    "                correct_labels = (predictions == label).sum() / len(predictions)  # avg accu. \n",
    "                validation_accuracies.append(correct_labels.item())\n",
    "                \n",
    "        ## per epoch\n",
    "        training_loss_mean, training_acc_mean = np.mean(training_losses), np.mean(training_accuracies)\n",
    "        valid_loss_mean, valid_acc_mean = np.mean(validation_losses), np.mean(validation_accuracies)\n",
    "    \n",
    "        log_training[\"epoch\"].append(epoch)\n",
    "        log_training[\"training_loss\"].append(training_loss_mean)\n",
    "        log_training[\"training_acc\"].append(training_acc_mean)\n",
    "        log_training[\"validation_loss\"].append(valid_loss_mean)\n",
    "        log_training[\"validation_acc\"].append(valid_acc_mean)\n",
    "\n",
    "        print(\"Training Loss:\", training_loss_mean) \n",
    "        print(\"Training Acc:\", training_acc_mean)\n",
    "        print(\"Validation Loss:\", valid_loss_mean)\n",
    "        print(\"Validation Acc:\", valid_acc_mean)\n",
    "        \n",
    "        return log_training, model    "
   ]
  },
  {
   "cell_type": "code",
   "execution_count": 165,
   "id": "95e10d28-c839-4434-b404-ffdb3e0371bd",
   "metadata": {},
   "outputs": [
    {
     "name": "stdout",
     "output_type": "stream",
     "text": [
      "Starting Epoch 1\n"
     ]
    },
    {
     "name": "stderr",
     "output_type": "stream",
     "text": [
      "100%|████████████████████████████████████████| 177/177 [16:39<00:00,  5.65s/it]\n",
      "100%|████████████████████████████████████████| 196/196 [04:23<00:00,  1.35s/it]"
     ]
    },
    {
     "name": "stdout",
     "output_type": "stream",
     "text": [
      "Training Loss: 0.6897203797674448\n",
      "Training Acc: 0.5432314448437449\n",
      "Validation Loss: 0.7060917144527241\n",
      "Validation Acc: 0.5073740433673469\n",
      "CPU times: total: 48min 46s\n",
      "Wall time: 21min 3s\n"
     ]
    },
    {
     "name": "stderr",
     "output_type": "stream",
     "text": [
      "\n"
     ]
    }
   ],
   "source": [
    "%%time\n",
    "training_logging, model = train(model=model,\n",
    "                                device=device,\n",
    "                                epochs=epochs,\n",
    "                                optimizer=optimizer,\n",
    "                                loss_fn=loss_fn,\n",
    "                                batch_size=batch_size,\n",
    "                                trainloader=trainloader,\n",
    "                                valloader=valloader)"
   ]
  },
  {
   "cell_type": "code",
   "execution_count": 111,
   "id": "52efbd2b-6323-42d3-9f26-373857374376",
   "metadata": {},
   "outputs": [],
   "source": [
    "!pip install tqdm -q"
   ]
  },
  {
   "cell_type": "code",
   "execution_count": null,
   "id": "4d9201d6-818b-41aa-91aa-632e38ecc056",
   "metadata": {},
   "outputs": [],
   "source": [
    "from "
   ]
  }
 ],
 "metadata": {
  "kernelspec": {
   "display_name": "Python 3 (ipykernel)",
   "language": "python",
   "name": "python3"
  },
  "language_info": {
   "codemirror_mode": {
    "name": "ipython",
    "version": 3
   },
   "file_extension": ".py",
   "mimetype": "text/x-python",
   "name": "python",
   "nbconvert_exporter": "python",
   "pygments_lexer": "ipython3",
   "version": "3.9.21"
  }
 },
 "nbformat": 4,
 "nbformat_minor": 5
}
