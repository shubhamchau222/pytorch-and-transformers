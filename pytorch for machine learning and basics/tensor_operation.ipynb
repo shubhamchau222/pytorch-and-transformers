{
 "cells": [
  {
   "cell_type": "code",
   "execution_count": 11,
   "id": "7e47449a-e54c-40e1-952a-39707b87e2a0",
   "metadata": {},
   "outputs": [],
   "source": [
    "import torch\n",
    "import torch.nn as nn\n",
    "import torch.optim as optim\n",
    "import torch.nn.functional as F\n",
    "from sklearn.linear_model import LinearRegression\n",
    "from sklearn.datasets import make_blobs\n",
    "from sklearn.manifold import TSNE\n",
    "\n",
    "import numpy as np"
   ]
  },
  {
   "cell_type": "code",
   "execution_count": 7,
   "id": "a55d798b-ead8-40e1-b7bd-3abd9185fb57",
   "metadata": {},
   "outputs": [],
   "source": [
    "# !pip install scikit-learn"
   ]
  },
  {
   "cell_type": "code",
   "execution_count": 27,
   "id": "3fb1598d-ee7a-470f-843b-1915d1a72327",
   "metadata": {},
   "outputs": [
    {
     "name": "stdout",
     "output_type": "stream",
     "text": [
      "tensor([1., 2., 3., 4.])\n",
      "torch.float32\n",
      "4\n",
      "True\n",
      "False\n"
     ]
    }
   ],
   "source": [
    "data= [1.0,2.0,3.0,4.0]\n",
    "tens= torch.tensor(data, dtype= torch.float32)\n",
    "print(tens)\n",
    "print(tens.dtype)\n",
    "print(torch.numel(tens)) # caculate the no elements in tensor \n",
    "print(torch.is_tensor(tens)) # check if the tensor is pytorch tensor \n",
    "print(torch.is_storage(tens)) # check if the tensor is storage object"
   ]
  },
  {
   "cell_type": "code",
   "execution_count": 32,
   "id": "c42d3e42-668a-4ba1-aaa5-be0adceb0c85",
   "metadata": {},
   "outputs": [
    {
     "name": "stdout",
     "output_type": "stream",
     "text": [
      "tensor([[-0.0524, -1.5450, -0.8416, -0.1129,  2.6054],\n",
      "        [-0.6808,  0.1024,  1.2642, -0.4304,  1.0985],\n",
      "        [ 1.0637, -0.9525,  0.1885, -1.4223,  0.9082],\n",
      "        [ 1.4314,  1.3149, -1.4689,  0.0597,  0.0546]])\n",
      "torch.Size([4, 5])\n"
     ]
    }
   ],
   "source": [
    "# create 2D tensor \n",
    "twod_tensor= torch.randn(4,5)\n",
    "print(twod_tensor)\n",
    "print(twod_tensor.shape)"
   ]
  },
  {
   "cell_type": "code",
   "execution_count": 37,
   "id": "135cd436-4af2-4280-9625-41969e7bb303",
   "metadata": {},
   "outputs": [
    {
     "name": "stdout",
     "output_type": "stream",
     "text": [
      "tensor([[-0.1180+0.0422j, -0.8695-0.4538j, -0.0198-0.4542j, -0.1506+0.2556j],\n",
      "        [ 0.8357-0.2877j,  0.2479+0.8276j, -0.7610-1.0618j, -0.1741+1.2067j]])\n",
      "torch.Size([2, 4])\n",
      "True\n"
     ]
    }
   ],
   "source": [
    "complex_tens= torch.randn(2,4, dtype= torch.complex64)\n",
    "print(complex_tens)\n",
    "print(complex_tens.shape)\n",
    "print(torch.is_complex(complex_tens)) #check if the tensor is complex dtype tensor"
   ]
  },
  {
   "cell_type": "code",
   "execution_count": 43,
   "id": "1aadc3fe-70c3-4621-8586-e5054b7255c4",
   "metadata": {},
   "outputs": [
    {
     "name": "stdout",
     "output_type": "stream",
     "text": [
      "tensor([[0., 0., 0., 0.],\n",
      "        [0., 0., 0., 0.]])\n",
      "tensor([[0.+0.j, 0.+0.j, 0.+0.j, 0.+0.j],\n",
      "        [0.+0.j, 0.+0.j, 0.+0.j, 0.+0.j]])\n"
     ]
    }
   ],
   "source": [
    "# create the zero tensor \n",
    "zeros = torch.zeros(2,4) # crete the zero tensor (given the dimensions)\n",
    "zeros_like= torch.zeros_like(complex_tens) #create the zero like tensor\n",
    "\n",
    "print(zeros)\n",
    "print(zeros_like)"
   ]
  },
  {
   "cell_type": "code",
   "execution_count": 45,
   "id": "9a6c3de6-654b-4650-8548-bea9c2dc11e1",
   "metadata": {},
   "outputs": [
    {
     "name": "stdout",
     "output_type": "stream",
     "text": [
      "tensor([[1., 1., 1., 1.],\n",
      "        [1., 1., 1., 1.]])\n",
      "tensor([[1.+0.j, 1.+0.j, 1.+0.j, 1.+0.j],\n",
      "        [1.+0.j, 1.+0.j, 1.+0.j, 1.+0.j]])\n"
     ]
    }
   ],
   "source": [
    "# create the zero tensor \n",
    "ones= torch.ones(2,4) # crete the zero tensor (given the dimensions)\n",
    "ones_like= torch.ones_like(complex_tens) #create the zero like tensor\n",
    "\n",
    "print(ones)\n",
    "print(ones_like)"
   ]
  },
  {
   "cell_type": "code",
   "execution_count": 46,
   "id": "7bd1f6a9-0865-4474-90a8-094230ea6d9e",
   "metadata": {},
   "outputs": [
    {
     "name": "stdout",
     "output_type": "stream",
     "text": [
      "tensor([1.0000e-10, 1.0000e-05, 1.0000e+00, 1.0000e+05, 1.0000e+10])\n"
     ]
    }
   ],
   "source": [
    "#create the loglike tensor \n",
    "log_tens = torch.logspace(start=-10, end=10, steps=5)\n",
    "print(log_tens)"
   ]
  },
  {
   "cell_type": "code",
   "execution_count": 58,
   "id": "de19c1b6-1bd9-43e7-97ba-b12a9065fa51",
   "metadata": {},
   "outputs": [
    {
     "name": "stdout",
     "output_type": "stream",
     "text": [
      "tensor([0., 1., 2., 3.], dtype=torch.float16, requires_grad=True)\n",
      "torch.Size([4])\n",
      "torch.float16\n"
     ]
    }
   ],
   "source": [
    "#create the torch tensor range between 2 to 4 \n",
    "\n",
    "ranged_tenst= torch.arange(start=0, end=4, step=1, dtype=torch.float16, requires_grad=True)\n",
    "print(ranged_tenst)\n",
    "print(ranged_tenst.shape)\n",
    "print(ranged_tenst.dtype)\n"
   ]
  },
  {
   "cell_type": "code",
   "execution_count": 66,
   "id": "5493e53f-9ce1-42ab-9737-3835ec5a0731",
   "metadata": {},
   "outputs": [
    {
     "name": "stdout",
     "output_type": "stream",
     "text": [
      "tensor([ 0,  2,  5,  7, 10], dtype=torch.int8)\n",
      "torch.Size([5])\n",
      "torch.int8\n"
     ]
    }
   ],
   "source": [
    "# Create the linespace arrays \n",
    "ranged_linespace = torch.linspace(start=0, \n",
    "                                  end=10, \n",
    "                                  steps=5,\n",
    "                                  dtype=torch.int8) #equally spaced\n",
    "print(ranged_linespace)\n",
    "print(ranged_linespace.shape)\n",
    "print(ranged_linespace.dtype)"
   ]
  },
  {
   "cell_type": "code",
   "execution_count": 68,
   "id": "71e237b7-103b-489a-b3e2-e0c58a4b5286",
   "metadata": {},
   "outputs": [
    {
     "name": "stdout",
     "output_type": "stream",
     "text": [
      "tensor([[8.4490e-39, 9.0918e-39, 1.0102e-38, 8.9082e-39, 9.2755e-39],\n",
      "        [1.0837e-38, 8.4490e-39, 9.2755e-39, 8.7245e-39, 1.0102e-38],\n",
      "        [8.4490e-39, 9.6429e-39, 8.4490e-39, 9.6429e-39, 9.2755e-39],\n",
      "        [1.0286e-38, 9.0919e-39, 8.9082e-39, 9.2755e-39, 8.4490e-39]])\n",
      "torch.float32\n"
     ]
    }
   ],
   "source": [
    "# empty tensors \n",
    "\n",
    "empty_tensor= torch.empty(4,5) # create the empty tensor \n",
    "print(empty_tensor)\n",
    "print(empty_tensor.dtype)"
   ]
  },
  {
   "cell_type": "code",
   "execution_count": 70,
   "id": "8e9854d2-5739-4664-8198-d171f69de0af",
   "metadata": {},
   "outputs": [
    {
     "name": "stdout",
     "output_type": "stream",
     "text": [
      "tensor([[1., 0., 0., 0.],\n",
      "        [0., 1., 0., 0.],\n",
      "        [0., 0., 1., 0.],\n",
      "        [0., 0., 0., 1.]])\n"
     ]
    }
   ],
   "source": [
    "# create the tensors having diagonal =1 \n",
    "dia_ones= torch.eye(4) \n",
    "print(dia_ones)"
   ]
  },
  {
   "cell_type": "code",
   "execution_count": 71,
   "id": "d1d4351d-2323-4201-b9bc-bad59ee8f45a",
   "metadata": {},
   "outputs": [
    {
     "data": {
      "text/plain": [
       "<torch.autograd.grad_mode.no_grad at 0x24aa4c02130>"
      ]
     },
     "execution_count": 71,
     "metadata": {},
     "output_type": "execute_result"
    }
   ],
   "source": [
    "# no grad \n",
    "torch.no_grad()"
   ]
  },
  {
   "cell_type": "code",
   "execution_count": 72,
   "id": "ad0bbf95-cbd2-42b3-8bfe-8aa9f78cb8d4",
   "metadata": {},
   "outputs": [
    {
     "data": {
      "text/plain": [
       "<torch.autograd.grad_mode.enable_grad at 0x24aa5e25340>"
      ]
     },
     "execution_count": 72,
     "metadata": {},
     "output_type": "execute_result"
    }
   ],
   "source": [
    "torch.enable_grad()"
   ]
  },
  {
   "cell_type": "markdown",
   "id": "6141b465-01d6-472b-9fe3-6934cb08ffc2",
   "metadata": {},
   "source": [
    "# Quantization"
   ]
  },
  {
   "cell_type": "code",
   "execution_count": 83,
   "id": "a469e121-052e-492f-bed1-6b96b9237e5e",
   "metadata": {},
   "outputs": [
    {
     "name": "stdout",
     "output_type": "stream",
     "text": [
      "tensor([-1.,  0.,  1.,  2.], size=(4,), dtype=torch.quint8,\n",
      "       quantization_scheme=torch.per_tensor_affine, scale=0.1, zero_point=10)\n",
      "torch.quint8\n"
     ]
    }
   ],
   "source": [
    "quant_tensor = torch.quantize_per_tensor(torch.tensor([-1.0, 0.0, 1.0, 2.0]), \n",
    "                          scale= 0.1, \n",
    "                          zero_point=10, \n",
    "                          dtype= torch.quint8)\n",
    "print(quant_tensor)\n",
    "print(quant_tensor.dtype)"
   ]
  },
  {
   "cell_type": "code",
   "execution_count": 81,
   "id": "818c177e-6fa9-494e-ba0c-9ca85c02c3e3",
   "metadata": {},
   "outputs": [
    {
     "name": "stdout",
     "output_type": "stream",
     "text": [
      "tensor([-1.,  0.,  1.,  2.])\n",
      "torch.float32\n"
     ]
    }
   ],
   "source": [
    "# Dequantize \n",
    "\n",
    "dequant_tensor = torch.dequantize(quant_tensor)\n",
    "print(dequant_tensor)\n",
    "print(dequant_tensor.dtype)"
   ]
  },
  {
   "cell_type": "markdown",
   "id": "048f8245-aeda-4a8a-8364-686684f6b30d",
   "metadata": {},
   "source": [
    "# Indexing, Slicing, Joining, Mutating Ops"
   ]
  },
  {
   "cell_type": "code",
   "execution_count": 91,
   "id": "1a55fa9d-4db8-4896-b5aa-2fc0f64cb1e1",
   "metadata": {},
   "outputs": [
    {
     "name": "stdout",
     "output_type": "stream",
     "text": [
      "tensor([[ 0.8421, -0.1233,  0.9259],\n",
      "        [ 0.6814, -0.2672,  2.3272],\n",
      "        [-0.8850,  1.9019, -0.5742],\n",
      "        [-0.8576,  1.1672,  0.6899]])\n"
     ]
    }
   ],
   "source": [
    "# concatinate the sequences of tensor \n",
    "\n",
    "a= torch.randn(2, 3)\n",
    "b= torch.randn(2, 3)\n",
    "\n",
    "concatenated= torch.cat((a,b), 0)\n",
    "print(concatenated)"
   ]
  },
  {
   "cell_type": "code",
   "execution_count": 92,
   "id": "bf7636da-1792-416b-9ce3-c1293267b0c4",
   "metadata": {},
   "outputs": [
    {
     "name": "stdout",
     "output_type": "stream",
     "text": [
      "tensor([[ 0.8421, -0.1233,  0.9259, -0.8850,  1.9019, -0.5742],\n",
      "        [ 0.6814, -0.2672,  2.3272, -0.8576,  1.1672,  0.6899]])\n"
     ]
    }
   ],
   "source": [
    "concatenated= torch.cat((a,b), 1)\n",
    "print(concatenated)"
   ]
  },
  {
   "cell_type": "code",
   "execution_count": 93,
   "id": "ec2a480e-ee9e-4a9f-8dd6-4197acf539ab",
   "metadata": {},
   "outputs": [
    {
     "name": "stdout",
     "output_type": "stream",
     "text": [
      "tensor([[ 0.2142, -0.8857,  2.0158],\n",
      "        [ 0.4880,  2.0540,  1.5170],\n",
      "        [-0.3409, -1.8777,  0.0302],\n",
      "        [ 1.2262, -2.0709,  1.0853]])\n"
     ]
    }
   ],
   "source": [
    "a= torch.randn(2, 3)\n",
    "b= torch.randn(2, 3)\n",
    "\n",
    "concatenated= torch.concatenate((a,b), 0)\n",
    "print(concatenated)"
   ]
  },
  {
   "cell_type": "code",
   "execution_count": 95,
   "id": "2380d699-c9ef-4a25-b895-65a4f56597ca",
   "metadata": {},
   "outputs": [
    {
     "data": {
      "text/plain": [
       "tensor([[0],\n",
       "        [2]])"
      ]
     },
     "execution_count": 95,
     "metadata": {},
     "output_type": "execute_result"
    }
   ],
   "source": [
    "# return the index where the Zero is presents \n",
    "\n",
    "t = torch.tensor([1, 0, 1])\n",
    "torch.argwhere(t)"
   ]
  },
  {
   "cell_type": "code",
   "execution_count": 97,
   "id": "1cd89959-18c4-410f-9ef5-7c5e8e0f9298",
   "metadata": {},
   "outputs": [
    {
     "data": {
      "text/plain": [
       "tensor([[[ 0.2142, -0.8857,  2.0158],\n",
       "         [ 0.4880,  2.0540,  1.5170]],\n",
       "\n",
       "        [[-0.3409, -1.8777,  0.0302],\n",
       "         [ 1.2262, -2.0709,  1.0853]]])"
      ]
     },
     "execution_count": 97,
     "metadata": {},
     "output_type": "execute_result"
    }
   ],
   "source": [
    "torch.stack((a,b))"
   ]
  },
  {
   "cell_type": "markdown",
   "id": "8e47939b-6cee-478a-8bdf-3bcfca3cda24",
   "metadata": {},
   "source": [
    "# Random sampling"
   ]
  },
  {
   "cell_type": "code",
   "execution_count": 103,
   "id": "79347b9a-8565-4be7-896a-a106039688b2",
   "metadata": {},
   "outputs": [
    {
     "name": "stdout",
     "output_type": "stream",
     "text": [
      "tensor([[0.7576, 0.2793, 0.4031],\n",
      "        [0.7347, 0.0293, 0.7999],\n",
      "        [0.3971, 0.7544, 0.5695]])\n"
     ]
    }
   ],
   "source": [
    "import torch\n",
    "\n",
    "torch.manual_seed(1)  # Sets the seed for generating random numbers\n",
    "\n",
    "# Example usage:\n",
    "random_tensor = torch.rand(3, 3)\n",
    "print(random_tensor)\n"
   ]
  },
  {
   "cell_type": "code",
   "execution_count": 130,
   "id": "6880f6c2-6d4a-4999-8f59-62f71657b379",
   "metadata": {},
   "outputs": [
    {
     "data": {
      "text/plain": [
       "tensor([ 1.3036,  1.5436,  2.7648,  4.3905,  5.5570,  6.1106,  7.1546,  7.6926,\n",
       "         9.0168, 10.1609])"
      ]
     },
     "execution_count": 130,
     "metadata": {},
     "output_type": "execute_result"
    }
   ],
   "source": [
    "torch.normal(mean=torch.arange(1., 11.), std=torch.arange(1, 0, -0.1))"
   ]
  },
  {
   "cell_type": "code",
   "execution_count": 131,
   "id": "30488a28-5d1c-4b3e-b7cc-50c1284c990c",
   "metadata": {},
   "outputs": [
    {
     "data": {
      "text/plain": [
       "tensor([[1., 1., 2., 2.],\n",
       "        [2., 3., 5., 1.],\n",
       "        [1., 0., 6., 4.],\n",
       "        [3., 3., 1., 0.]])"
      ]
     },
     "execution_count": 131,
     "metadata": {},
     "output_type": "execute_result"
    }
   ],
   "source": [
    "rates = torch.rand(4, 4) * 5\n",
    "torch.poisson(rates)"
   ]
  },
  {
   "cell_type": "code",
   "execution_count": 133,
   "id": "a54db179-ef5b-4060-bf2c-ef863b4e2f4a",
   "metadata": {},
   "outputs": [
    {
     "data": {
      "text/plain": [
       "4"
      ]
     },
     "execution_count": 133,
     "metadata": {},
     "output_type": "execute_result"
    }
   ],
   "source": [
    "torch.get_num_threads()"
   ]
  },
  {
   "cell_type": "code",
   "execution_count": null,
   "id": "8fda0536-06c5-4111-ad68-5a8e3ba79972",
   "metadata": {},
   "outputs": [],
   "source": []
  },
  {
   "cell_type": "code",
   "execution_count": 137,
   "id": "15d1ed54-1ea3-434a-a688-89bf588d4178",
   "metadata": {},
   "outputs": [
    {
     "data": {
      "text/plain": [
       "tensor([2, 1])"
      ]
     },
     "execution_count": 137,
     "metadata": {},
     "output_type": "execute_result"
    }
   ],
   "source": [
    "# Returns a tensor where each row contains num_samples indices sampled from the multinomial \n",
    "# (a stricter definition would be multivariate,\n",
    "weights = torch.tensor([0, 10, 3, 0], dtype=torch.float)\n",
    "\n",
    "torch.multinomial(weights, 2)"
   ]
  },
  {
   "cell_type": "code",
   "execution_count": 138,
   "id": "3eaa61d9-bc95-4cd4-8d30-52e0dcee4b2e",
   "metadata": {},
   "outputs": [
    {
     "data": {
      "text/plain": [
       "tensor([[0.1958, 0.3045, 0.0882],\n",
       "        [0.9570, 0.5952, 0.9210],\n",
       "        [0.5327, 0.7718, 0.3404]])"
      ]
     },
     "execution_count": 138,
     "metadata": {},
     "output_type": "execute_result"
    }
   ],
   "source": [
    "a = torch.empty(3, 3).uniform_(0, 1)\n",
    "a"
   ]
  },
  {
   "cell_type": "code",
   "execution_count": 139,
   "id": "01bcd55c-5e20-4869-9ded-af8f6afc4f68",
   "metadata": {},
   "outputs": [
    {
     "data": {
      "text/plain": [
       "tensor([0.1958, 0.3045, 0.0882, 0.9570, 0.5952, 0.9210, 0.5327, 0.7718, 0.3404])"
      ]
     },
     "execution_count": 139,
     "metadata": {},
     "output_type": "execute_result"
    }
   ],
   "source": [
    "a.flatten()"
   ]
  },
  {
   "cell_type": "code",
   "execution_count": 140,
   "id": "40e9e157-aab8-4da5-b667-3644a5e74004",
   "metadata": {},
   "outputs": [
    {
     "data": {
      "text/plain": [
       "tensor([[1., 0., 0.],\n",
       "        [1., 1., 1.],\n",
       "        [0., 1., 1.]])"
      ]
     },
     "execution_count": 140,
     "metadata": {},
     "output_type": "execute_result"
    }
   ],
   "source": [
    "torch.bernoulli(a)"
   ]
  },
  {
   "cell_type": "code",
   "execution_count": null,
   "id": "ed91ee84-a61f-46fe-a638-ffec0e4a1793",
   "metadata": {},
   "outputs": [],
   "source": []
  },
  {
   "cell_type": "markdown",
   "id": "e2227d04-1f21-486b-88c0-adfebbd37a86",
   "metadata": {},
   "source": [
    "# Clamping"
   ]
  },
  {
   "cell_type": "code",
   "execution_count": 106,
   "id": "3b3aac7f-a2ed-4901-ada3-d92c5a5a205c",
   "metadata": {},
   "outputs": [
    {
     "name": "stdout",
     "output_type": "stream",
     "text": [
      "tensor([ 0.2222,  0.5773, -1.7637,  0.2264])\n",
      "tensor([ 0.2222,  0.5000, -0.5000,  0.2264])\n"
     ]
    }
   ],
   "source": [
    "a = torch.randn(4)\n",
    "print(a)\n",
    "\n",
    "clamped_nums= torch.clamp(a, min=-0.5, max=0.5)\n",
    "print(clamped_nums)"
   ]
  },
  {
   "cell_type": "code",
   "execution_count": 108,
   "id": "245ad663-e257-4bf6-8a61-b52d37109e3d",
   "metadata": {},
   "outputs": [
    {
     "name": "stdout",
     "output_type": "stream",
     "text": [
      "tensor([-0.1103,  0.2913,  0.5848,  0.2149])\n",
      "tensor([-0.1103,  0.2913,  0.5000,  0.2149])\n"
     ]
    }
   ],
   "source": [
    "a = torch.randn(4)\n",
    "print(a)\n",
    "\n",
    "clamped_nums= torch.clip(a, min=-0.5, max=0.5)\n",
    "print(clamped_nums)"
   ]
  },
  {
   "cell_type": "code",
   "execution_count": 111,
   "id": "8a4f6d77-d864-43e7-86f1-ba5cb36d17fb",
   "metadata": {},
   "outputs": [
    {
     "name": "stdout",
     "output_type": "stream",
     "text": [
      "False\n"
     ]
    }
   ],
   "source": [
    "# checks if the two tensors are near by matches\n",
    "a = torch.randn(4)\n",
    "b = torch.randn(4)\n",
    "\n",
    "ans= torch.allclose(a,b)\n",
    "print(ans)"
   ]
  },
  {
   "cell_type": "code",
   "execution_count": 114,
   "id": "61309256-b127-4210-852d-c4aeb5c27ed1",
   "metadata": {},
   "outputs": [
    {
     "data": {
      "text/plain": [
       "tensor([True, True, True, True])"
      ]
     },
     "execution_count": 114,
     "metadata": {},
     "output_type": "execute_result"
    }
   ],
   "source": [
    "a = torch.randn(4)\n",
    "torch.ge(a, a) #greater"
   ]
  },
  {
   "cell_type": "code",
   "execution_count": 115,
   "id": "2209342d-a82d-4f79-a419-4f900e65af40",
   "metadata": {},
   "outputs": [
    {
     "data": {
      "text/plain": [
       "tensor([False, False, False, False])"
      ]
     },
     "execution_count": 115,
     "metadata": {},
     "output_type": "execute_result"
    }
   ],
   "source": [
    "a = torch.randn(4)\n",
    "torch.greater(a, a) #greater"
   ]
  },
  {
   "cell_type": "code",
   "execution_count": 123,
   "id": "288db107-8148-4c28-820e-015ac70af5b0",
   "metadata": {},
   "outputs": [
    {
     "name": "stdout",
     "output_type": "stream",
     "text": [
      "tensor([[-2.2122,  0.0484, -0.0916,  0.1386],\n",
      "        [-0.6317,  0.3046, -0.3564,  0.7867]])\n",
      "torch.return_types.topk(\n",
      "values=tensor([[0.1386],\n",
      "        [0.7867]]),\n",
      "indices=tensor([[3],\n",
      "        [3]]))\n"
     ]
    }
   ],
   "source": [
    "# Returns the k largest elements of the given input tensor along a given dimension.\n",
    "a= torch.randn(2,4)\n",
    "print(a)\n",
    "\n",
    "kth_element= torch.topk(a, k=1,  largest=True)\n",
    "print(kth_element)"
   ]
  },
  {
   "cell_type": "code",
   "execution_count": 124,
   "id": "6af16380-2246-4d27-974e-89c05ce07a4e",
   "metadata": {},
   "outputs": [],
   "source": [
    "x = torch.tensor([0, 1, 2, 3, 4])\n",
    "torch.save(x, \"tensor.pt\")"
   ]
  },
  {
   "cell_type": "code",
   "execution_count": null,
   "id": "0a844b62-76af-4c69-9f21-ee724786b314",
   "metadata": {},
   "outputs": [],
   "source": []
  }
 ],
 "metadata": {
  "kernelspec": {
   "display_name": "Python 3 (ipykernel)",
   "language": "python",
   "name": "python3"
  },
  "language_info": {
   "codemirror_mode": {
    "name": "ipython",
    "version": 3
   },
   "file_extension": ".py",
   "mimetype": "text/x-python",
   "name": "python",
   "nbconvert_exporter": "python",
   "pygments_lexer": "ipython3",
   "version": "3.9.21"
  }
 },
 "nbformat": 4,
 "nbformat_minor": 5
}
