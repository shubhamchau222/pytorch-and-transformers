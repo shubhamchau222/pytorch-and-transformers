{
  "nbformat": 4,
  "nbformat_minor": 0,
  "metadata": {
    "colab": {
      "provenance": [],
      "gpuType": "T4"
    },
    "kernelspec": {
      "name": "python3",
      "display_name": "Python 3"
    },
    "language_info": {
      "name": "python"
    },
    "accelerator": "GPU",
    "widgets": {
      "application/vnd.jupyter.widget-state+json": {
        "0930b80dee3345629ecae1cf1dbf7987": {
          "model_module": "@jupyter-widgets/controls",
          "model_name": "HBoxModel",
          "model_module_version": "1.5.0",
          "state": {
            "_dom_classes": [],
            "_model_module": "@jupyter-widgets/controls",
            "_model_module_version": "1.5.0",
            "_model_name": "HBoxModel",
            "_view_count": null,
            "_view_module": "@jupyter-widgets/controls",
            "_view_module_version": "1.5.0",
            "_view_name": "HBoxView",
            "box_style": "",
            "children": [
              "IPY_MODEL_10f8d58eb7664c3e9ecf2b18af4c3b02",
              "IPY_MODEL_66d4f9c59aa54b21bd9856ceae2171b9",
              "IPY_MODEL_d22a64d4df7e4705b9ce120bc75aeb8c"
            ],
            "layout": "IPY_MODEL_fb4571ccca4d4e638d420a9c73cdc72b"
          }
        },
        "10f8d58eb7664c3e9ecf2b18af4c3b02": {
          "model_module": "@jupyter-widgets/controls",
          "model_name": "HTMLModel",
          "model_module_version": "1.5.0",
          "state": {
            "_dom_classes": [],
            "_model_module": "@jupyter-widgets/controls",
            "_model_module_version": "1.5.0",
            "_model_name": "HTMLModel",
            "_view_count": null,
            "_view_module": "@jupyter-widgets/controls",
            "_view_module_version": "1.5.0",
            "_view_name": "HTMLView",
            "description": "",
            "description_tooltip": null,
            "layout": "IPY_MODEL_77079f0d78f642108103afbab5028907",
            "placeholder": "​",
            "style": "IPY_MODEL_8fb74f8c2cfe4f2796e88bc818f3dd63",
            "value": "tokenizer_config.json: 100%"
          }
        },
        "66d4f9c59aa54b21bd9856ceae2171b9": {
          "model_module": "@jupyter-widgets/controls",
          "model_name": "FloatProgressModel",
          "model_module_version": "1.5.0",
          "state": {
            "_dom_classes": [],
            "_model_module": "@jupyter-widgets/controls",
            "_model_module_version": "1.5.0",
            "_model_name": "FloatProgressModel",
            "_view_count": null,
            "_view_module": "@jupyter-widgets/controls",
            "_view_module_version": "1.5.0",
            "_view_name": "ProgressView",
            "bar_style": "success",
            "description": "",
            "description_tooltip": null,
            "layout": "IPY_MODEL_4c38b6d5d832419690312470e0ad7341",
            "max": 48,
            "min": 0,
            "orientation": "horizontal",
            "style": "IPY_MODEL_e897c990beed42aebe460eb30e755287",
            "value": 48
          }
        },
        "d22a64d4df7e4705b9ce120bc75aeb8c": {
          "model_module": "@jupyter-widgets/controls",
          "model_name": "HTMLModel",
          "model_module_version": "1.5.0",
          "state": {
            "_dom_classes": [],
            "_model_module": "@jupyter-widgets/controls",
            "_model_module_version": "1.5.0",
            "_model_name": "HTMLModel",
            "_view_count": null,
            "_view_module": "@jupyter-widgets/controls",
            "_view_module_version": "1.5.0",
            "_view_name": "HTMLView",
            "description": "",
            "description_tooltip": null,
            "layout": "IPY_MODEL_75e9ed120a084520a394102aa8cf0a2c",
            "placeholder": "​",
            "style": "IPY_MODEL_fde719befc8c4756b1b3f356ea58e3a8",
            "value": " 48.0/48.0 [00:00&lt;00:00, 2.96kB/s]"
          }
        },
        "fb4571ccca4d4e638d420a9c73cdc72b": {
          "model_module": "@jupyter-widgets/base",
          "model_name": "LayoutModel",
          "model_module_version": "1.2.0",
          "state": {
            "_model_module": "@jupyter-widgets/base",
            "_model_module_version": "1.2.0",
            "_model_name": "LayoutModel",
            "_view_count": null,
            "_view_module": "@jupyter-widgets/base",
            "_view_module_version": "1.2.0",
            "_view_name": "LayoutView",
            "align_content": null,
            "align_items": null,
            "align_self": null,
            "border": null,
            "bottom": null,
            "display": null,
            "flex": null,
            "flex_flow": null,
            "grid_area": null,
            "grid_auto_columns": null,
            "grid_auto_flow": null,
            "grid_auto_rows": null,
            "grid_column": null,
            "grid_gap": null,
            "grid_row": null,
            "grid_template_areas": null,
            "grid_template_columns": null,
            "grid_template_rows": null,
            "height": null,
            "justify_content": null,
            "justify_items": null,
            "left": null,
            "margin": null,
            "max_height": null,
            "max_width": null,
            "min_height": null,
            "min_width": null,
            "object_fit": null,
            "object_position": null,
            "order": null,
            "overflow": null,
            "overflow_x": null,
            "overflow_y": null,
            "padding": null,
            "right": null,
            "top": null,
            "visibility": null,
            "width": null
          }
        },
        "77079f0d78f642108103afbab5028907": {
          "model_module": "@jupyter-widgets/base",
          "model_name": "LayoutModel",
          "model_module_version": "1.2.0",
          "state": {
            "_model_module": "@jupyter-widgets/base",
            "_model_module_version": "1.2.0",
            "_model_name": "LayoutModel",
            "_view_count": null,
            "_view_module": "@jupyter-widgets/base",
            "_view_module_version": "1.2.0",
            "_view_name": "LayoutView",
            "align_content": null,
            "align_items": null,
            "align_self": null,
            "border": null,
            "bottom": null,
            "display": null,
            "flex": null,
            "flex_flow": null,
            "grid_area": null,
            "grid_auto_columns": null,
            "grid_auto_flow": null,
            "grid_auto_rows": null,
            "grid_column": null,
            "grid_gap": null,
            "grid_row": null,
            "grid_template_areas": null,
            "grid_template_columns": null,
            "grid_template_rows": null,
            "height": null,
            "justify_content": null,
            "justify_items": null,
            "left": null,
            "margin": null,
            "max_height": null,
            "max_width": null,
            "min_height": null,
            "min_width": null,
            "object_fit": null,
            "object_position": null,
            "order": null,
            "overflow": null,
            "overflow_x": null,
            "overflow_y": null,
            "padding": null,
            "right": null,
            "top": null,
            "visibility": null,
            "width": null
          }
        },
        "8fb74f8c2cfe4f2796e88bc818f3dd63": {
          "model_module": "@jupyter-widgets/controls",
          "model_name": "DescriptionStyleModel",
          "model_module_version": "1.5.0",
          "state": {
            "_model_module": "@jupyter-widgets/controls",
            "_model_module_version": "1.5.0",
            "_model_name": "DescriptionStyleModel",
            "_view_count": null,
            "_view_module": "@jupyter-widgets/base",
            "_view_module_version": "1.2.0",
            "_view_name": "StyleView",
            "description_width": ""
          }
        },
        "4c38b6d5d832419690312470e0ad7341": {
          "model_module": "@jupyter-widgets/base",
          "model_name": "LayoutModel",
          "model_module_version": "1.2.0",
          "state": {
            "_model_module": "@jupyter-widgets/base",
            "_model_module_version": "1.2.0",
            "_model_name": "LayoutModel",
            "_view_count": null,
            "_view_module": "@jupyter-widgets/base",
            "_view_module_version": "1.2.0",
            "_view_name": "LayoutView",
            "align_content": null,
            "align_items": null,
            "align_self": null,
            "border": null,
            "bottom": null,
            "display": null,
            "flex": null,
            "flex_flow": null,
            "grid_area": null,
            "grid_auto_columns": null,
            "grid_auto_flow": null,
            "grid_auto_rows": null,
            "grid_column": null,
            "grid_gap": null,
            "grid_row": null,
            "grid_template_areas": null,
            "grid_template_columns": null,
            "grid_template_rows": null,
            "height": null,
            "justify_content": null,
            "justify_items": null,
            "left": null,
            "margin": null,
            "max_height": null,
            "max_width": null,
            "min_height": null,
            "min_width": null,
            "object_fit": null,
            "object_position": null,
            "order": null,
            "overflow": null,
            "overflow_x": null,
            "overflow_y": null,
            "padding": null,
            "right": null,
            "top": null,
            "visibility": null,
            "width": null
          }
        },
        "e897c990beed42aebe460eb30e755287": {
          "model_module": "@jupyter-widgets/controls",
          "model_name": "ProgressStyleModel",
          "model_module_version": "1.5.0",
          "state": {
            "_model_module": "@jupyter-widgets/controls",
            "_model_module_version": "1.5.0",
            "_model_name": "ProgressStyleModel",
            "_view_count": null,
            "_view_module": "@jupyter-widgets/base",
            "_view_module_version": "1.2.0",
            "_view_name": "StyleView",
            "bar_color": null,
            "description_width": ""
          }
        },
        "75e9ed120a084520a394102aa8cf0a2c": {
          "model_module": "@jupyter-widgets/base",
          "model_name": "LayoutModel",
          "model_module_version": "1.2.0",
          "state": {
            "_model_module": "@jupyter-widgets/base",
            "_model_module_version": "1.2.0",
            "_model_name": "LayoutModel",
            "_view_count": null,
            "_view_module": "@jupyter-widgets/base",
            "_view_module_version": "1.2.0",
            "_view_name": "LayoutView",
            "align_content": null,
            "align_items": null,
            "align_self": null,
            "border": null,
            "bottom": null,
            "display": null,
            "flex": null,
            "flex_flow": null,
            "grid_area": null,
            "grid_auto_columns": null,
            "grid_auto_flow": null,
            "grid_auto_rows": null,
            "grid_column": null,
            "grid_gap": null,
            "grid_row": null,
            "grid_template_areas": null,
            "grid_template_columns": null,
            "grid_template_rows": null,
            "height": null,
            "justify_content": null,
            "justify_items": null,
            "left": null,
            "margin": null,
            "max_height": null,
            "max_width": null,
            "min_height": null,
            "min_width": null,
            "object_fit": null,
            "object_position": null,
            "order": null,
            "overflow": null,
            "overflow_x": null,
            "overflow_y": null,
            "padding": null,
            "right": null,
            "top": null,
            "visibility": null,
            "width": null
          }
        },
        "fde719befc8c4756b1b3f356ea58e3a8": {
          "model_module": "@jupyter-widgets/controls",
          "model_name": "DescriptionStyleModel",
          "model_module_version": "1.5.0",
          "state": {
            "_model_module": "@jupyter-widgets/controls",
            "_model_module_version": "1.5.0",
            "_model_name": "DescriptionStyleModel",
            "_view_count": null,
            "_view_module": "@jupyter-widgets/base",
            "_view_module_version": "1.2.0",
            "_view_name": "StyleView",
            "description_width": ""
          }
        },
        "f4c12eec98584c43923b459963fe2816": {
          "model_module": "@jupyter-widgets/controls",
          "model_name": "HBoxModel",
          "model_module_version": "1.5.0",
          "state": {
            "_dom_classes": [],
            "_model_module": "@jupyter-widgets/controls",
            "_model_module_version": "1.5.0",
            "_model_name": "HBoxModel",
            "_view_count": null,
            "_view_module": "@jupyter-widgets/controls",
            "_view_module_version": "1.5.0",
            "_view_name": "HBoxView",
            "box_style": "",
            "children": [
              "IPY_MODEL_c545c6531a12440eb4a464944a20fb2d",
              "IPY_MODEL_47097db99c0c4471be090cddf5f8f11d",
              "IPY_MODEL_01c0d3cadd5e4d60b261a68cdad501da"
            ],
            "layout": "IPY_MODEL_9fb909f33f1b4587808ccb47edf4661e"
          }
        },
        "c545c6531a12440eb4a464944a20fb2d": {
          "model_module": "@jupyter-widgets/controls",
          "model_name": "HTMLModel",
          "model_module_version": "1.5.0",
          "state": {
            "_dom_classes": [],
            "_model_module": "@jupyter-widgets/controls",
            "_model_module_version": "1.5.0",
            "_model_name": "HTMLModel",
            "_view_count": null,
            "_view_module": "@jupyter-widgets/controls",
            "_view_module_version": "1.5.0",
            "_view_name": "HTMLView",
            "description": "",
            "description_tooltip": null,
            "layout": "IPY_MODEL_6886e9e5e95d4a69b0d24075427b6c66",
            "placeholder": "​",
            "style": "IPY_MODEL_563feaccdd7c47e0b61058da3642cc7b",
            "value": "vocab.txt: 100%"
          }
        },
        "47097db99c0c4471be090cddf5f8f11d": {
          "model_module": "@jupyter-widgets/controls",
          "model_name": "FloatProgressModel",
          "model_module_version": "1.5.0",
          "state": {
            "_dom_classes": [],
            "_model_module": "@jupyter-widgets/controls",
            "_model_module_version": "1.5.0",
            "_model_name": "FloatProgressModel",
            "_view_count": null,
            "_view_module": "@jupyter-widgets/controls",
            "_view_module_version": "1.5.0",
            "_view_name": "ProgressView",
            "bar_style": "success",
            "description": "",
            "description_tooltip": null,
            "layout": "IPY_MODEL_cc4edac2c9ee46909bcf53095ffd4de5",
            "max": 231508,
            "min": 0,
            "orientation": "horizontal",
            "style": "IPY_MODEL_c2830446b0304f29ac12e8ec16493240",
            "value": 231508
          }
        },
        "01c0d3cadd5e4d60b261a68cdad501da": {
          "model_module": "@jupyter-widgets/controls",
          "model_name": "HTMLModel",
          "model_module_version": "1.5.0",
          "state": {
            "_dom_classes": [],
            "_model_module": "@jupyter-widgets/controls",
            "_model_module_version": "1.5.0",
            "_model_name": "HTMLModel",
            "_view_count": null,
            "_view_module": "@jupyter-widgets/controls",
            "_view_module_version": "1.5.0",
            "_view_name": "HTMLView",
            "description": "",
            "description_tooltip": null,
            "layout": "IPY_MODEL_0294fba0e8c94cc8b7b3b5b4f975c6e9",
            "placeholder": "​",
            "style": "IPY_MODEL_c0880c7f6fa74ade8eae8c6df73f98e0",
            "value": " 232k/232k [00:00&lt;00:00, 2.67MB/s]"
          }
        },
        "9fb909f33f1b4587808ccb47edf4661e": {
          "model_module": "@jupyter-widgets/base",
          "model_name": "LayoutModel",
          "model_module_version": "1.2.0",
          "state": {
            "_model_module": "@jupyter-widgets/base",
            "_model_module_version": "1.2.0",
            "_model_name": "LayoutModel",
            "_view_count": null,
            "_view_module": "@jupyter-widgets/base",
            "_view_module_version": "1.2.0",
            "_view_name": "LayoutView",
            "align_content": null,
            "align_items": null,
            "align_self": null,
            "border": null,
            "bottom": null,
            "display": null,
            "flex": null,
            "flex_flow": null,
            "grid_area": null,
            "grid_auto_columns": null,
            "grid_auto_flow": null,
            "grid_auto_rows": null,
            "grid_column": null,
            "grid_gap": null,
            "grid_row": null,
            "grid_template_areas": null,
            "grid_template_columns": null,
            "grid_template_rows": null,
            "height": null,
            "justify_content": null,
            "justify_items": null,
            "left": null,
            "margin": null,
            "max_height": null,
            "max_width": null,
            "min_height": null,
            "min_width": null,
            "object_fit": null,
            "object_position": null,
            "order": null,
            "overflow": null,
            "overflow_x": null,
            "overflow_y": null,
            "padding": null,
            "right": null,
            "top": null,
            "visibility": null,
            "width": null
          }
        },
        "6886e9e5e95d4a69b0d24075427b6c66": {
          "model_module": "@jupyter-widgets/base",
          "model_name": "LayoutModel",
          "model_module_version": "1.2.0",
          "state": {
            "_model_module": "@jupyter-widgets/base",
            "_model_module_version": "1.2.0",
            "_model_name": "LayoutModel",
            "_view_count": null,
            "_view_module": "@jupyter-widgets/base",
            "_view_module_version": "1.2.0",
            "_view_name": "LayoutView",
            "align_content": null,
            "align_items": null,
            "align_self": null,
            "border": null,
            "bottom": null,
            "display": null,
            "flex": null,
            "flex_flow": null,
            "grid_area": null,
            "grid_auto_columns": null,
            "grid_auto_flow": null,
            "grid_auto_rows": null,
            "grid_column": null,
            "grid_gap": null,
            "grid_row": null,
            "grid_template_areas": null,
            "grid_template_columns": null,
            "grid_template_rows": null,
            "height": null,
            "justify_content": null,
            "justify_items": null,
            "left": null,
            "margin": null,
            "max_height": null,
            "max_width": null,
            "min_height": null,
            "min_width": null,
            "object_fit": null,
            "object_position": null,
            "order": null,
            "overflow": null,
            "overflow_x": null,
            "overflow_y": null,
            "padding": null,
            "right": null,
            "top": null,
            "visibility": null,
            "width": null
          }
        },
        "563feaccdd7c47e0b61058da3642cc7b": {
          "model_module": "@jupyter-widgets/controls",
          "model_name": "DescriptionStyleModel",
          "model_module_version": "1.5.0",
          "state": {
            "_model_module": "@jupyter-widgets/controls",
            "_model_module_version": "1.5.0",
            "_model_name": "DescriptionStyleModel",
            "_view_count": null,
            "_view_module": "@jupyter-widgets/base",
            "_view_module_version": "1.2.0",
            "_view_name": "StyleView",
            "description_width": ""
          }
        },
        "cc4edac2c9ee46909bcf53095ffd4de5": {
          "model_module": "@jupyter-widgets/base",
          "model_name": "LayoutModel",
          "model_module_version": "1.2.0",
          "state": {
            "_model_module": "@jupyter-widgets/base",
            "_model_module_version": "1.2.0",
            "_model_name": "LayoutModel",
            "_view_count": null,
            "_view_module": "@jupyter-widgets/base",
            "_view_module_version": "1.2.0",
            "_view_name": "LayoutView",
            "align_content": null,
            "align_items": null,
            "align_self": null,
            "border": null,
            "bottom": null,
            "display": null,
            "flex": null,
            "flex_flow": null,
            "grid_area": null,
            "grid_auto_columns": null,
            "grid_auto_flow": null,
            "grid_auto_rows": null,
            "grid_column": null,
            "grid_gap": null,
            "grid_row": null,
            "grid_template_areas": null,
            "grid_template_columns": null,
            "grid_template_rows": null,
            "height": null,
            "justify_content": null,
            "justify_items": null,
            "left": null,
            "margin": null,
            "max_height": null,
            "max_width": null,
            "min_height": null,
            "min_width": null,
            "object_fit": null,
            "object_position": null,
            "order": null,
            "overflow": null,
            "overflow_x": null,
            "overflow_y": null,
            "padding": null,
            "right": null,
            "top": null,
            "visibility": null,
            "width": null
          }
        },
        "c2830446b0304f29ac12e8ec16493240": {
          "model_module": "@jupyter-widgets/controls",
          "model_name": "ProgressStyleModel",
          "model_module_version": "1.5.0",
          "state": {
            "_model_module": "@jupyter-widgets/controls",
            "_model_module_version": "1.5.0",
            "_model_name": "ProgressStyleModel",
            "_view_count": null,
            "_view_module": "@jupyter-widgets/base",
            "_view_module_version": "1.2.0",
            "_view_name": "StyleView",
            "bar_color": null,
            "description_width": ""
          }
        },
        "0294fba0e8c94cc8b7b3b5b4f975c6e9": {
          "model_module": "@jupyter-widgets/base",
          "model_name": "LayoutModel",
          "model_module_version": "1.2.0",
          "state": {
            "_model_module": "@jupyter-widgets/base",
            "_model_module_version": "1.2.0",
            "_model_name": "LayoutModel",
            "_view_count": null,
            "_view_module": "@jupyter-widgets/base",
            "_view_module_version": "1.2.0",
            "_view_name": "LayoutView",
            "align_content": null,
            "align_items": null,
            "align_self": null,
            "border": null,
            "bottom": null,
            "display": null,
            "flex": null,
            "flex_flow": null,
            "grid_area": null,
            "grid_auto_columns": null,
            "grid_auto_flow": null,
            "grid_auto_rows": null,
            "grid_column": null,
            "grid_gap": null,
            "grid_row": null,
            "grid_template_areas": null,
            "grid_template_columns": null,
            "grid_template_rows": null,
            "height": null,
            "justify_content": null,
            "justify_items": null,
            "left": null,
            "margin": null,
            "max_height": null,
            "max_width": null,
            "min_height": null,
            "min_width": null,
            "object_fit": null,
            "object_position": null,
            "order": null,
            "overflow": null,
            "overflow_x": null,
            "overflow_y": null,
            "padding": null,
            "right": null,
            "top": null,
            "visibility": null,
            "width": null
          }
        },
        "c0880c7f6fa74ade8eae8c6df73f98e0": {
          "model_module": "@jupyter-widgets/controls",
          "model_name": "DescriptionStyleModel",
          "model_module_version": "1.5.0",
          "state": {
            "_model_module": "@jupyter-widgets/controls",
            "_model_module_version": "1.5.0",
            "_model_name": "DescriptionStyleModel",
            "_view_count": null,
            "_view_module": "@jupyter-widgets/base",
            "_view_module_version": "1.2.0",
            "_view_name": "StyleView",
            "description_width": ""
          }
        },
        "bc80a0f50a10428099ab023ca01426fd": {
          "model_module": "@jupyter-widgets/controls",
          "model_name": "HBoxModel",
          "model_module_version": "1.5.0",
          "state": {
            "_dom_classes": [],
            "_model_module": "@jupyter-widgets/controls",
            "_model_module_version": "1.5.0",
            "_model_name": "HBoxModel",
            "_view_count": null,
            "_view_module": "@jupyter-widgets/controls",
            "_view_module_version": "1.5.0",
            "_view_name": "HBoxView",
            "box_style": "",
            "children": [
              "IPY_MODEL_78c745f14f654586b6b426dd211c6c36",
              "IPY_MODEL_c924d96b600e490d9941e32c5a4ff7bf",
              "IPY_MODEL_15fd1489b2c044cf8145e4c1bdaf34fd"
            ],
            "layout": "IPY_MODEL_ee7afdc38ef74c9d9a2116cf691157ad"
          }
        },
        "78c745f14f654586b6b426dd211c6c36": {
          "model_module": "@jupyter-widgets/controls",
          "model_name": "HTMLModel",
          "model_module_version": "1.5.0",
          "state": {
            "_dom_classes": [],
            "_model_module": "@jupyter-widgets/controls",
            "_model_module_version": "1.5.0",
            "_model_name": "HTMLModel",
            "_view_count": null,
            "_view_module": "@jupyter-widgets/controls",
            "_view_module_version": "1.5.0",
            "_view_name": "HTMLView",
            "description": "",
            "description_tooltip": null,
            "layout": "IPY_MODEL_c8796c4597a6497f9072103cd3a83726",
            "placeholder": "​",
            "style": "IPY_MODEL_23379f9b19754915a0406ba4220e0b13",
            "value": "tokenizer.json: 100%"
          }
        },
        "c924d96b600e490d9941e32c5a4ff7bf": {
          "model_module": "@jupyter-widgets/controls",
          "model_name": "FloatProgressModel",
          "model_module_version": "1.5.0",
          "state": {
            "_dom_classes": [],
            "_model_module": "@jupyter-widgets/controls",
            "_model_module_version": "1.5.0",
            "_model_name": "FloatProgressModel",
            "_view_count": null,
            "_view_module": "@jupyter-widgets/controls",
            "_view_module_version": "1.5.0",
            "_view_name": "ProgressView",
            "bar_style": "success",
            "description": "",
            "description_tooltip": null,
            "layout": "IPY_MODEL_0691c13ae14d443fa8f52d4255b6e5d1",
            "max": 466062,
            "min": 0,
            "orientation": "horizontal",
            "style": "IPY_MODEL_a0c1b25883b6455e91d4c4601584bf49",
            "value": 466062
          }
        },
        "15fd1489b2c044cf8145e4c1bdaf34fd": {
          "model_module": "@jupyter-widgets/controls",
          "model_name": "HTMLModel",
          "model_module_version": "1.5.0",
          "state": {
            "_dom_classes": [],
            "_model_module": "@jupyter-widgets/controls",
            "_model_module_version": "1.5.0",
            "_model_name": "HTMLModel",
            "_view_count": null,
            "_view_module": "@jupyter-widgets/controls",
            "_view_module_version": "1.5.0",
            "_view_name": "HTMLView",
            "description": "",
            "description_tooltip": null,
            "layout": "IPY_MODEL_ae14de6b0e7047c29a8fc8b20a4aa04f",
            "placeholder": "​",
            "style": "IPY_MODEL_4f03c4b6210d4150a4cd56e807397df0",
            "value": " 466k/466k [00:00&lt;00:00, 3.12MB/s]"
          }
        },
        "ee7afdc38ef74c9d9a2116cf691157ad": {
          "model_module": "@jupyter-widgets/base",
          "model_name": "LayoutModel",
          "model_module_version": "1.2.0",
          "state": {
            "_model_module": "@jupyter-widgets/base",
            "_model_module_version": "1.2.0",
            "_model_name": "LayoutModel",
            "_view_count": null,
            "_view_module": "@jupyter-widgets/base",
            "_view_module_version": "1.2.0",
            "_view_name": "LayoutView",
            "align_content": null,
            "align_items": null,
            "align_self": null,
            "border": null,
            "bottom": null,
            "display": null,
            "flex": null,
            "flex_flow": null,
            "grid_area": null,
            "grid_auto_columns": null,
            "grid_auto_flow": null,
            "grid_auto_rows": null,
            "grid_column": null,
            "grid_gap": null,
            "grid_row": null,
            "grid_template_areas": null,
            "grid_template_columns": null,
            "grid_template_rows": null,
            "height": null,
            "justify_content": null,
            "justify_items": null,
            "left": null,
            "margin": null,
            "max_height": null,
            "max_width": null,
            "min_height": null,
            "min_width": null,
            "object_fit": null,
            "object_position": null,
            "order": null,
            "overflow": null,
            "overflow_x": null,
            "overflow_y": null,
            "padding": null,
            "right": null,
            "top": null,
            "visibility": null,
            "width": null
          }
        },
        "c8796c4597a6497f9072103cd3a83726": {
          "model_module": "@jupyter-widgets/base",
          "model_name": "LayoutModel",
          "model_module_version": "1.2.0",
          "state": {
            "_model_module": "@jupyter-widgets/base",
            "_model_module_version": "1.2.0",
            "_model_name": "LayoutModel",
            "_view_count": null,
            "_view_module": "@jupyter-widgets/base",
            "_view_module_version": "1.2.0",
            "_view_name": "LayoutView",
            "align_content": null,
            "align_items": null,
            "align_self": null,
            "border": null,
            "bottom": null,
            "display": null,
            "flex": null,
            "flex_flow": null,
            "grid_area": null,
            "grid_auto_columns": null,
            "grid_auto_flow": null,
            "grid_auto_rows": null,
            "grid_column": null,
            "grid_gap": null,
            "grid_row": null,
            "grid_template_areas": null,
            "grid_template_columns": null,
            "grid_template_rows": null,
            "height": null,
            "justify_content": null,
            "justify_items": null,
            "left": null,
            "margin": null,
            "max_height": null,
            "max_width": null,
            "min_height": null,
            "min_width": null,
            "object_fit": null,
            "object_position": null,
            "order": null,
            "overflow": null,
            "overflow_x": null,
            "overflow_y": null,
            "padding": null,
            "right": null,
            "top": null,
            "visibility": null,
            "width": null
          }
        },
        "23379f9b19754915a0406ba4220e0b13": {
          "model_module": "@jupyter-widgets/controls",
          "model_name": "DescriptionStyleModel",
          "model_module_version": "1.5.0",
          "state": {
            "_model_module": "@jupyter-widgets/controls",
            "_model_module_version": "1.5.0",
            "_model_name": "DescriptionStyleModel",
            "_view_count": null,
            "_view_module": "@jupyter-widgets/base",
            "_view_module_version": "1.2.0",
            "_view_name": "StyleView",
            "description_width": ""
          }
        },
        "0691c13ae14d443fa8f52d4255b6e5d1": {
          "model_module": "@jupyter-widgets/base",
          "model_name": "LayoutModel",
          "model_module_version": "1.2.0",
          "state": {
            "_model_module": "@jupyter-widgets/base",
            "_model_module_version": "1.2.0",
            "_model_name": "LayoutModel",
            "_view_count": null,
            "_view_module": "@jupyter-widgets/base",
            "_view_module_version": "1.2.0",
            "_view_name": "LayoutView",
            "align_content": null,
            "align_items": null,
            "align_self": null,
            "border": null,
            "bottom": null,
            "display": null,
            "flex": null,
            "flex_flow": null,
            "grid_area": null,
            "grid_auto_columns": null,
            "grid_auto_flow": null,
            "grid_auto_rows": null,
            "grid_column": null,
            "grid_gap": null,
            "grid_row": null,
            "grid_template_areas": null,
            "grid_template_columns": null,
            "grid_template_rows": null,
            "height": null,
            "justify_content": null,
            "justify_items": null,
            "left": null,
            "margin": null,
            "max_height": null,
            "max_width": null,
            "min_height": null,
            "min_width": null,
            "object_fit": null,
            "object_position": null,
            "order": null,
            "overflow": null,
            "overflow_x": null,
            "overflow_y": null,
            "padding": null,
            "right": null,
            "top": null,
            "visibility": null,
            "width": null
          }
        },
        "a0c1b25883b6455e91d4c4601584bf49": {
          "model_module": "@jupyter-widgets/controls",
          "model_name": "ProgressStyleModel",
          "model_module_version": "1.5.0",
          "state": {
            "_model_module": "@jupyter-widgets/controls",
            "_model_module_version": "1.5.0",
            "_model_name": "ProgressStyleModel",
            "_view_count": null,
            "_view_module": "@jupyter-widgets/base",
            "_view_module_version": "1.2.0",
            "_view_name": "StyleView",
            "bar_color": null,
            "description_width": ""
          }
        },
        "ae14de6b0e7047c29a8fc8b20a4aa04f": {
          "model_module": "@jupyter-widgets/base",
          "model_name": "LayoutModel",
          "model_module_version": "1.2.0",
          "state": {
            "_model_module": "@jupyter-widgets/base",
            "_model_module_version": "1.2.0",
            "_model_name": "LayoutModel",
            "_view_count": null,
            "_view_module": "@jupyter-widgets/base",
            "_view_module_version": "1.2.0",
            "_view_name": "LayoutView",
            "align_content": null,
            "align_items": null,
            "align_self": null,
            "border": null,
            "bottom": null,
            "display": null,
            "flex": null,
            "flex_flow": null,
            "grid_area": null,
            "grid_auto_columns": null,
            "grid_auto_flow": null,
            "grid_auto_rows": null,
            "grid_column": null,
            "grid_gap": null,
            "grid_row": null,
            "grid_template_areas": null,
            "grid_template_columns": null,
            "grid_template_rows": null,
            "height": null,
            "justify_content": null,
            "justify_items": null,
            "left": null,
            "margin": null,
            "max_height": null,
            "max_width": null,
            "min_height": null,
            "min_width": null,
            "object_fit": null,
            "object_position": null,
            "order": null,
            "overflow": null,
            "overflow_x": null,
            "overflow_y": null,
            "padding": null,
            "right": null,
            "top": null,
            "visibility": null,
            "width": null
          }
        },
        "4f03c4b6210d4150a4cd56e807397df0": {
          "model_module": "@jupyter-widgets/controls",
          "model_name": "DescriptionStyleModel",
          "model_module_version": "1.5.0",
          "state": {
            "_model_module": "@jupyter-widgets/controls",
            "_model_module_version": "1.5.0",
            "_model_name": "DescriptionStyleModel",
            "_view_count": null,
            "_view_module": "@jupyter-widgets/base",
            "_view_module_version": "1.2.0",
            "_view_name": "StyleView",
            "description_width": ""
          }
        },
        "ad3dac48798a4dcabed8c4acebb2cc34": {
          "model_module": "@jupyter-widgets/controls",
          "model_name": "HBoxModel",
          "model_module_version": "1.5.0",
          "state": {
            "_dom_classes": [],
            "_model_module": "@jupyter-widgets/controls",
            "_model_module_version": "1.5.0",
            "_model_name": "HBoxModel",
            "_view_count": null,
            "_view_module": "@jupyter-widgets/controls",
            "_view_module_version": "1.5.0",
            "_view_name": "HBoxView",
            "box_style": "",
            "children": [
              "IPY_MODEL_7d41934ab366459bb09c2cc83d71062d",
              "IPY_MODEL_be9b91e743bc43cfbc5153c8741bb62f",
              "IPY_MODEL_9c3731db4a684ab5959cd63793519d9e"
            ],
            "layout": "IPY_MODEL_662de3080fd14bc188671e8cad083ca0"
          }
        },
        "7d41934ab366459bb09c2cc83d71062d": {
          "model_module": "@jupyter-widgets/controls",
          "model_name": "HTMLModel",
          "model_module_version": "1.5.0",
          "state": {
            "_dom_classes": [],
            "_model_module": "@jupyter-widgets/controls",
            "_model_module_version": "1.5.0",
            "_model_name": "HTMLModel",
            "_view_count": null,
            "_view_module": "@jupyter-widgets/controls",
            "_view_module_version": "1.5.0",
            "_view_name": "HTMLView",
            "description": "",
            "description_tooltip": null,
            "layout": "IPY_MODEL_343e74aa9659489d8828e704dd1040fa",
            "placeholder": "​",
            "style": "IPY_MODEL_3fd6b36a6a9a4a36b28278911a7962f9",
            "value": "config.json: 100%"
          }
        },
        "be9b91e743bc43cfbc5153c8741bb62f": {
          "model_module": "@jupyter-widgets/controls",
          "model_name": "FloatProgressModel",
          "model_module_version": "1.5.0",
          "state": {
            "_dom_classes": [],
            "_model_module": "@jupyter-widgets/controls",
            "_model_module_version": "1.5.0",
            "_model_name": "FloatProgressModel",
            "_view_count": null,
            "_view_module": "@jupyter-widgets/controls",
            "_view_module_version": "1.5.0",
            "_view_name": "ProgressView",
            "bar_style": "success",
            "description": "",
            "description_tooltip": null,
            "layout": "IPY_MODEL_d07a890577e14a9888c3af920cb947af",
            "max": 570,
            "min": 0,
            "orientation": "horizontal",
            "style": "IPY_MODEL_3652e136443e4250b58783580d531343",
            "value": 570
          }
        },
        "9c3731db4a684ab5959cd63793519d9e": {
          "model_module": "@jupyter-widgets/controls",
          "model_name": "HTMLModel",
          "model_module_version": "1.5.0",
          "state": {
            "_dom_classes": [],
            "_model_module": "@jupyter-widgets/controls",
            "_model_module_version": "1.5.0",
            "_model_name": "HTMLModel",
            "_view_count": null,
            "_view_module": "@jupyter-widgets/controls",
            "_view_module_version": "1.5.0",
            "_view_name": "HTMLView",
            "description": "",
            "description_tooltip": null,
            "layout": "IPY_MODEL_dbd7310bbbc349afaab5fa64905bdec5",
            "placeholder": "​",
            "style": "IPY_MODEL_11c2625f4f6a44369d582b2c5c9639f0",
            "value": " 570/570 [00:00&lt;00:00, 19.3kB/s]"
          }
        },
        "662de3080fd14bc188671e8cad083ca0": {
          "model_module": "@jupyter-widgets/base",
          "model_name": "LayoutModel",
          "model_module_version": "1.2.0",
          "state": {
            "_model_module": "@jupyter-widgets/base",
            "_model_module_version": "1.2.0",
            "_model_name": "LayoutModel",
            "_view_count": null,
            "_view_module": "@jupyter-widgets/base",
            "_view_module_version": "1.2.0",
            "_view_name": "LayoutView",
            "align_content": null,
            "align_items": null,
            "align_self": null,
            "border": null,
            "bottom": null,
            "display": null,
            "flex": null,
            "flex_flow": null,
            "grid_area": null,
            "grid_auto_columns": null,
            "grid_auto_flow": null,
            "grid_auto_rows": null,
            "grid_column": null,
            "grid_gap": null,
            "grid_row": null,
            "grid_template_areas": null,
            "grid_template_columns": null,
            "grid_template_rows": null,
            "height": null,
            "justify_content": null,
            "justify_items": null,
            "left": null,
            "margin": null,
            "max_height": null,
            "max_width": null,
            "min_height": null,
            "min_width": null,
            "object_fit": null,
            "object_position": null,
            "order": null,
            "overflow": null,
            "overflow_x": null,
            "overflow_y": null,
            "padding": null,
            "right": null,
            "top": null,
            "visibility": null,
            "width": null
          }
        },
        "343e74aa9659489d8828e704dd1040fa": {
          "model_module": "@jupyter-widgets/base",
          "model_name": "LayoutModel",
          "model_module_version": "1.2.0",
          "state": {
            "_model_module": "@jupyter-widgets/base",
            "_model_module_version": "1.2.0",
            "_model_name": "LayoutModel",
            "_view_count": null,
            "_view_module": "@jupyter-widgets/base",
            "_view_module_version": "1.2.0",
            "_view_name": "LayoutView",
            "align_content": null,
            "align_items": null,
            "align_self": null,
            "border": null,
            "bottom": null,
            "display": null,
            "flex": null,
            "flex_flow": null,
            "grid_area": null,
            "grid_auto_columns": null,
            "grid_auto_flow": null,
            "grid_auto_rows": null,
            "grid_column": null,
            "grid_gap": null,
            "grid_row": null,
            "grid_template_areas": null,
            "grid_template_columns": null,
            "grid_template_rows": null,
            "height": null,
            "justify_content": null,
            "justify_items": null,
            "left": null,
            "margin": null,
            "max_height": null,
            "max_width": null,
            "min_height": null,
            "min_width": null,
            "object_fit": null,
            "object_position": null,
            "order": null,
            "overflow": null,
            "overflow_x": null,
            "overflow_y": null,
            "padding": null,
            "right": null,
            "top": null,
            "visibility": null,
            "width": null
          }
        },
        "3fd6b36a6a9a4a36b28278911a7962f9": {
          "model_module": "@jupyter-widgets/controls",
          "model_name": "DescriptionStyleModel",
          "model_module_version": "1.5.0",
          "state": {
            "_model_module": "@jupyter-widgets/controls",
            "_model_module_version": "1.5.0",
            "_model_name": "DescriptionStyleModel",
            "_view_count": null,
            "_view_module": "@jupyter-widgets/base",
            "_view_module_version": "1.2.0",
            "_view_name": "StyleView",
            "description_width": ""
          }
        },
        "d07a890577e14a9888c3af920cb947af": {
          "model_module": "@jupyter-widgets/base",
          "model_name": "LayoutModel",
          "model_module_version": "1.2.0",
          "state": {
            "_model_module": "@jupyter-widgets/base",
            "_model_module_version": "1.2.0",
            "_model_name": "LayoutModel",
            "_view_count": null,
            "_view_module": "@jupyter-widgets/base",
            "_view_module_version": "1.2.0",
            "_view_name": "LayoutView",
            "align_content": null,
            "align_items": null,
            "align_self": null,
            "border": null,
            "bottom": null,
            "display": null,
            "flex": null,
            "flex_flow": null,
            "grid_area": null,
            "grid_auto_columns": null,
            "grid_auto_flow": null,
            "grid_auto_rows": null,
            "grid_column": null,
            "grid_gap": null,
            "grid_row": null,
            "grid_template_areas": null,
            "grid_template_columns": null,
            "grid_template_rows": null,
            "height": null,
            "justify_content": null,
            "justify_items": null,
            "left": null,
            "margin": null,
            "max_height": null,
            "max_width": null,
            "min_height": null,
            "min_width": null,
            "object_fit": null,
            "object_position": null,
            "order": null,
            "overflow": null,
            "overflow_x": null,
            "overflow_y": null,
            "padding": null,
            "right": null,
            "top": null,
            "visibility": null,
            "width": null
          }
        },
        "3652e136443e4250b58783580d531343": {
          "model_module": "@jupyter-widgets/controls",
          "model_name": "ProgressStyleModel",
          "model_module_version": "1.5.0",
          "state": {
            "_model_module": "@jupyter-widgets/controls",
            "_model_module_version": "1.5.0",
            "_model_name": "ProgressStyleModel",
            "_view_count": null,
            "_view_module": "@jupyter-widgets/base",
            "_view_module_version": "1.2.0",
            "_view_name": "StyleView",
            "bar_color": null,
            "description_width": ""
          }
        },
        "dbd7310bbbc349afaab5fa64905bdec5": {
          "model_module": "@jupyter-widgets/base",
          "model_name": "LayoutModel",
          "model_module_version": "1.2.0",
          "state": {
            "_model_module": "@jupyter-widgets/base",
            "_model_module_version": "1.2.0",
            "_model_name": "LayoutModel",
            "_view_count": null,
            "_view_module": "@jupyter-widgets/base",
            "_view_module_version": "1.2.0",
            "_view_name": "LayoutView",
            "align_content": null,
            "align_items": null,
            "align_self": null,
            "border": null,
            "bottom": null,
            "display": null,
            "flex": null,
            "flex_flow": null,
            "grid_area": null,
            "grid_auto_columns": null,
            "grid_auto_flow": null,
            "grid_auto_rows": null,
            "grid_column": null,
            "grid_gap": null,
            "grid_row": null,
            "grid_template_areas": null,
            "grid_template_columns": null,
            "grid_template_rows": null,
            "height": null,
            "justify_content": null,
            "justify_items": null,
            "left": null,
            "margin": null,
            "max_height": null,
            "max_width": null,
            "min_height": null,
            "min_width": null,
            "object_fit": null,
            "object_position": null,
            "order": null,
            "overflow": null,
            "overflow_x": null,
            "overflow_y": null,
            "padding": null,
            "right": null,
            "top": null,
            "visibility": null,
            "width": null
          }
        },
        "11c2625f4f6a44369d582b2c5c9639f0": {
          "model_module": "@jupyter-widgets/controls",
          "model_name": "DescriptionStyleModel",
          "model_module_version": "1.5.0",
          "state": {
            "_model_module": "@jupyter-widgets/controls",
            "_model_module_version": "1.5.0",
            "_model_name": "DescriptionStyleModel",
            "_view_count": null,
            "_view_module": "@jupyter-widgets/base",
            "_view_module_version": "1.2.0",
            "_view_name": "StyleView",
            "description_width": ""
          }
        },
        "302bf3fcdc2b42e0b4bfd8ba3363859d": {
          "model_module": "@jupyter-widgets/controls",
          "model_name": "HBoxModel",
          "model_module_version": "1.5.0",
          "state": {
            "_dom_classes": [],
            "_model_module": "@jupyter-widgets/controls",
            "_model_module_version": "1.5.0",
            "_model_name": "HBoxModel",
            "_view_count": null,
            "_view_module": "@jupyter-widgets/controls",
            "_view_module_version": "1.5.0",
            "_view_name": "HBoxView",
            "box_style": "",
            "children": [
              "IPY_MODEL_9f701cd29c7a43feb421cc4a8f8d9010",
              "IPY_MODEL_fc0d6cd2238f4cc6a123a4a5d844ddce",
              "IPY_MODEL_04ef626779534274833b2884e717d750"
            ],
            "layout": "IPY_MODEL_c1ab5c9a1bab4e79a7d1958af98fc267"
          }
        },
        "9f701cd29c7a43feb421cc4a8f8d9010": {
          "model_module": "@jupyter-widgets/controls",
          "model_name": "HTMLModel",
          "model_module_version": "1.5.0",
          "state": {
            "_dom_classes": [],
            "_model_module": "@jupyter-widgets/controls",
            "_model_module_version": "1.5.0",
            "_model_name": "HTMLModel",
            "_view_count": null,
            "_view_module": "@jupyter-widgets/controls",
            "_view_module_version": "1.5.0",
            "_view_name": "HTMLView",
            "description": "",
            "description_tooltip": null,
            "layout": "IPY_MODEL_1c62e419318c47a8be210989fec0c131",
            "placeholder": "​",
            "style": "IPY_MODEL_76e5e01ed85041eca2f1e489924c1984",
            "value": "model.safetensors: 100%"
          }
        },
        "fc0d6cd2238f4cc6a123a4a5d844ddce": {
          "model_module": "@jupyter-widgets/controls",
          "model_name": "FloatProgressModel",
          "model_module_version": "1.5.0",
          "state": {
            "_dom_classes": [],
            "_model_module": "@jupyter-widgets/controls",
            "_model_module_version": "1.5.0",
            "_model_name": "FloatProgressModel",
            "_view_count": null,
            "_view_module": "@jupyter-widgets/controls",
            "_view_module_version": "1.5.0",
            "_view_name": "ProgressView",
            "bar_style": "success",
            "description": "",
            "description_tooltip": null,
            "layout": "IPY_MODEL_ae6fc1581e6144929a2a705e587d8a5b",
            "max": 440449768,
            "min": 0,
            "orientation": "horizontal",
            "style": "IPY_MODEL_3c40b7bf79b944819ea4740493d5b254",
            "value": 440449768
          }
        },
        "04ef626779534274833b2884e717d750": {
          "model_module": "@jupyter-widgets/controls",
          "model_name": "HTMLModel",
          "model_module_version": "1.5.0",
          "state": {
            "_dom_classes": [],
            "_model_module": "@jupyter-widgets/controls",
            "_model_module_version": "1.5.0",
            "_model_name": "HTMLModel",
            "_view_count": null,
            "_view_module": "@jupyter-widgets/controls",
            "_view_module_version": "1.5.0",
            "_view_name": "HTMLView",
            "description": "",
            "description_tooltip": null,
            "layout": "IPY_MODEL_3ca68090b8e043869993387251430ff9",
            "placeholder": "​",
            "style": "IPY_MODEL_ec02a5c78ee346a5924c6066e306e0dc",
            "value": " 440M/440M [00:03&lt;00:00, 89.9MB/s]"
          }
        },
        "c1ab5c9a1bab4e79a7d1958af98fc267": {
          "model_module": "@jupyter-widgets/base",
          "model_name": "LayoutModel",
          "model_module_version": "1.2.0",
          "state": {
            "_model_module": "@jupyter-widgets/base",
            "_model_module_version": "1.2.0",
            "_model_name": "LayoutModel",
            "_view_count": null,
            "_view_module": "@jupyter-widgets/base",
            "_view_module_version": "1.2.0",
            "_view_name": "LayoutView",
            "align_content": null,
            "align_items": null,
            "align_self": null,
            "border": null,
            "bottom": null,
            "display": null,
            "flex": null,
            "flex_flow": null,
            "grid_area": null,
            "grid_auto_columns": null,
            "grid_auto_flow": null,
            "grid_auto_rows": null,
            "grid_column": null,
            "grid_gap": null,
            "grid_row": null,
            "grid_template_areas": null,
            "grid_template_columns": null,
            "grid_template_rows": null,
            "height": null,
            "justify_content": null,
            "justify_items": null,
            "left": null,
            "margin": null,
            "max_height": null,
            "max_width": null,
            "min_height": null,
            "min_width": null,
            "object_fit": null,
            "object_position": null,
            "order": null,
            "overflow": null,
            "overflow_x": null,
            "overflow_y": null,
            "padding": null,
            "right": null,
            "top": null,
            "visibility": null,
            "width": null
          }
        },
        "1c62e419318c47a8be210989fec0c131": {
          "model_module": "@jupyter-widgets/base",
          "model_name": "LayoutModel",
          "model_module_version": "1.2.0",
          "state": {
            "_model_module": "@jupyter-widgets/base",
            "_model_module_version": "1.2.0",
            "_model_name": "LayoutModel",
            "_view_count": null,
            "_view_module": "@jupyter-widgets/base",
            "_view_module_version": "1.2.0",
            "_view_name": "LayoutView",
            "align_content": null,
            "align_items": null,
            "align_self": null,
            "border": null,
            "bottom": null,
            "display": null,
            "flex": null,
            "flex_flow": null,
            "grid_area": null,
            "grid_auto_columns": null,
            "grid_auto_flow": null,
            "grid_auto_rows": null,
            "grid_column": null,
            "grid_gap": null,
            "grid_row": null,
            "grid_template_areas": null,
            "grid_template_columns": null,
            "grid_template_rows": null,
            "height": null,
            "justify_content": null,
            "justify_items": null,
            "left": null,
            "margin": null,
            "max_height": null,
            "max_width": null,
            "min_height": null,
            "min_width": null,
            "object_fit": null,
            "object_position": null,
            "order": null,
            "overflow": null,
            "overflow_x": null,
            "overflow_y": null,
            "padding": null,
            "right": null,
            "top": null,
            "visibility": null,
            "width": null
          }
        },
        "76e5e01ed85041eca2f1e489924c1984": {
          "model_module": "@jupyter-widgets/controls",
          "model_name": "DescriptionStyleModel",
          "model_module_version": "1.5.0",
          "state": {
            "_model_module": "@jupyter-widgets/controls",
            "_model_module_version": "1.5.0",
            "_model_name": "DescriptionStyleModel",
            "_view_count": null,
            "_view_module": "@jupyter-widgets/base",
            "_view_module_version": "1.2.0",
            "_view_name": "StyleView",
            "description_width": ""
          }
        },
        "ae6fc1581e6144929a2a705e587d8a5b": {
          "model_module": "@jupyter-widgets/base",
          "model_name": "LayoutModel",
          "model_module_version": "1.2.0",
          "state": {
            "_model_module": "@jupyter-widgets/base",
            "_model_module_version": "1.2.0",
            "_model_name": "LayoutModel",
            "_view_count": null,
            "_view_module": "@jupyter-widgets/base",
            "_view_module_version": "1.2.0",
            "_view_name": "LayoutView",
            "align_content": null,
            "align_items": null,
            "align_self": null,
            "border": null,
            "bottom": null,
            "display": null,
            "flex": null,
            "flex_flow": null,
            "grid_area": null,
            "grid_auto_columns": null,
            "grid_auto_flow": null,
            "grid_auto_rows": null,
            "grid_column": null,
            "grid_gap": null,
            "grid_row": null,
            "grid_template_areas": null,
            "grid_template_columns": null,
            "grid_template_rows": null,
            "height": null,
            "justify_content": null,
            "justify_items": null,
            "left": null,
            "margin": null,
            "max_height": null,
            "max_width": null,
            "min_height": null,
            "min_width": null,
            "object_fit": null,
            "object_position": null,
            "order": null,
            "overflow": null,
            "overflow_x": null,
            "overflow_y": null,
            "padding": null,
            "right": null,
            "top": null,
            "visibility": null,
            "width": null
          }
        },
        "3c40b7bf79b944819ea4740493d5b254": {
          "model_module": "@jupyter-widgets/controls",
          "model_name": "ProgressStyleModel",
          "model_module_version": "1.5.0",
          "state": {
            "_model_module": "@jupyter-widgets/controls",
            "_model_module_version": "1.5.0",
            "_model_name": "ProgressStyleModel",
            "_view_count": null,
            "_view_module": "@jupyter-widgets/base",
            "_view_module_version": "1.2.0",
            "_view_name": "StyleView",
            "bar_color": null,
            "description_width": ""
          }
        },
        "3ca68090b8e043869993387251430ff9": {
          "model_module": "@jupyter-widgets/base",
          "model_name": "LayoutModel",
          "model_module_version": "1.2.0",
          "state": {
            "_model_module": "@jupyter-widgets/base",
            "_model_module_version": "1.2.0",
            "_model_name": "LayoutModel",
            "_view_count": null,
            "_view_module": "@jupyter-widgets/base",
            "_view_module_version": "1.2.0",
            "_view_name": "LayoutView",
            "align_content": null,
            "align_items": null,
            "align_self": null,
            "border": null,
            "bottom": null,
            "display": null,
            "flex": null,
            "flex_flow": null,
            "grid_area": null,
            "grid_auto_columns": null,
            "grid_auto_flow": null,
            "grid_auto_rows": null,
            "grid_column": null,
            "grid_gap": null,
            "grid_row": null,
            "grid_template_areas": null,
            "grid_template_columns": null,
            "grid_template_rows": null,
            "height": null,
            "justify_content": null,
            "justify_items": null,
            "left": null,
            "margin": null,
            "max_height": null,
            "max_width": null,
            "min_height": null,
            "min_width": null,
            "object_fit": null,
            "object_position": null,
            "order": null,
            "overflow": null,
            "overflow_x": null,
            "overflow_y": null,
            "padding": null,
            "right": null,
            "top": null,
            "visibility": null,
            "width": null
          }
        },
        "ec02a5c78ee346a5924c6066e306e0dc": {
          "model_module": "@jupyter-widgets/controls",
          "model_name": "DescriptionStyleModel",
          "model_module_version": "1.5.0",
          "state": {
            "_model_module": "@jupyter-widgets/controls",
            "_model_module_version": "1.5.0",
            "_model_name": "DescriptionStyleModel",
            "_view_count": null,
            "_view_module": "@jupyter-widgets/base",
            "_view_module_version": "1.2.0",
            "_view_name": "StyleView",
            "description_width": ""
          }
        }
      }
    }
  },
  "cells": [
    {
      "cell_type": "markdown",
      "source": [
        "https://freedium.cfd/https://medium.com/@vipra_singh/llm-architectures-explained-word-embeddings-part-2-ff6b9cf1d82d"
      ],
      "metadata": {
        "id": "zkdo1iOvDhEY"
      }
    },
    {
      "cell_type": "code",
      "source": [
        "from sklearn.feature_extraction.text import CountVectorizer, TfidfVectorizer\n",
        "from sklearn.metrics.pairwise import cosine_similarity\n",
        "import pandas as pd\n",
        "import numpy as np"
      ],
      "metadata": {
        "id": "fYvufeEknT1O"
      },
      "execution_count": null,
      "outputs": []
    },
    {
      "cell_type": "markdown",
      "source": [
        "![image.png](data:image/png;base64,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)"
      ],
      "metadata": {
        "id": "hniN6AAV7trX"
      }
    },
    {
      "cell_type": "markdown",
      "source": [
        "# Bag OF words"
      ],
      "metadata": {
        "id": "sbt0Jty7nndd"
      }
    },
    {
      "cell_type": "markdown",
      "source": [
        "#### Disadvantages\n",
        "  - Don't capture semantic meaning\n",
        "  - Don't maintanin the sequence\n",
        "  - as vocab increase diamention of vector also increases\n",
        "  - It's just a bag of words"
      ],
      "metadata": {
        "id": "H422jioioezE"
      }
    },
    {
      "cell_type": "code",
      "source": [
        "from sklearn.feature_extraction.text import CountVectorizer\n",
        "documents = [\n",
        "    \"Machine learning is is a branch of artificial intelligence.\",\n",
        "    \"Natural language processing is a part of machine learning.\",\n",
        "    \"Word2Vec is a popular algorithm for learning word representations.\",\n",
        "    \"Deep learning models have shown great performance in NLP tasks.\"\n",
        "]\n",
        "\n",
        "\n",
        "bow= CountVectorizer()\n",
        "bow_matrix= bow.fit_transform(documents)\n",
        "print(bow_matrix.toarray())"
      ],
      "metadata": {
        "colab": {
          "base_uri": "https://localhost:8080/"
        },
        "id": "RPwA4BYOnjwG",
        "outputId": "b1e724e8-aed4-4a5f-d7b9-65319efa5ef3"
      },
      "execution_count": null,
      "outputs": [
        {
          "output_type": "stream",
          "name": "stdout",
          "text": [
            "[[0 1 1 0 0 0 0 0 1 2 0 1 1 0 0 0 1 0 0 0 0 0 0 0 0 0]\n",
            " [0 0 0 0 0 0 0 0 0 1 1 1 1 0 1 0 1 1 0 0 1 0 0 0 0 0]\n",
            " [1 0 0 0 1 0 0 0 0 1 0 1 0 0 0 0 0 0 0 1 0 1 0 0 1 1]\n",
            " [0 0 0 1 0 1 1 1 0 0 0 1 0 1 0 1 0 0 1 0 0 0 1 1 0 0]]\n"
          ]
        }
      ]
    },
    {
      "cell_type": "code",
      "source": [
        "bow.get_feature_names_out()"
      ],
      "metadata": {
        "colab": {
          "base_uri": "https://localhost:8080/"
        },
        "id": "ewiIh5fKoBE_",
        "outputId": "bbbc0504-f542-41a7-f2a8-75fa3be1f0cb"
      },
      "execution_count": null,
      "outputs": [
        {
          "output_type": "execute_result",
          "data": {
            "text/plain": [
              "array(['algorithm', 'artificial', 'branch', 'deep', 'for', 'great',\n",
              "       'have', 'in', 'intelligence', 'is', 'language', 'learning',\n",
              "       'machine', 'models', 'natural', 'nlp', 'of', 'part', 'performance',\n",
              "       'popular', 'processing', 'representations', 'shown', 'tasks',\n",
              "       'word', 'word2vec'], dtype=object)"
            ]
          },
          "metadata": {},
          "execution_count": 11
        }
      ]
    },
    {
      "cell_type": "code",
      "source": [
        "bow.transform([\"Shubham\"]).toarray() # because this word not in my training dataset"
      ],
      "metadata": {
        "colab": {
          "base_uri": "https://localhost:8080/"
        },
        "id": "noJiI9kBtswl",
        "outputId": "ffc3f58c-671e-429d-898e-d9d0a1d31868"
      },
      "execution_count": null,
      "outputs": [
        {
          "output_type": "execute_result",
          "data": {
            "text/plain": [
              "array([[0, 0, 0, 0, 0, 0, 0, 0, 0, 0, 0, 0, 0, 0, 0, 0, 0, 0, 0, 0, 0, 0,\n",
              "        0, 0, 0, 0]])"
            ]
          },
          "metadata": {},
          "execution_count": 58
        }
      ]
    },
    {
      "cell_type": "markdown",
      "source": [
        "## BoW Ngrams"
      ],
      "metadata": {
        "id": "zI7885AOpAu2"
      }
    },
    {
      "cell_type": "code",
      "source": [
        "#1,2\n",
        "bow_ngram= CountVectorizer(ngram_range=(1,2))\n",
        "bow_ngram_matrix= bow_ngram.fit_transform(documents)\n",
        "print(bow_ngram_matrix.toarray())"
      ],
      "metadata": {
        "colab": {
          "base_uri": "https://localhost:8080/"
        },
        "id": "fM1yi2lSqIMO",
        "outputId": "06d95706-dee7-45f3-e7e4-2d64ce84d569"
      },
      "execution_count": null,
      "outputs": [
        {
          "output_type": "stream",
          "name": "stdout",
          "text": [
            "[[0 0 1 1 1 1 0 0 0 0 0 0 0 0 0 0 1 2 1 1 0 0 0 0 1 1 0 0 1 1 0 0 0 0 0 0\n",
            "  1 1 0 0 0 0 0 0 0 0 0 0 0 0 0 0 0 0 0]\n",
            " [0 0 0 0 0 0 0 0 0 0 0 0 0 0 0 0 0 1 0 0 1 0 1 1 1 0 0 0 1 1 0 0 1 1 0 0\n",
            "  1 0 1 1 1 0 0 0 0 1 1 0 0 0 0 0 0 0 0]\n",
            " [1 1 0 0 0 0 0 0 1 1 0 0 0 0 0 0 0 1 0 0 0 1 0 0 1 0 0 1 0 0 0 0 0 0 0 0\n",
            "  0 0 0 0 0 0 0 1 1 0 0 1 0 0 0 1 1 1 1]\n",
            " [0 0 0 0 0 0 1 1 0 0 1 1 1 1 1 1 0 0 0 0 0 0 0 0 1 0 1 0 0 0 1 1 0 0 1 1\n",
            "  0 0 0 0 0 1 1 0 0 0 0 0 1 1 1 0 0 0 0]]\n"
          ]
        }
      ]
    },
    {
      "cell_type": "code",
      "source": [
        "bow_ngram.get_feature_names_out()"
      ],
      "metadata": {
        "colab": {
          "base_uri": "https://localhost:8080/"
        },
        "id": "YK6-LvzzqKYq",
        "outputId": "b0099f7b-812e-427a-ef53-b69fef229ee9"
      },
      "execution_count": null,
      "outputs": [
        {
          "output_type": "execute_result",
          "data": {
            "text/plain": [
              "array(['algorithm', 'algorithm for', 'artificial',\n",
              "       'artificial intelligence', 'branch', 'branch of', 'deep',\n",
              "       'deep learning', 'for', 'for learning', 'great',\n",
              "       'great performance', 'have', 'have shown', 'in', 'in nlp',\n",
              "       'intelligence', 'is', 'is branch', 'is is', 'is part',\n",
              "       'is popular', 'language', 'language processing', 'learning',\n",
              "       'learning is', 'learning models', 'learning word', 'machine',\n",
              "       'machine learning', 'models', 'models have', 'natural',\n",
              "       'natural language', 'nlp', 'nlp tasks', 'of', 'of artificial',\n",
              "       'of machine', 'part', 'part of', 'performance', 'performance in',\n",
              "       'popular', 'popular algorithm', 'processing', 'processing is',\n",
              "       'representations', 'shown', 'shown great', 'tasks', 'word',\n",
              "       'word representations', 'word2vec', 'word2vec is'], dtype=object)"
            ]
          },
          "metadata": {},
          "execution_count": 19
        }
      ]
    },
    {
      "cell_type": "code",
      "source": [
        "bow_ngram= CountVectorizer(ngram_range=(2,2))\n",
        "bow_ngram_matrix= bow_ngram.fit_transform(documents)\n",
        "print(bow_ngram_matrix.toarray())"
      ],
      "metadata": {
        "colab": {
          "base_uri": "https://localhost:8080/"
        },
        "id": "Cm_zBxyOoZth",
        "outputId": "6a43d3d0-d914-4ae6-e8fe-6792356b7184"
      },
      "execution_count": null,
      "outputs": [
        {
          "output_type": "stream",
          "name": "stdout",
          "text": [
            "[[0 1 1 0 0 0 0 0 1 1 0 0 0 1 0 0 1 0 0 0 1 0 0 0 0 0 0 0 0]\n",
            " [0 0 0 0 0 0 0 0 0 0 1 0 1 0 0 0 1 0 1 0 0 1 1 0 0 1 0 0 0]\n",
            " [1 0 0 0 1 0 0 0 0 0 0 1 0 0 0 1 0 0 0 0 0 0 0 0 1 0 0 1 1]\n",
            " [0 0 0 1 0 1 1 1 0 0 0 0 0 0 1 0 0 1 0 1 0 0 0 1 0 0 1 0 0]]\n"
          ]
        }
      ]
    },
    {
      "cell_type": "code",
      "source": [
        "bow_ngram.get_feature_names_out()"
      ],
      "metadata": {
        "colab": {
          "base_uri": "https://localhost:8080/"
        },
        "id": "KiI46Rmzpyo0",
        "outputId": "c2a6e773-8163-401b-cedd-b95e1c12b4aa"
      },
      "execution_count": null,
      "outputs": [
        {
          "output_type": "execute_result",
          "data": {
            "text/plain": [
              "array(['algorithm for', 'artificial intelligence', 'branch of',\n",
              "       'deep learning', 'for learning', 'great performance', 'have shown',\n",
              "       'in nlp', 'is branch', 'is is', 'is part', 'is popular',\n",
              "       'language processing', 'learning is', 'learning models',\n",
              "       'learning word', 'machine learning', 'models have',\n",
              "       'natural language', 'nlp tasks', 'of artificial', 'of machine',\n",
              "       'part of', 'performance in', 'popular algorithm', 'processing is',\n",
              "       'shown great', 'word representations', 'word2vec is'], dtype=object)"
            ]
          },
          "metadata": {},
          "execution_count": 17
        }
      ]
    },
    {
      "cell_type": "code",
      "source": [],
      "metadata": {
        "id": "UAOX9faKtpco"
      },
      "execution_count": null,
      "outputs": []
    },
    {
      "cell_type": "markdown",
      "source": [
        "# TF-IDF"
      ],
      "metadata": {
        "id": "ESN0nLEjqOqv"
      }
    },
    {
      "cell_type": "code",
      "source": [
        "from sklearn.feature_extraction.text import TfidfVectorizer"
      ],
      "metadata": {
        "id": "c1h5Sm1mqS_o"
      },
      "execution_count": null,
      "outputs": []
    },
    {
      "cell_type": "code",
      "source": [
        "documents = [\n",
        "    \"Machine learning is is a branch of artificial intelligence.\",\n",
        "    \"Natural language processing is a part of machine learning.\",\n",
        "    \"Word2Vec is a popular algorithm for learning word representations.\",\n",
        "    \"Deep learning models have shown great performance in NLP tasks.\"\n",
        "]\n",
        "\n",
        "tfidf= TfidfVectorizer()\n",
        "tfidf_matrix= tfidf.fit_transform(documents)\n",
        "tfidf_matrix.toarray()"
      ],
      "metadata": {
        "colab": {
          "base_uri": "https://localhost:8080/"
        },
        "id": "AlsBmMfQp5lF",
        "outputId": "485da9da-5373-4327-93f7-0904d95d2700"
      },
      "execution_count": null,
      "outputs": [
        {
          "output_type": "execute_result",
          "data": {
            "text/plain": [
              "array([[0.        , 0.40339817, 0.40339817, 0.        , 0.        ,\n",
              "        0.        , 0.        , 0.        , 0.40339817, 0.51496765,\n",
              "        0.        , 0.2105099 , 0.31804375, 0.        , 0.        ,\n",
              "        0.        , 0.31804375, 0.        , 0.        , 0.        ,\n",
              "        0.        , 0.        , 0.        , 0.        , 0.        ,\n",
              "        0.        ],\n",
              "       [0.        , 0.        , 0.        , 0.        , 0.        ,\n",
              "        0.        , 0.        , 0.        , 0.        , 0.26226981,\n",
              "        0.41089634, 0.21442276, 0.3239554 , 0.        , 0.41089634,\n",
              "        0.        , 0.3239554 , 0.41089634, 0.        , 0.        ,\n",
              "        0.41089634, 0.        , 0.        , 0.        , 0.        ,\n",
              "        0.        ],\n",
              "       [0.38691947, 0.        , 0.        , 0.        , 0.38691947,\n",
              "        0.        , 0.        , 0.        , 0.        , 0.24696568,\n",
              "        0.        , 0.20191063, 0.        , 0.        , 0.        ,\n",
              "        0.        , 0.        , 0.        , 0.        , 0.38691947,\n",
              "        0.        , 0.38691947, 0.        , 0.        , 0.38691947,\n",
              "        0.38691947],\n",
              "       [0.        , 0.        , 0.        , 0.32840203, 0.        ,\n",
              "        0.32840203, 0.32840203, 0.32840203, 0.        , 0.        ,\n",
              "        0.        , 0.1713738 , 0.        , 0.32840203, 0.        ,\n",
              "        0.32840203, 0.        , 0.        , 0.32840203, 0.        ,\n",
              "        0.        , 0.        , 0.32840203, 0.32840203, 0.        ,\n",
              "        0.        ]])"
            ]
          },
          "metadata": {},
          "execution_count": 38
        }
      ]
    },
    {
      "cell_type": "code",
      "source": [
        "tfidf.transform([\"Shubham\"]).toarray() #Because this word is not in my training dataset"
      ],
      "metadata": {
        "colab": {
          "base_uri": "https://localhost:8080/"
        },
        "id": "5UKw0Xg3t_lN",
        "outputId": "4c795ee6-b6ab-408e-d6fb-9214bacc4a74"
      },
      "execution_count": null,
      "outputs": [
        {
          "output_type": "execute_result",
          "data": {
            "text/plain": [
              "array([[0., 0., 0., 0., 0., 0., 0., 0., 0., 0., 0., 0., 0., 0., 0., 0.,\n",
              "        0., 0., 0., 0., 0., 0., 0., 0., 0., 0.]])"
            ]
          },
          "metadata": {},
          "execution_count": 60
        }
      ]
    },
    {
      "cell_type": "code",
      "source": [
        "print(tfidf.vocabulary_)"
      ],
      "metadata": {
        "colab": {
          "base_uri": "https://localhost:8080/"
        },
        "id": "DlmIh8nJqWyY",
        "outputId": "7a16875d-b7f5-4e95-a69e-5d6ce70fe955"
      },
      "execution_count": null,
      "outputs": [
        {
          "output_type": "stream",
          "name": "stdout",
          "text": [
            "{'machine': 12, 'learning': 11, 'is': 9, 'branch': 2, 'of': 16, 'artificial': 1, 'intelligence': 8, 'natural': 14, 'language': 10, 'processing': 20, 'part': 17, 'word2vec': 25, 'popular': 19, 'algorithm': 0, 'for': 4, 'word': 24, 'representations': 21, 'deep': 3, 'models': 13, 'have': 6, 'shown': 22, 'great': 5, 'performance': 18, 'in': 7, 'nlp': 15, 'tasks': 23}\n"
          ]
        }
      ]
    },
    {
      "cell_type": "code",
      "source": [
        "tfidf.get_feature_names_out()"
      ],
      "metadata": {
        "colab": {
          "base_uri": "https://localhost:8080/"
        },
        "id": "PDIqXnrSq8Ek",
        "outputId": "9c3c019e-a71c-40e9-d1d3-92fff9926674"
      },
      "execution_count": null,
      "outputs": [
        {
          "output_type": "execute_result",
          "data": {
            "text/plain": [
              "array(['algorithm', 'artificial', 'branch', 'deep', 'for', 'great',\n",
              "       'have', 'in', 'intelligence', 'is', 'language', 'learning',\n",
              "       'machine', 'models', 'natural', 'nlp', 'of', 'part', 'performance',\n",
              "       'popular', 'processing', 'representations', 'shown', 'tasks',\n",
              "       'word', 'word2vec'], dtype=object)"
            ]
          },
          "metadata": {},
          "execution_count": 35
        }
      ]
    },
    {
      "cell_type": "code",
      "source": [
        "tfidf.get_params(), tfidf.get_stop_words()"
      ],
      "metadata": {
        "colab": {
          "base_uri": "https://localhost:8080/"
        },
        "id": "3iUs2K1UrMW8",
        "outputId": "bbf40a31-b1bc-4483-9766-8d0a242995b1"
      },
      "execution_count": null,
      "outputs": [
        {
          "output_type": "execute_result",
          "data": {
            "text/plain": [
              "({'analyzer': 'word',\n",
              "  'binary': True,\n",
              "  'decode_error': 'strict',\n",
              "  'dtype': numpy.float64,\n",
              "  'encoding': 'utf-8',\n",
              "  'input': 'content',\n",
              "  'lowercase': True,\n",
              "  'max_df': 1.0,\n",
              "  'max_features': None,\n",
              "  'min_df': 1,\n",
              "  'ngram_range': (1, 1),\n",
              "  'norm': 'l2',\n",
              "  'preprocessor': None,\n",
              "  'smooth_idf': True,\n",
              "  'stop_words': None,\n",
              "  'strip_accents': None,\n",
              "  'sublinear_tf': False,\n",
              "  'token_pattern': '(?u)\\\\b\\\\w\\\\w+\\\\b',\n",
              "  'tokenizer': None,\n",
              "  'use_idf': True,\n",
              "  'vocabulary': None},\n",
              " None)"
            ]
          },
          "metadata": {},
          "execution_count": 37
        }
      ]
    },
    {
      "cell_type": "markdown",
      "source": [
        "# Word2Vec\n",
        "\n",
        "In the **Word2Vec** model, the concept of \"hidden layers\" is slightly different from traditional neural networks (like in deep learning models). Word2Vec is based on a shallow neural network, typically having just **one hidden layer**.\n",
        "\n",
        "Here’s a breakdown of how Word2Vec works, focusing on its architecture:\n",
        "\n",
        "### 1. **Single Hidden Layer**:\n",
        "Word2Vec is a simple neural network with a **single hidden layer**. Depending on the model (CBOW or Skip-gram), the hidden layer represents the word embeddings (vectors).\n",
        "\n",
        "- **Input layer**: The model takes a one-hot encoded vector representing a word in the vocabulary.\n",
        "- **Hidden layer**: The one hidden layer contains neurons corresponding to the size of the word embeddings (vector size), where the word's vector representation is learned.\n",
        "- **Output layer**: For CBOW, the output layer predicts the target word from the context words; for Skip-gram, it predicts the context words from the target word.\n",
        "\n",
        "### 2. **Model Architectures**:\n",
        "   - **Continuous Bag of Words (CBOW)**:\n",
        "     - The input layer takes context words (surrounding words) to predict the target word.\n",
        "     - The hidden layer learns to combine the context words into a vector representation.\n",
        "     - The output layer predicts the probability of the target word based on the learned hidden layer representation.\n",
        "\n",
        "   - **Skip-gram**:\n",
        "     - The input layer takes the target word to predict its surrounding context words.\n",
        "     - The hidden layer learns a vector representation of the target word, which is then used to predict the context words at the output layer.\n",
        "\n",
        "### 3. **How Hidden Layers Work in Word2Vec**:\n",
        "- The **hidden layer** is essentially where the word embeddings (vector representations of words) are learned. These embeddings capture semantic relationships between words. The size of the hidden layer is equal to the dimensionality of the word embeddings, which is a hyperparameter you choose when training the model (e.g., 100, 200, or 300 dimensions).\n",
        "  \n",
        "- In both CBOW and Skip-gram, there is only **one hidden layer**.\n",
        "\n",
        "### Summary:\n",
        "- Word2Vec uses **a single hidden layer**.\n",
        "- The size of the hidden layer is equal to the number of dimensions of the word embeddings.\n",
        "- The hidden layer learns to map words to dense vector representations that capture semantic relationships.\n",
        "\n",
        "So, Word2Vec is a relatively shallow neural network with just **one hidden layer** used to learn the word embeddings!"
      ],
      "metadata": {
        "id": "nWTqkTbPrvP2"
      }
    },
    {
      "cell_type": "code",
      "source": [
        "import logging\n",
        "logging.basicConfig(format='%(asctime)s : %(levelname)s : %(message)s', level=logging.INFO)"
      ],
      "metadata": {
        "id": "H2T3le70sXXK"
      },
      "execution_count": null,
      "outputs": []
    },
    {
      "cell_type": "code",
      "source": [
        "import gensim\n",
        "from gensim.models import Word2Vec\n",
        "from nltk.tokenize import word_tokenize\n",
        "import nltk\n",
        "nltk.download('punkt_tab')"
      ],
      "metadata": {
        "colab": {
          "base_uri": "https://localhost:8080/"
        },
        "id": "3D6pLvnBrwlg",
        "outputId": "859d9be4-ee59-4cfb-e8f7-5f3833349229"
      },
      "execution_count": null,
      "outputs": [
        {
          "output_type": "stream",
          "name": "stderr",
          "text": [
            "[nltk_data] Downloading package punkt_tab to /root/nltk_data...\n",
            "[nltk_data]   Unzipping tokenizers/punkt_tab.zip.\n"
          ]
        },
        {
          "output_type": "execute_result",
          "data": {
            "text/plain": [
              "True"
            ]
          },
          "metadata": {},
          "execution_count": 46
        }
      ]
    },
    {
      "cell_type": "code",
      "source": [
        "documents = [\n",
        "    \"Machine learning is is a branch of artificial intelligence.\",\n",
        "    \"Natural language processing is a part of machine learning.\",\n",
        "    \"Word2Vec is a popular algorithm for learning word representations.\",\n",
        "    \"Deep learning models have shown great performance in NLP tasks.\"\n",
        "]\n",
        "\n",
        "tokenized_text= [word_tokenize(text.lower()) for text in documents]\n",
        "print(tokenized_text)"
      ],
      "metadata": {
        "colab": {
          "base_uri": "https://localhost:8080/"
        },
        "id": "ivYoARQHsvmY",
        "outputId": "fb697f79-fb3d-410c-e432-8fd0d30d9f3a"
      },
      "execution_count": null,
      "outputs": [
        {
          "output_type": "stream",
          "name": "stdout",
          "text": [
            "[['machine', 'learning', 'is', 'is', 'a', 'branch', 'of', 'artificial', 'intelligence', '.'], ['natural', 'language', 'processing', 'is', 'a', 'part', 'of', 'machine', 'learning', '.'], ['word2vec', 'is', 'a', 'popular', 'algorithm', 'for', 'learning', 'word', 'representations', '.'], ['deep', 'learning', 'models', 'have', 'shown', 'great', 'performance', 'in', 'nlp', 'tasks', '.']]\n"
          ]
        }
      ]
    },
    {
      "cell_type": "code",
      "source": [
        "#Training the model\n",
        "model= Word2Vec(tokenized_text, vector_size= 100, window=5, min_count=1, sg=0) #CBOW model"
      ],
      "metadata": {
        "id": "DuzCZtUOsw6q"
      },
      "execution_count": null,
      "outputs": []
    },
    {
      "cell_type": "code",
      "source": [
        "#model Vocabulary\n",
        "# Check if 'machine' and 'learning' are in the vocabulary\n",
        "print(\"Vocabulary:\", list(model.wv.index_to_key))  # This prints all words in the vocabulary\n",
        "print(\"'machine' in vocabulary?\", 'machine' in model.wv)\n",
        "print(\"'learning' in vocabulary?\", 'learning' in model.wv)\n"
      ],
      "metadata": {
        "colab": {
          "base_uri": "https://localhost:8080/"
        },
        "id": "8NoYJpPftQM3",
        "outputId": "864a6516-a74b-4bff-91bb-9d981181b599"
      },
      "execution_count": null,
      "outputs": [
        {
          "output_type": "stream",
          "name": "stdout",
          "text": [
            "Vocabulary: ['learning', 'is', '.', 'a', 'machine', 'of', 'nlp', 'branch', 'artificial', 'intelligence', 'natural', 'language', 'processing', 'part', 'tasks', 'popular', 'algorithm', 'for', 'word', 'representations', 'deep', 'models', 'have', 'shown', 'great', 'performance', 'in', 'word2vec']\n",
            "'machine' in vocabulary? True\n",
            "'learning' in vocabulary? True\n"
          ]
        }
      ]
    },
    {
      "cell_type": "code",
      "source": [
        "from typing import List\n",
        "\n",
        "def get_sentence_embedding(sentence, model: Word2Vec):\n",
        "    #tokenize the text\n",
        "    tokenized_text: List[str] = word_tokenize(sentence.lower())\n",
        "    embedded_tokens=[]\n",
        "\n",
        "    for token in tokenized_text:\n",
        "        if token in model.wv:\n",
        "            embedded_tokens.append(model.wv[token])\n",
        "        else:\n",
        "            #if word not in model vocab, then return o's\n",
        "            embedded_tokens.append(np.zeros(model.vector_size))\n",
        "    #finally take the mean to get the sentece embedding\n",
        "    return np.mean(embedded_tokens, axis=0)\n",
        "\n",
        "\n",
        "[get_sentence_embedding(x, model) for x in documents[:2]]"
      ],
      "metadata": {
        "colab": {
          "base_uri": "https://localhost:8080/"
        },
        "id": "OcfjldyStT1c",
        "outputId": "1192b4a4-317f-49ce-e6e4-1f98d948d2d9"
      },
      "execution_count": null,
      "outputs": [
        {
          "output_type": "execute_result",
          "data": {
            "text/plain": [
              "[array([-4.8383316e-03,  2.1153749e-03,  5.8235240e-04,  3.1375389e-03,\n",
              "         1.2377733e-03, -1.5418676e-03,  2.3299356e-03,  3.3267762e-03,\n",
              "        -3.8802563e-03, -2.3114316e-03,  4.6830819e-04, -2.3125554e-03,\n",
              "        -5.3316087e-04,  2.8768831e-04,  1.6481068e-03,  3.6240998e-04,\n",
              "         2.3800698e-03,  8.6234382e-04, -3.6470282e-03, -3.4579835e-03,\n",
              "         2.6564905e-05,  2.8368831e-05,  5.0960933e-03, -1.8721916e-03,\n",
              "         1.1712876e-03,  1.8168311e-04, -6.2785781e-04,  2.5884514e-03,\n",
              "        -3.0445228e-03,  1.6567329e-03,  3.9615533e-03, -2.5657059e-03,\n",
              "        -8.0726619e-05, -2.8419690e-03, -2.6999554e-04,  2.2464169e-03,\n",
              "         2.8487567e-03,  2.2467172e-03,  1.3513074e-03,  1.8957893e-03,\n",
              "         2.6533599e-03, -8.8965177e-04, -4.2919652e-03,  3.3622334e-04,\n",
              "         1.7680505e-03,  7.6309487e-04,  1.7935937e-04,  1.6416721e-03,\n",
              "         1.3613729e-03,  5.4547581e-04,  1.3832364e-03, -1.4141949e-03,\n",
              "         4.5168895e-04, -9.8898937e-04, -1.6973217e-03,  4.7249487e-05,\n",
              "         1.2123941e-03, -3.2999660e-04, -2.2978420e-04,  1.5031724e-04,\n",
              "        -2.1589804e-04,  1.6276541e-04,  2.9097768e-03, -1.9167599e-03,\n",
              "        -9.4011222e-04,  1.9501783e-03,  1.3461212e-03,  2.5034237e-03,\n",
              "        -1.8589424e-03,  4.0082881e-04,  7.9999190e-05,  1.0604826e-03,\n",
              "         2.3979659e-03,  2.0413485e-03, -1.0581728e-03, -4.5322170e-04,\n",
              "        -1.0123829e-03,  4.8685702e-05,  7.2037603e-04, -2.9106936e-03,\n",
              "        -2.8305519e-03, -1.6698160e-03,  1.6125562e-03, -4.1522449e-04,\n",
              "        -2.4400042e-04, -3.4301286e-03,  1.1568207e-03, -1.1780362e-03,\n",
              "         9.9728326e-04, -5.9038505e-04, -7.9102721e-04,  1.1583992e-03,\n",
              "         1.2005692e-03, -1.7267534e-03,  5.2097975e-03,  1.2750266e-03,\n",
              "         9.7996602e-04, -1.4217594e-03,  1.0692196e-03, -7.1678835e-04],\n",
              "       dtype=float32),\n",
              " array([-2.7779252e-03,  3.0552561e-03,  6.1557989e-04, -1.6494381e-03,\n",
              "        -2.3241472e-04, -1.8276426e-03, -2.5932249e-04,  4.3085460e-03,\n",
              "        -2.3827185e-03, -2.9964461e-03,  2.6276411e-04, -7.6642702e-04,\n",
              "        -2.2966613e-03, -1.5403515e-03,  2.0502470e-03, -1.7571846e-03,\n",
              "         2.2163526e-03,  1.0982164e-03, -1.9687931e-03, -4.0465267e-03,\n",
              "        -9.5901126e-04, -2.2962275e-03,  5.3601381e-03,  1.1241052e-03,\n",
              "        -7.0648280e-04,  6.3423434e-04, -1.2841328e-03,  1.9965076e-03,\n",
              "        -1.0787434e-03,  3.3636305e-03,  1.4158189e-03, -2.2415419e-03,\n",
              "         9.3877391e-04, -3.1876885e-03,  1.3385866e-03,  3.2332938e-04,\n",
              "         1.3679047e-03,  5.3175341e-04, -5.2310823e-04,  3.1243984e-04,\n",
              "        -6.7650492e-04, -8.2490605e-04, -3.1604569e-03,  2.3896527e-03,\n",
              "        -6.5164512e-04, -2.2024498e-03,  1.7511674e-03,  3.1501023e-04,\n",
              "        -7.2666438e-04,  1.0534298e-03,  1.6078160e-03, -2.4151683e-03,\n",
              "        -1.0115078e-03, -6.5815420e-04, -2.2269995e-03, -8.8468532e-04,\n",
              "         1.0696066e-03, -7.0139335e-04, -1.8713530e-04,  1.0241983e-03,\n",
              "        -4.0576165e-04, -3.5620853e-04,  3.4916191e-03, -9.6211117e-04,\n",
              "        -1.2722805e-03,  2.4536164e-03,  4.1632503e-03,  2.9234500e-03,\n",
              "        -2.5564707e-03,  4.1748249e-04,  1.2441836e-03,  3.3316067e-03,\n",
              "         6.8111089e-04,  2.9740389e-03,  1.3018491e-03,  3.7975679e-03,\n",
              "        -4.4674083e-04,  1.6459597e-03, -8.1667828e-04, -1.8034223e-03,\n",
              "        -1.7911900e-03,  8.7609125e-04,  2.2795263e-03,  1.1956006e-03,\n",
              "        -1.7465588e-03, -1.7671274e-03,  1.8679459e-03, -5.1946408e-04,\n",
              "         3.6998588e-04, -3.8224418e-04,  2.6318224e-03,  1.0359056e-03,\n",
              "         8.7684661e-04, -2.1043492e-03,  3.6114219e-03,  5.9914310e-06,\n",
              "         3.1806696e-03, -2.5850567e-03,  2.1447428e-05,  1.9315901e-04],\n",
              "       dtype=float32)]"
            ]
          },
          "metadata": {},
          "execution_count": 99
        }
      ]
    },
    {
      "cell_type": "code",
      "source": [
        "# from pydantic import BaseModel, validator\n",
        "# import numpy as np\n",
        "# from nltk.tokenize import word_tokenize\n",
        "# from gensim.models import Word2Vec\n",
        "# from typing import List\n",
        "\n",
        "\n",
        "# class SentenceEmbeddingRequest(BaseModel):\n",
        "#     sentence: str\n",
        "#     model: Word2Vec  # Expecting the model to be a trained Word2Vec model\n",
        "\n",
        "#     @validator('sentence')\n",
        "#     def validate_sentence(cls, value):\n",
        "#         if not isinstance(value, str):\n",
        "#             raise ValueError('Sentence must be a string')\n",
        "#         return value\n",
        "\n",
        "#     @validator('model')\n",
        "#     def validate_model(cls, value):\n",
        "#         if not hasattr(value, 'wv'):\n",
        "#             raise ValueError('Provided model is not a valid Word2Vec model')\n",
        "#         return value\n",
        "\n",
        "\n",
        "# def get_sentence_embedding(sentence: str, model: Word2Vec):\n",
        "#     # tokenizing the text\n",
        "#     tokenized_text: List[str] = word_tokenize(sentence.lower())\n",
        "#     embedded_tokens = []\n",
        "\n",
        "#     # iterating over the tokens and fetching their embeddings\n",
        "#     for token in tokenized_text:\n",
        "#         if token in model.wv:\n",
        "#             embedded_tokens.append(model.wv[token])\n",
        "#         else:\n",
        "#             # if the word is not in the model's vocabulary, return a vector of zeros\n",
        "#             embedded_tokens.append(np.zeros(model.vector_size))\n",
        "\n",
        "#     # finally, take the mean of the word vectors to get the sentence embedding\n",
        "#     sentence_embedding = np.mean(embedded_tokens, axis=0) if embedded_tokens else np.zeros(model.vector_size)\n",
        "#     return sentence_embedding\n",
        "\n",
        "\n",
        "# # Example usage:\n",
        "# # Assuming you already have a trained Word2Vec model\n",
        "# # model = Word2Vec.load(\"your_pretrained_model.model\")\n",
        "\n",
        "# sentence = \"Machine learning is fascinating.\"\n",
        "# request = SentenceEmbeddingRequest(sentence=sentence, model=model)\n",
        "\n",
        "# # After Pydantic validation, you can pass the validated data to your function\n",
        "# embedding = get_sentence_embedding(request.sentence, request.model)\n",
        "# print(\"Sentence Embedding:\", embedding)\n"
      ],
      "metadata": {
        "id": "TGXWQRTqzJVM"
      },
      "execution_count": null,
      "outputs": []
    },
    {
      "cell_type": "markdown",
      "source": [
        "# Contextual Embedding\n",
        "\n",
        "Definition: Contextual word embeddings capture the meaning of a word based on its context in a sentence. Unlike traditional word embeddings (like Word2Vec), which provide a single vector for each word regardless of context, contextual embeddings produce different vectors for a word depending on the surrounding words. These embeddings are generated using models like BERT (Bidirectional Encoder Representations from Transformers), which take into account the entire sentence when computing word representations.\n",
        "\n",
        "\n",
        "Examples: ELMo, BERT, GPT."
      ],
      "metadata": {
        "id": "3Oksdpw31rRB"
      }
    },
    {
      "cell_type": "code",
      "source": [
        "from transformers import BertModel, BertTokenizer\n",
        "import torch"
      ],
      "metadata": {
        "id": "WEqnhRZB09Bo"
      },
      "execution_count": null,
      "outputs": []
    },
    {
      "cell_type": "code",
      "source": [
        "# Load pre-trained BERT model and tokenizer\n",
        "model_name = 'bert-base-uncased'\n",
        "tokenizer = BertTokenizer.from_pretrained(model_name)\n",
        "model = BertModel.from_pretrained(model_name)\n",
        "\n",
        "# Example sentence\n",
        "sentence = \"The cat sat on the mat.\""
      ],
      "metadata": {
        "colab": {
          "base_uri": "https://localhost:8080/",
          "height": 281,
          "referenced_widgets": [
            "0930b80dee3345629ecae1cf1dbf7987",
            "10f8d58eb7664c3e9ecf2b18af4c3b02",
            "66d4f9c59aa54b21bd9856ceae2171b9",
            "d22a64d4df7e4705b9ce120bc75aeb8c",
            "fb4571ccca4d4e638d420a9c73cdc72b",
            "77079f0d78f642108103afbab5028907",
            "8fb74f8c2cfe4f2796e88bc818f3dd63",
            "4c38b6d5d832419690312470e0ad7341",
            "e897c990beed42aebe460eb30e755287",
            "75e9ed120a084520a394102aa8cf0a2c",
            "fde719befc8c4756b1b3f356ea58e3a8",
            "f4c12eec98584c43923b459963fe2816",
            "c545c6531a12440eb4a464944a20fb2d",
            "47097db99c0c4471be090cddf5f8f11d",
            "01c0d3cadd5e4d60b261a68cdad501da",
            "9fb909f33f1b4587808ccb47edf4661e",
            "6886e9e5e95d4a69b0d24075427b6c66",
            "563feaccdd7c47e0b61058da3642cc7b",
            "cc4edac2c9ee46909bcf53095ffd4de5",
            "c2830446b0304f29ac12e8ec16493240",
            "0294fba0e8c94cc8b7b3b5b4f975c6e9",
            "c0880c7f6fa74ade8eae8c6df73f98e0",
            "bc80a0f50a10428099ab023ca01426fd",
            "78c745f14f654586b6b426dd211c6c36",
            "c924d96b600e490d9941e32c5a4ff7bf",
            "15fd1489b2c044cf8145e4c1bdaf34fd",
            "ee7afdc38ef74c9d9a2116cf691157ad",
            "c8796c4597a6497f9072103cd3a83726",
            "23379f9b19754915a0406ba4220e0b13",
            "0691c13ae14d443fa8f52d4255b6e5d1",
            "a0c1b25883b6455e91d4c4601584bf49",
            "ae14de6b0e7047c29a8fc8b20a4aa04f",
            "4f03c4b6210d4150a4cd56e807397df0",
            "ad3dac48798a4dcabed8c4acebb2cc34",
            "7d41934ab366459bb09c2cc83d71062d",
            "be9b91e743bc43cfbc5153c8741bb62f",
            "9c3731db4a684ab5959cd63793519d9e",
            "662de3080fd14bc188671e8cad083ca0",
            "343e74aa9659489d8828e704dd1040fa",
            "3fd6b36a6a9a4a36b28278911a7962f9",
            "d07a890577e14a9888c3af920cb947af",
            "3652e136443e4250b58783580d531343",
            "dbd7310bbbc349afaab5fa64905bdec5",
            "11c2625f4f6a44369d582b2c5c9639f0",
            "302bf3fcdc2b42e0b4bfd8ba3363859d",
            "9f701cd29c7a43feb421cc4a8f8d9010",
            "fc0d6cd2238f4cc6a123a4a5d844ddce",
            "04ef626779534274833b2884e717d750",
            "c1ab5c9a1bab4e79a7d1958af98fc267",
            "1c62e419318c47a8be210989fec0c131",
            "76e5e01ed85041eca2f1e489924c1984",
            "ae6fc1581e6144929a2a705e587d8a5b",
            "3c40b7bf79b944819ea4740493d5b254",
            "3ca68090b8e043869993387251430ff9",
            "ec02a5c78ee346a5924c6066e306e0dc"
          ]
        },
        "id": "K4R4ZH4O15UZ",
        "outputId": "09c4c569-a895-47ae-8c7b-c5135d408508"
      },
      "execution_count": null,
      "outputs": [
        {
          "output_type": "stream",
          "name": "stderr",
          "text": [
            "/usr/local/lib/python3.11/dist-packages/huggingface_hub/utils/_auth.py:94: UserWarning: \n",
            "The secret `HF_TOKEN` does not exist in your Colab secrets.\n",
            "To authenticate with the Hugging Face Hub, create a token in your settings tab (https://huggingface.co/settings/tokens), set it as secret in your Google Colab and restart your session.\n",
            "You will be able to reuse this secret in all of your notebooks.\n",
            "Please note that authentication is recommended but still optional to access public models or datasets.\n",
            "  warnings.warn(\n"
          ]
        },
        {
          "output_type": "display_data",
          "data": {
            "text/plain": [
              "tokenizer_config.json:   0%|          | 0.00/48.0 [00:00<?, ?B/s]"
            ],
            "application/vnd.jupyter.widget-view+json": {
              "version_major": 2,
              "version_minor": 0,
              "model_id": "0930b80dee3345629ecae1cf1dbf7987"
            }
          },
          "metadata": {}
        },
        {
          "output_type": "display_data",
          "data": {
            "text/plain": [
              "vocab.txt:   0%|          | 0.00/232k [00:00<?, ?B/s]"
            ],
            "application/vnd.jupyter.widget-view+json": {
              "version_major": 2,
              "version_minor": 0,
              "model_id": "f4c12eec98584c43923b459963fe2816"
            }
          },
          "metadata": {}
        },
        {
          "output_type": "display_data",
          "data": {
            "text/plain": [
              "tokenizer.json:   0%|          | 0.00/466k [00:00<?, ?B/s]"
            ],
            "application/vnd.jupyter.widget-view+json": {
              "version_major": 2,
              "version_minor": 0,
              "model_id": "bc80a0f50a10428099ab023ca01426fd"
            }
          },
          "metadata": {}
        },
        {
          "output_type": "display_data",
          "data": {
            "text/plain": [
              "config.json:   0%|          | 0.00/570 [00:00<?, ?B/s]"
            ],
            "application/vnd.jupyter.widget-view+json": {
              "version_major": 2,
              "version_minor": 0,
              "model_id": "ad3dac48798a4dcabed8c4acebb2cc34"
            }
          },
          "metadata": {}
        },
        {
          "output_type": "display_data",
          "data": {
            "text/plain": [
              "model.safetensors:   0%|          | 0.00/440M [00:00<?, ?B/s]"
            ],
            "application/vnd.jupyter.widget-view+json": {
              "version_major": 2,
              "version_minor": 0,
              "model_id": "302bf3fcdc2b42e0b4bfd8ba3363859d"
            }
          },
          "metadata": {}
        }
      ]
    },
    {
      "cell_type": "markdown",
      "source": [
        "```\n",
        "BertModel(\n",
        "  (embeddings): BertEmbeddings(                # Embedding Layer\n",
        "    (word_embeddings): Embedding(30522, 768, padding_idx=0)  # Word-level embeddings\n",
        "    (position_embeddings): Embedding(512, 768)   # Positional embeddings\n",
        "    (token_type_embeddings): Embedding(2, 768)   # Segment token embeddings\n",
        "    (LayerNorm): LayerNorm((768,), eps=1e-12, elementwise_affine=True)  # Normalization layer\n",
        "    (dropout): Dropout(p=0.1, inplace=False)     # Dropout for regularization\n",
        "  )\n",
        "  (encoder): BertEncoder(                     # Transformer Encoder\n",
        "    (layer): ModuleList(                      # List of 12 BertLayers (12 transformer blocks)\n",
        "      (0-11): 12 x BertLayer(                   # Each BertLayer consists of attention, feedforward, etc.\n",
        "        (attention): BertAttention(               # Attention mechanism for each layer\n",
        "          (self): BertSdpaSelfAttention(          # Self-attention for querying keys and values\n",
        "            (query): Linear(in_features=768, out_features=768, bias=True)\n",
        "            (key): Linear(in_features=768, out_features=768, bias=True)\n",
        "            (value): Linear(in_features=768, out_features=768, bias=True)\n",
        "            (dropout): Dropout(p=0.1, inplace=False)\n",
        "          )\n",
        "          (output): BertSelfOutput(               # Output layer after attention\n",
        "            (dense): Linear(in_features=768, out_features=768, bias=True)\n",
        "            (LayerNorm): LayerNorm((768,), eps=1e-12, elementwise_affine=True)\n",
        "            (dropout): Dropout(p=0.1, inplace=False)\n",
        "          )\n",
        "        )\n",
        "        (intermediate): BertIntermediate(        # Feedforward network inside the layer\n",
        "          (dense): Linear(in_features=768, out_features=3072, bias=True)\n",
        "          (intermediate_act_fn): GELUActivation()  # GELU activation for non-linearity\n",
        "        )\n",
        "        (output): BertOutput(                    # Final output layer after feedforward network\n",
        "          (dense): Linear(in_features=3072, out_features=768, bias=True)\n",
        "          (LayerNorm): LayerNorm((768,), eps=1e-12, elementwise_affine=True)\n",
        "          (dropout): Dropout(p=0.1, inplace=False)\n",
        "        )\n",
        "      )\n",
        "    )\n",
        "  )\n",
        "  (pooler): BertPooler(                        # Pooling layer for obtaining sentence-level representation\n",
        "    (dense): Linear(in_features=768, out_features=768, bias=True)  # Linear transformation for the [CLS] token\n",
        "    (activation): Tanh()                        # Activation function (Tanh)\n",
        "  )\n",
        ")\n",
        "\n",
        "```"
      ],
      "metadata": {
        "id": "lCkBZr4v4jtP"
      }
    },
    {
      "cell_type": "code",
      "source": [
        "# Tokenize the input sentence and convert tokens to tensor\n",
        "input_ids = tokenizer.encode(sentence, return_tensors='pt')\n",
        "input_ids, input_ids.shape"
      ],
      "metadata": {
        "colab": {
          "base_uri": "https://localhost:8080/"
        },
        "id": "nmVbQ_cW1-iI",
        "outputId": "f5a4804a-2ed1-4397-985f-da0ce9e85ba6"
      },
      "execution_count": null,
      "outputs": [
        {
          "output_type": "execute_result",
          "data": {
            "text/plain": [
              "(tensor([[  101,  1996,  4937,  2938,  2006,  1996, 13523,  1012,   102]]),\n",
              " torch.Size([1, 9]))"
            ]
          },
          "metadata": {},
          "execution_count": 112
        }
      ]
    },
    {
      "cell_type": "code",
      "source": [
        "# Pass the input through the BERT model to get embeddings\n",
        "with torch.no_grad():\n",
        "    outputs = model(input_ids)\n",
        "    last_hidden_states = outputs.last_hidden_state"
      ],
      "metadata": {
        "id": "kFh_Rtmn2CVa"
      },
      "execution_count": null,
      "outputs": []
    },
    {
      "cell_type": "code",
      "source": [
        "outputs"
      ],
      "metadata": {
        "colab": {
          "base_uri": "https://localhost:8080/"
        },
        "id": "HSaTSUiL3qL0",
        "outputId": "7b16157a-0213-4364-fd8f-3e50b57268df"
      },
      "execution_count": null,
      "outputs": [
        {
          "output_type": "execute_result",
          "data": {
            "text/plain": [
              "BaseModelOutputWithPoolingAndCrossAttentions(last_hidden_state=tensor([[[-0.3642, -0.0531, -0.3673,  ..., -0.3797,  0.5818,  0.4386],\n",
              "         [-0.3979, -0.2721, -0.6820,  ..., -0.3840,  0.9868, -0.3878],\n",
              "         [-0.3512, -0.0736, -0.0691,  ..., -0.6365,  0.6792,  0.5781],\n",
              "         ...,\n",
              "         [-0.0415, -0.1055, -0.2808,  ...,  0.0057,  0.1986,  0.4328],\n",
              "         [-0.2354, -0.4875, -0.1631,  ...,  0.4162,  0.7360, -0.6378],\n",
              "         [ 0.6651,  0.0225, -0.4131,  ...,  0.1322, -0.2525, -0.3970]]]), pooler_output=tensor([[-0.9429, -0.4337, -0.9574,  0.9123,  0.8517, -0.1073,  0.9822,  0.3666,\n",
              "         -0.8698, -1.0000, -0.7000,  0.9821,  0.9866,  0.5393,  0.9690, -0.8385,\n",
              "         -0.6011, -0.6223,  0.2735, -0.8883,  0.8075,  1.0000, -0.1997,  0.3275,\n",
              "          0.4946,  0.9972, -0.8347,  0.9534,  0.9812,  0.7479, -0.7972,  0.1897,\n",
              "         -0.9930, -0.1222, -0.9075, -0.9959,  0.4533, -0.8538,  0.1575, -0.0514,\n",
              "         -0.9497,  0.3927,  1.0000,  0.3602,  0.4401, -0.3368, -1.0000,  0.3561,\n",
              "         -0.9522,  0.9736,  0.9181,  0.9517,  0.1098,  0.6084,  0.5735, -0.2631,\n",
              "         -0.0625,  0.1452, -0.2216, -0.7196, -0.6699,  0.3371, -0.9423, -0.9443,\n",
              "          0.9648,  0.7657, -0.1145, -0.3985, -0.1316,  0.0070,  0.9669,  0.2624,\n",
              "         -0.1976, -0.8400,  0.7648,  0.2616, -0.6855,  1.0000, -0.7590, -0.9901,\n",
              "          0.8727,  0.8458,  0.5513, -0.4845,  0.3343, -1.0000,  0.7570, -0.0950,\n",
              "         -0.9945,  0.2471,  0.7676, -0.3024,  0.0545,  0.5679, -0.6154, -0.6000,\n",
              "         -0.4442, -0.9081, -0.2078, -0.4327,  0.0785, -0.2380, -0.3911, -0.4341,\n",
              "          0.3412, -0.5946, -0.7376,  0.3821,  0.0607,  0.7065,  0.4018, -0.3118,\n",
              "          0.5840, -0.9752,  0.7138, -0.3823, -0.9929, -0.6525, -0.9941,  0.8251,\n",
              "         -0.3966, -0.2676,  0.9795,  0.0061,  0.4629, -0.0411, -0.9729, -1.0000,\n",
              "         -0.8379, -0.6719, -0.3069, -0.3709, -0.9850, -0.9709,  0.6760,  0.9681,\n",
              "          0.1897,  1.0000, -0.5005,  0.9697, -0.4538, -0.8077,  0.8113, -0.5294,\n",
              "          0.7119,  0.6466, -0.7734,  0.3603, -0.5156,  0.6307, -0.8855, -0.2642,\n",
              "         -0.8315, -0.9582, -0.2927,  0.9648, -0.7030, -0.9618, -0.0917, -0.3386,\n",
              "         -0.6850,  0.9196,  0.8441,  0.4855, -0.4249,  0.4421,  0.3521,  0.6705,\n",
              "         -0.9030, -0.3844,  0.5431, -0.3722, -0.8734, -0.9866, -0.5300,  0.6552,\n",
              "          0.9934,  0.8731,  0.2852,  0.9286, -0.2641,  0.8888, -0.9707,  0.9882,\n",
              "         -0.2389,  0.2417, -0.2986,  0.4585, -0.9364, -0.0311,  0.9430, -0.8506,\n",
              "         -0.8969, -0.2797, -0.4276, -0.3605, -0.8627,  0.7594, -0.4256, -0.3414,\n",
              "         -0.0082,  0.9413,  0.9972,  0.9144,  0.3968,  0.7430, -0.9637, -0.5483,\n",
              "          0.1906,  0.2595,  0.1706,  0.9972, -0.7272, -0.2578, -0.9642, -0.9887,\n",
              "          0.0145, -0.9446, -0.2464, -0.7799,  0.7288, -0.2746,  0.6356,  0.3613,\n",
              "         -0.9980, -0.8503,  0.3777, -0.5381,  0.4003, -0.2501,  0.5007,  0.9731,\n",
              "         -0.7016,  0.8252,  0.9118, -0.9389, -0.8185,  0.9437, -0.3930,  0.9368,\n",
              "         -0.7575,  0.9962,  0.9609,  0.8166, -0.9654, -0.7880, -0.9643, -0.7738,\n",
              "         -0.1056,  0.1154,  0.9427,  0.5974,  0.4395,  0.3332, -0.8223,  0.9999,\n",
              "         -0.4873, -0.9752, -0.5412, -0.3718, -0.9927,  0.9235,  0.3293,  0.3953,\n",
              "         -0.6009, -0.8110, -0.9747,  0.9565,  0.2776,  0.9974, -0.2305, -0.9738,\n",
              "         -0.8131, -0.9374, -0.1543, -0.1497, -0.5568, -0.1977, -0.9816,  0.4930,\n",
              "          0.6677,  0.6222, -0.8927,  0.9998,  1.0000,  0.9808,  0.9393,  0.9646,\n",
              "         -1.0000, -0.5967,  1.0000, -0.9973, -1.0000, -0.9736, -0.8438,  0.4589,\n",
              "         -1.0000, -0.1579, -0.1179, -0.9511,  0.8224,  0.9852,  0.9987, -1.0000,\n",
              "          0.9452,  0.9731, -0.6583,  0.9844, -0.5281,  0.9859,  0.5341,  0.6285,\n",
              "         -0.3270,  0.4068, -0.9451, -0.9380, -0.6699, -0.8012,  0.9993,  0.2244,\n",
              "         -0.8889, -0.9531,  0.5202, -0.0378,  0.0315, -0.9750, -0.1753,  0.8276,\n",
              "          0.9391,  0.1995,  0.3879, -0.7906,  0.4396, -0.1486,  0.3580,  0.6960,\n",
              "         -0.9568, -0.7860, -0.7519,  0.2754, -0.7076, -0.9675,  0.9845, -0.5987,\n",
              "          0.9708,  1.0000,  0.6832, -0.9459,  0.7234,  0.4420, -0.5035,  1.0000,\n",
              "          0.8494, -0.9850, -0.5800,  0.7238, -0.6836, -0.6735,  0.9999, -0.2131,\n",
              "         -0.7648, -0.6715,  0.9831, -0.9926,  0.9984, -0.9353, -0.9786,  0.9794,\n",
              "          0.9584, -0.8551, -0.8191,  0.2072, -0.6853,  0.3701, -0.9888,  0.8962,\n",
              "          0.6405, -0.1112,  0.9350, -0.9686, -0.5306,  0.5139, -0.7858, -0.4949,\n",
              "          0.9671,  0.6010, -0.2210,  0.0063, -0.2811, -0.4519, -0.9832,  0.5393,\n",
              "          1.0000, -0.3606,  0.8881, -0.5284, -0.0089,  0.0090,  0.5571,  0.6068,\n",
              "         -0.4859, -0.9046,  0.8821, -0.9915, -0.9930,  0.8896,  0.2913, -0.2745,\n",
              "          1.0000,  0.4883,  0.2841,  0.4728,  0.9963, -0.1279,  0.6530,  0.8930,\n",
              "          0.9862, -0.2329,  0.6143,  0.9628, -0.9537, -0.1943, -0.7432,  0.0390,\n",
              "         -0.9264,  0.0316, -0.9763,  0.9796,  0.9868,  0.3844,  0.2371,  0.7210,\n",
              "          1.0000, -0.7532,  0.7562, -0.8083,  0.9227, -0.9999, -0.9389, -0.4910,\n",
              "         -0.1340, -0.8661, -0.3280,  0.2726, -0.9863,  0.8484,  0.7558, -0.9963,\n",
              "         -0.9947, -0.5178,  0.9781,  0.1896, -0.9953, -0.8138, -0.6622,  0.8425,\n",
              "         -0.4091, -0.9638, -0.3826, -0.2928,  0.5707, -0.3589,  0.5540,  0.8869,\n",
              "          0.7723, -0.7349, -0.5733, -0.1692, -0.9120,  0.9077, -0.8906, -0.9712,\n",
              "         -0.1044,  1.0000, -0.6142,  0.9156,  0.8426,  0.8850, -0.2036,  0.1758,\n",
              "          0.9489,  0.2757, -0.7822, -0.9599, -0.8928, -0.4886,  0.6754,  0.6636,\n",
              "          0.6893,  0.9049,  0.8351,  0.2829, -0.0672, -0.0054,  1.0000, -0.2165,\n",
              "         -0.0845, -0.5990, -0.0746, -0.4389, -0.4415,  1.0000,  0.4481,  0.7060,\n",
              "         -0.9951, -0.9321, -0.9692,  1.0000,  0.8796, -0.9237,  0.8646,  0.8170,\n",
              "         -0.2211,  0.9218, -0.2902, -0.1949,  0.2720,  0.0880,  0.9750, -0.6949,\n",
              "         -0.9829, -0.7303,  0.5915, -0.9774,  1.0000, -0.6945, -0.3547, -0.5531,\n",
              "         -0.3751,  0.8392,  0.1676, -0.9885, -0.1884,  0.1943,  0.9817,  0.1325,\n",
              "         -0.5741, -0.9611,  0.9550,  0.9413, -0.9555, -0.9705,  0.9777, -0.9888,\n",
              "          0.7345,  1.0000,  0.4224,  0.4718,  0.3796, -0.5412,  0.5114, -0.6284,\n",
              "          0.8411, -0.9723, -0.2477, -0.2788,  0.4840, -0.0360, -0.2686,  0.8590,\n",
              "          0.0161, -0.5489, -0.6796, -0.2013,  0.5604,  0.9509, -0.1733, -0.2425,\n",
              "          0.1754, -0.1116, -0.9744, -0.4851, -0.5524, -1.0000,  0.8091, -1.0000,\n",
              "          0.6102,  0.3096, -0.2374,  0.9309,  0.4762,  0.8232, -0.8689, -0.8918,\n",
              "          0.2260,  0.8631, -0.3479, -0.8038, -0.8133,  0.4486, -0.0651,  0.2270,\n",
              "         -0.5865,  0.7466, -0.2005,  1.0000,  0.1055, -0.7475, -0.9961,  0.2616,\n",
              "         -0.2572,  1.0000, -0.9757, -0.9723,  0.2971, -0.8443, -0.8767,  0.3658,\n",
              "          0.0069, -0.8686, -0.9850,  0.9771,  0.9608, -0.6185,  0.5415, -0.4017,\n",
              "         -0.7309, -0.0654,  0.9439,  0.9914,  0.7515,  0.9695,  0.5291, -0.2488,\n",
              "          0.9802,  0.1625,  0.7170,  0.1078,  1.0000,  0.3266, -0.9448, -0.2832,\n",
              "         -0.9937, -0.2680, -0.9632,  0.4794,  0.3663,  0.9163, -0.2710,  0.9805,\n",
              "         -0.9255, -0.0795, -0.8977, -0.5564,  0.4649, -0.9595, -0.9902, -0.9922,\n",
              "          0.6776, -0.4507, -0.1370,  0.1126,  0.0587,  0.5867,  0.5650, -1.0000,\n",
              "          0.9664,  0.4766,  0.9233,  0.9803,  0.8420,  0.6325,  0.3572, -0.9933,\n",
              "         -0.9975, -0.4721, -0.3035,  0.8544,  0.6898,  0.9051,  0.5442, -0.5717,\n",
              "         -0.2831, -0.4944, -0.5056, -0.9952,  0.5143, -0.7353, -0.9889,  0.9725,\n",
              "         -0.2124, -0.0919,  0.0249, -0.8919,  0.9904,  0.8822,  0.5333,  0.0918,\n",
              "          0.6369,  0.9515,  0.9771,  0.9899, -0.8993,  0.9077, -0.8630,  0.5601,\n",
              "          0.7863, -0.9476,  0.2420,  0.5294, -0.4769,  0.2992, -0.2981, -0.9946,\n",
              "          0.8957, -0.2732,  0.7178, -0.5112, -0.0451, -0.3966, -0.2525, -0.8154,\n",
              "         -0.8702,  0.6768,  0.5991,  0.9506,  0.8599,  0.0228, -0.9071, -0.3408,\n",
              "         -0.8101, -0.9435,  0.9823, -0.1213, -0.3515,  0.7303, -0.0539,  0.9510,\n",
              "          0.2843, -0.4730, -0.3612, -0.8553,  0.9283, -0.7273, -0.6257, -0.6898,\n",
              "          0.8711,  0.4535,  1.0000, -0.8004, -0.9577, -0.5568, -0.5128,  0.3428,\n",
              "         -0.6967, -1.0000,  0.4740, -0.7689,  0.6449, -0.8583,  0.9036, -0.8965,\n",
              "         -0.9942, -0.2960,  0.4772,  0.8619, -0.5742, -0.8775,  0.6281, -0.7634,\n",
              "          0.9935,  0.9247, -0.6819,  0.2110,  0.6667, -0.7790, -0.7380,  0.9615]]), hidden_states=None, past_key_values=None, attentions=None, cross_attentions=None)"
            ]
          },
          "metadata": {},
          "execution_count": 116
        }
      ]
    },
    {
      "cell_type": "markdown",
      "source": [
        "#### **last_hidden_state:** Contains the hidden states for each token in the sequence. This is useful if you want to get individual token representations, which you might use for token-level tasks like named entity recognition (NER) or token classification.\n",
        "\n",
        "```\n",
        "Batch, seq_len, hidden_size or dims\n",
        "```"
      ],
      "metadata": {
        "id": "54zVwl273nOG"
      }
    },
    {
      "cell_type": "code",
      "source": [
        "last_hidden_states.shape # tokens embedding"
      ],
      "metadata": {
        "colab": {
          "base_uri": "https://localhost:8080/"
        },
        "id": "eo74EG_o2pAy",
        "outputId": "c35da439-78a1-42ff-df63-e7f9c5c6bd5c"
      },
      "execution_count": null,
      "outputs": [
        {
          "output_type": "execute_result",
          "data": {
            "text/plain": [
              "torch.Size([1, 9, 768])"
            ]
          },
          "metadata": {},
          "execution_count": 117
        }
      ]
    },
    {
      "cell_type": "code",
      "source": [
        "last_hidden_states"
      ],
      "metadata": {
        "colab": {
          "base_uri": "https://localhost:8080/"
        },
        "id": "D-tqBMph33qz",
        "outputId": "825c14bb-bf21-4d7d-c4dc-4a9a43084177"
      },
      "execution_count": null,
      "outputs": [
        {
          "output_type": "execute_result",
          "data": {
            "text/plain": [
              "tensor([[[-0.3642, -0.0531, -0.3673,  ..., -0.3797,  0.5818,  0.4386],\n",
              "         [-0.3979, -0.2721, -0.6820,  ..., -0.3840,  0.9868, -0.3878],\n",
              "         [-0.3512, -0.0736, -0.0691,  ..., -0.6365,  0.6792,  0.5781],\n",
              "         ...,\n",
              "         [-0.0415, -0.1055, -0.2808,  ...,  0.0057,  0.1986,  0.4328],\n",
              "         [-0.2354, -0.4875, -0.1631,  ...,  0.4162,  0.7360, -0.6378],\n",
              "         [ 0.6651,  0.0225, -0.4131,  ...,  0.1322, -0.2525, -0.3970]]])"
            ]
          },
          "metadata": {},
          "execution_count": 118
        }
      ]
    },
    {
      "cell_type": "markdown",
      "source": [
        "#### **Pooler_output:** Provides a single representation of the entire sequence (typically from the [CLS] token). This is often used for sentence-level tasks such as classification or similarity."
      ],
      "metadata": {
        "id": "NBpoaplR39f5"
      }
    },
    {
      "cell_type": "code",
      "source": [
        "\n",
        "# The pooler output is typically used for sentence-level tasks, such as classification.\n",
        "outputs.pooler_output.shape #sentence embedding"
      ],
      "metadata": {
        "colab": {
          "base_uri": "https://localhost:8080/"
        },
        "id": "D_ypmOSa3IiN",
        "outputId": "0555f020-b402-4cfb-cbf7-38a656cf3e5d"
      },
      "execution_count": null,
      "outputs": [
        {
          "output_type": "execute_result",
          "data": {
            "text/plain": [
              "torch.Size([1, 768])"
            ]
          },
          "metadata": {},
          "execution_count": 115
        }
      ]
    },
    {
      "cell_type": "code",
      "source": [
        "outputs.pooler_output.shape"
      ],
      "metadata": {
        "colab": {
          "base_uri": "https://localhost:8080/"
        },
        "id": "db55Gzty2IPR",
        "outputId": "551dba8e-38d8-4693-97dc-d10b0523c2ff"
      },
      "execution_count": null,
      "outputs": [
        {
          "output_type": "execute_result",
          "data": {
            "text/plain": [
              "torch.Size([1, 768])"
            ]
          },
          "metadata": {},
          "execution_count": 120
        }
      ]
    },
    {
      "cell_type": "code",
      "source": [
        "last_hidden_states.shape, last_hidden_states.squeeze().shape"
      ],
      "metadata": {
        "colab": {
          "base_uri": "https://localhost:8080/"
        },
        "id": "oUGr40Ou46Ub",
        "outputId": "fe20b823-79c4-4c06-cb0f-bed465376140"
      },
      "execution_count": null,
      "outputs": [
        {
          "output_type": "execute_result",
          "data": {
            "text/plain": [
              "(torch.Size([1, 9, 768]), torch.Size([9, 768]))"
            ]
          },
          "metadata": {},
          "execution_count": 123
        }
      ]
    },
    {
      "cell_type": "code",
      "source": [
        "input_ids.squeeze()"
      ],
      "metadata": {
        "colab": {
          "base_uri": "https://localhost:8080/"
        },
        "id": "dMz5TyA_5MlK",
        "outputId": "cf43d6e1-1758-43f3-f9ec-c7eed16fb122"
      },
      "execution_count": null,
      "outputs": [
        {
          "output_type": "execute_result",
          "data": {
            "text/plain": [
              "tensor([  101,  1996,  4937,  2938,  2006,  1996, 13523,  1012,   102])"
            ]
          },
          "metadata": {},
          "execution_count": 125
        }
      ]
    },
    {
      "cell_type": "code",
      "source": [
        "# !pip install colorful\n",
        "# !pip install rich\n",
        "import colorful"
      ],
      "metadata": {
        "id": "WS8DQcMj5maq"
      },
      "execution_count": null,
      "outputs": []
    },
    {
      "cell_type": "code",
      "source": [
        "##coming back to the task\n",
        "\n",
        "sentence = \"The cat sat on the mat.\"\n",
        "\n",
        "# Tokenize the input sentence and convert tokens to tensor\n",
        "input_ids = tokenizer.encode(sentence, return_tensors='pt')\n",
        "\n",
        "# Pass the input through the BERT model to get embeddings\n",
        "with torch.no_grad():\n",
        "    outputs = model(input_ids)\n",
        "    last_hidden_states = outputs.last_hidden_state\n",
        "\n",
        "# Print the shape of the last hidden states tensor\n",
        "print(\"Shape of last hidden states:\", last_hidden_states.shape)\n",
        "\n",
        "# Convert the embeddings to numpy array (for easier manipulation)\n",
        "embeddings = last_hidden_states.squeeze().numpy()\n",
        "\n",
        "# Tokenize the sentence to match embeddings to words\n",
        "tokens = tokenizer.convert_ids_to_tokens(input_ids.squeeze())"
      ],
      "metadata": {
        "colab": {
          "base_uri": "https://localhost:8080/"
        },
        "id": "H4qcEo-v2ZMB",
        "outputId": "624f6b0b-1b0d-4020-a4bd-c4194646cd44"
      },
      "execution_count": null,
      "outputs": [
        {
          "output_type": "stream",
          "name": "stdout",
          "text": [
            "Shape of last hidden states: torch.Size([1, 9, 768])\n"
          ]
        }
      ]
    },
    {
      "cell_type": "code",
      "source": [
        "from rich.console import Console\n",
        "\n",
        "console = Console()\n",
        "\n",
        "for token, embedding in zip(tokens, embeddings):\n",
        "    console.print(f\"Token: [bold red]{token}[/bold red]\")\n",
        "    console.print(f\"Embedding: [bold yellow]{embedding[:10]}...[/bold yellow]\")  # Print first 10 dimensions for brevity\n",
        "    console.print()  # New line\n"
      ],
      "metadata": {
        "colab": {
          "base_uri": "https://localhost:8080/",
          "height": 476
        },
        "id": "tZO8yd0v6PyX",
        "outputId": "3c4a9207-a004-4d01-9a20-f232c27957da"
      },
      "execution_count": null,
      "outputs": [
        {
          "output_type": "display_data",
          "data": {
            "text/plain": [
              "Token: \u001b[1;31m[\u001b[0m\u001b[1;31mCLS\u001b[0m\u001b[1;31m]\u001b[0m\n"
            ],
            "text/html": [
              "<pre style=\"white-space:pre;overflow-x:auto;line-height:normal;font-family:Menlo,'DejaVu Sans Mono',consolas,'Courier New',monospace\">Token: <span style=\"color: #800000; text-decoration-color: #800000; font-weight: bold\">[CLS]</span>\n",
              "</pre>\n"
            ]
          },
          "metadata": {}
        },
        {
          "output_type": "display_data",
          "data": {
            "text/plain": [
              "Embedding: \u001b[1;33m[\u001b[0m\u001b[1;33m-0.3642237\u001b[0m\u001b[1;33m  \u001b[0m\u001b[1;33m-0.05305378\u001b[0m\u001b[1;33m \u001b[0m\u001b[1;33m-0.36732262\u001b[0m\u001b[1;33m \u001b[0m\u001b[1;33m-0.02967339\u001b[0m\u001b[1;33m \u001b[0m\u001b[1;33m-0.460784\u001b[0m\u001b[1;33m   \u001b[0m\u001b[1;33m-0.10106134\u001b[0m\n",
              "\u001b[1;33m  \u001b[0m\u001b[1;33m0.01669817\u001b[0m\u001b[1;33m  \u001b[0m\u001b[1;33m0.59577715\u001b[0m\u001b[1;33m \u001b[0m\u001b[1;33m-0.11770311\u001b[0m\u001b[1;33m  \u001b[0m\u001b[1;33m0.10289837\u001b[0m\u001b[1;33m]\u001b[0m\u001b[1;33m...\u001b[0m\n"
            ],
            "text/html": [
              "<pre style=\"white-space:pre;overflow-x:auto;line-height:normal;font-family:Menlo,'DejaVu Sans Mono',consolas,'Courier New',monospace\">Embedding: <span style=\"color: #808000; text-decoration-color: #808000; font-weight: bold\">[</span><span style=\"color: #808000; text-decoration-color: #808000; font-weight: bold\">-0.3642237</span><span style=\"color: #808000; text-decoration-color: #808000; font-weight: bold\">  </span><span style=\"color: #808000; text-decoration-color: #808000; font-weight: bold\">-0.05305378</span><span style=\"color: #808000; text-decoration-color: #808000; font-weight: bold\"> </span><span style=\"color: #808000; text-decoration-color: #808000; font-weight: bold\">-0.36732262</span><span style=\"color: #808000; text-decoration-color: #808000; font-weight: bold\"> </span><span style=\"color: #808000; text-decoration-color: #808000; font-weight: bold\">-0.02967339</span><span style=\"color: #808000; text-decoration-color: #808000; font-weight: bold\"> </span><span style=\"color: #808000; text-decoration-color: #808000; font-weight: bold\">-0.460784</span><span style=\"color: #808000; text-decoration-color: #808000; font-weight: bold\">   </span><span style=\"color: #808000; text-decoration-color: #808000; font-weight: bold\">-0.10106134</span>\n",
              "<span style=\"color: #808000; text-decoration-color: #808000; font-weight: bold\">  </span><span style=\"color: #808000; text-decoration-color: #808000; font-weight: bold\">0.01669817</span><span style=\"color: #808000; text-decoration-color: #808000; font-weight: bold\">  </span><span style=\"color: #808000; text-decoration-color: #808000; font-weight: bold\">0.59577715</span><span style=\"color: #808000; text-decoration-color: #808000; font-weight: bold\"> </span><span style=\"color: #808000; text-decoration-color: #808000; font-weight: bold\">-0.11770311</span><span style=\"color: #808000; text-decoration-color: #808000; font-weight: bold\">  </span><span style=\"color: #808000; text-decoration-color: #808000; font-weight: bold\">0.10289837</span><span style=\"color: #808000; text-decoration-color: #808000; font-weight: bold\">]...</span>\n",
              "</pre>\n"
            ]
          },
          "metadata": {}
        },
        {
          "output_type": "display_data",
          "data": {
            "text/plain": [
              "\n"
            ],
            "text/html": [
              "<pre style=\"white-space:pre;overflow-x:auto;line-height:normal;font-family:Menlo,'DejaVu Sans Mono',consolas,'Courier New',monospace\">\n",
              "</pre>\n"
            ]
          },
          "metadata": {}
        },
        {
          "output_type": "display_data",
          "data": {
            "text/plain": [
              "Token: \u001b[1;31mthe\u001b[0m\n"
            ],
            "text/html": [
              "<pre style=\"white-space:pre;overflow-x:auto;line-height:normal;font-family:Menlo,'DejaVu Sans Mono',consolas,'Courier New',monospace\">Token: <span style=\"color: #800000; text-decoration-color: #800000; font-weight: bold\">the</span>\n",
              "</pre>\n"
            ]
          },
          "metadata": {}
        },
        {
          "output_type": "display_data",
          "data": {
            "text/plain": [
              "Embedding: \u001b[1;33m[\u001b[0m\u001b[1;33m-0.3978658\u001b[0m\u001b[1;33m  \u001b[0m\u001b[1;33m-0.27210808\u001b[0m\u001b[1;33m \u001b[0m\u001b[1;33m-0.68196577\u001b[0m\u001b[1;33m \u001b[0m\u001b[1;33m-0.00734524\u001b[0m\u001b[1;33m  \u001b[0m\u001b[1;33m0.7860015\u001b[0m\u001b[1;33m   \u001b[0m\u001b[1;33m0.17661774\u001b[0m\n",
              "\u001b[1;33m  \u001b[0m\u001b[1;33m0.05241349\u001b[0m\u001b[1;33m  \u001b[0m\u001b[1;33m0.72017133\u001b[0m\u001b[1;33m  \u001b[0m\u001b[1;33m0.07858636\u001b[0m\u001b[1;33m \u001b[0m\u001b[1;33m-0.1736162\u001b[0m\u001b[1;33m \u001b[0m\u001b[1;33m]\u001b[0m\u001b[1;33m...\u001b[0m\n"
            ],
            "text/html": [
              "<pre style=\"white-space:pre;overflow-x:auto;line-height:normal;font-family:Menlo,'DejaVu Sans Mono',consolas,'Courier New',monospace\">Embedding: <span style=\"color: #808000; text-decoration-color: #808000; font-weight: bold\">[</span><span style=\"color: #808000; text-decoration-color: #808000; font-weight: bold\">-0.3978658</span><span style=\"color: #808000; text-decoration-color: #808000; font-weight: bold\">  </span><span style=\"color: #808000; text-decoration-color: #808000; font-weight: bold\">-0.27210808</span><span style=\"color: #808000; text-decoration-color: #808000; font-weight: bold\"> </span><span style=\"color: #808000; text-decoration-color: #808000; font-weight: bold\">-0.68196577</span><span style=\"color: #808000; text-decoration-color: #808000; font-weight: bold\"> </span><span style=\"color: #808000; text-decoration-color: #808000; font-weight: bold\">-0.00734524</span><span style=\"color: #808000; text-decoration-color: #808000; font-weight: bold\">  </span><span style=\"color: #808000; text-decoration-color: #808000; font-weight: bold\">0.7860015</span><span style=\"color: #808000; text-decoration-color: #808000; font-weight: bold\">   </span><span style=\"color: #808000; text-decoration-color: #808000; font-weight: bold\">0.17661774</span>\n",
              "<span style=\"color: #808000; text-decoration-color: #808000; font-weight: bold\">  </span><span style=\"color: #808000; text-decoration-color: #808000; font-weight: bold\">0.05241349</span><span style=\"color: #808000; text-decoration-color: #808000; font-weight: bold\">  </span><span style=\"color: #808000; text-decoration-color: #808000; font-weight: bold\">0.72017133</span><span style=\"color: #808000; text-decoration-color: #808000; font-weight: bold\">  </span><span style=\"color: #808000; text-decoration-color: #808000; font-weight: bold\">0.07858636</span><span style=\"color: #808000; text-decoration-color: #808000; font-weight: bold\"> </span><span style=\"color: #808000; text-decoration-color: #808000; font-weight: bold\">-0.1736162</span><span style=\"color: #808000; text-decoration-color: #808000; font-weight: bold\"> ]...</span>\n",
              "</pre>\n"
            ]
          },
          "metadata": {}
        },
        {
          "output_type": "display_data",
          "data": {
            "text/plain": [
              "\n"
            ],
            "text/html": [
              "<pre style=\"white-space:pre;overflow-x:auto;line-height:normal;font-family:Menlo,'DejaVu Sans Mono',consolas,'Courier New',monospace\">\n",
              "</pre>\n"
            ]
          },
          "metadata": {}
        },
        {
          "output_type": "display_data",
          "data": {
            "text/plain": [
              "Token: \u001b[1;31mcat\u001b[0m\n"
            ],
            "text/html": [
              "<pre style=\"white-space:pre;overflow-x:auto;line-height:normal;font-family:Menlo,'DejaVu Sans Mono',consolas,'Courier New',monospace\">Token: <span style=\"color: #800000; text-decoration-color: #800000; font-weight: bold\">cat</span>\n",
              "</pre>\n"
            ]
          },
          "metadata": {}
        },
        {
          "output_type": "display_data",
          "data": {
            "text/plain": [
              "Embedding: \u001b[1;33m[\u001b[0m\u001b[1;33m-0.35117194\u001b[0m\u001b[1;33m \u001b[0m\u001b[1;33m-0.07356024\u001b[0m\u001b[1;33m \u001b[0m\u001b[1;33m-0.06913986\u001b[0m\u001b[1;33m \u001b[0m\u001b[1;33m-0.13987705\u001b[0m\u001b[1;33m  \u001b[0m\u001b[1;33m0.68294847\u001b[0m\u001b[1;33m  \u001b[0m\u001b[1;33m0.11350538\u001b[0m\n",
              "\u001b[1;33m  \u001b[0m\u001b[1;33m0.20849192\u001b[0m\u001b[1;33m  \u001b[0m\u001b[1;33m0.56738263\u001b[0m\u001b[1;33m  \u001b[0m\u001b[1;33m0.4069492\u001b[0m\u001b[1;33m  \u001b[0m\u001b[1;33m-0.2134663\u001b[0m\u001b[1;33m \u001b[0m\u001b[1;33m]\u001b[0m\u001b[1;33m...\u001b[0m\n"
            ],
            "text/html": [
              "<pre style=\"white-space:pre;overflow-x:auto;line-height:normal;font-family:Menlo,'DejaVu Sans Mono',consolas,'Courier New',monospace\">Embedding: <span style=\"color: #808000; text-decoration-color: #808000; font-weight: bold\">[</span><span style=\"color: #808000; text-decoration-color: #808000; font-weight: bold\">-0.35117194</span><span style=\"color: #808000; text-decoration-color: #808000; font-weight: bold\"> </span><span style=\"color: #808000; text-decoration-color: #808000; font-weight: bold\">-0.07356024</span><span style=\"color: #808000; text-decoration-color: #808000; font-weight: bold\"> </span><span style=\"color: #808000; text-decoration-color: #808000; font-weight: bold\">-0.06913986</span><span style=\"color: #808000; text-decoration-color: #808000; font-weight: bold\"> </span><span style=\"color: #808000; text-decoration-color: #808000; font-weight: bold\">-0.13987705</span><span style=\"color: #808000; text-decoration-color: #808000; font-weight: bold\">  </span><span style=\"color: #808000; text-decoration-color: #808000; font-weight: bold\">0.68294847</span><span style=\"color: #808000; text-decoration-color: #808000; font-weight: bold\">  </span><span style=\"color: #808000; text-decoration-color: #808000; font-weight: bold\">0.11350538</span>\n",
              "<span style=\"color: #808000; text-decoration-color: #808000; font-weight: bold\">  </span><span style=\"color: #808000; text-decoration-color: #808000; font-weight: bold\">0.20849192</span><span style=\"color: #808000; text-decoration-color: #808000; font-weight: bold\">  </span><span style=\"color: #808000; text-decoration-color: #808000; font-weight: bold\">0.56738263</span><span style=\"color: #808000; text-decoration-color: #808000; font-weight: bold\">  </span><span style=\"color: #808000; text-decoration-color: #808000; font-weight: bold\">0.4069492</span><span style=\"color: #808000; text-decoration-color: #808000; font-weight: bold\">  </span><span style=\"color: #808000; text-decoration-color: #808000; font-weight: bold\">-0.2134663</span><span style=\"color: #808000; text-decoration-color: #808000; font-weight: bold\"> ]...</span>\n",
              "</pre>\n"
            ]
          },
          "metadata": {}
        },
        {
          "output_type": "display_data",
          "data": {
            "text/plain": [
              "\n"
            ],
            "text/html": [
              "<pre style=\"white-space:pre;overflow-x:auto;line-height:normal;font-family:Menlo,'DejaVu Sans Mono',consolas,'Courier New',monospace\">\n",
              "</pre>\n"
            ]
          },
          "metadata": {}
        },
        {
          "output_type": "display_data",
          "data": {
            "text/plain": [
              "Token: \u001b[1;31msat\u001b[0m\n"
            ],
            "text/html": [
              "<pre style=\"white-space:pre;overflow-x:auto;line-height:normal;font-family:Menlo,'DejaVu Sans Mono',consolas,'Courier New',monospace\">Token: <span style=\"color: #800000; text-decoration-color: #800000; font-weight: bold\">sat</span>\n",
              "</pre>\n"
            ]
          },
          "metadata": {}
        },
        {
          "output_type": "display_data",
          "data": {
            "text/plain": [
              "Embedding: \u001b[1;33m[\u001b[0m\u001b[1;33m \u001b[0m\u001b[1;33m0.07117955\u001b[0m\u001b[1;33m \u001b[0m\u001b[1;33m-0.31366652\u001b[0m\u001b[1;33m  \u001b[0m\u001b[1;33m0.09802647\u001b[0m\u001b[1;33m  \u001b[0m\u001b[1;33m0.06934201\u001b[0m\u001b[1;33m  \u001b[0m\u001b[1;33m0.4834015\u001b[0m\u001b[1;33m  \u001b[0m\u001b[1;33m-0.40465042\u001b[0m\n",
              "\u001b[1;33m \u001b[0m\u001b[1;33m-0.5492254\u001b[0m\u001b[1;33m   \u001b[0m\u001b[1;33m0.91489977\u001b[0m\u001b[1;33m \u001b[0m\u001b[1;33m-0.19875513\u001b[0m\u001b[1;33m  \u001b[0m\u001b[1;33m0.16641603\u001b[0m\u001b[1;33m]\u001b[0m\u001b[1;33m...\u001b[0m\n"
            ],
            "text/html": [
              "<pre style=\"white-space:pre;overflow-x:auto;line-height:normal;font-family:Menlo,'DejaVu Sans Mono',consolas,'Courier New',monospace\">Embedding: <span style=\"color: #808000; text-decoration-color: #808000; font-weight: bold\">[ </span><span style=\"color: #808000; text-decoration-color: #808000; font-weight: bold\">0.07117955</span><span style=\"color: #808000; text-decoration-color: #808000; font-weight: bold\"> </span><span style=\"color: #808000; text-decoration-color: #808000; font-weight: bold\">-0.31366652</span><span style=\"color: #808000; text-decoration-color: #808000; font-weight: bold\">  </span><span style=\"color: #808000; text-decoration-color: #808000; font-weight: bold\">0.09802647</span><span style=\"color: #808000; text-decoration-color: #808000; font-weight: bold\">  </span><span style=\"color: #808000; text-decoration-color: #808000; font-weight: bold\">0.06934201</span><span style=\"color: #808000; text-decoration-color: #808000; font-weight: bold\">  </span><span style=\"color: #808000; text-decoration-color: #808000; font-weight: bold\">0.4834015</span><span style=\"color: #808000; text-decoration-color: #808000; font-weight: bold\">  </span><span style=\"color: #808000; text-decoration-color: #808000; font-weight: bold\">-0.40465042</span>\n",
              "<span style=\"color: #808000; text-decoration-color: #808000; font-weight: bold\"> </span><span style=\"color: #808000; text-decoration-color: #808000; font-weight: bold\">-0.5492254</span><span style=\"color: #808000; text-decoration-color: #808000; font-weight: bold\">   </span><span style=\"color: #808000; text-decoration-color: #808000; font-weight: bold\">0.91489977</span><span style=\"color: #808000; text-decoration-color: #808000; font-weight: bold\"> </span><span style=\"color: #808000; text-decoration-color: #808000; font-weight: bold\">-0.19875513</span><span style=\"color: #808000; text-decoration-color: #808000; font-weight: bold\">  </span><span style=\"color: #808000; text-decoration-color: #808000; font-weight: bold\">0.16641603</span><span style=\"color: #808000; text-decoration-color: #808000; font-weight: bold\">]...</span>\n",
              "</pre>\n"
            ]
          },
          "metadata": {}
        },
        {
          "output_type": "display_data",
          "data": {
            "text/plain": [
              "\n"
            ],
            "text/html": [
              "<pre style=\"white-space:pre;overflow-x:auto;line-height:normal;font-family:Menlo,'DejaVu Sans Mono',consolas,'Courier New',monospace\">\n",
              "</pre>\n"
            ]
          },
          "metadata": {}
        },
        {
          "output_type": "display_data",
          "data": {
            "text/plain": [
              "Token: \u001b[1;31mon\u001b[0m\n"
            ],
            "text/html": [
              "<pre style=\"white-space:pre;overflow-x:auto;line-height:normal;font-family:Menlo,'DejaVu Sans Mono',consolas,'Courier New',monospace\">Token: <span style=\"color: #800000; text-decoration-color: #800000; font-weight: bold\">on</span>\n",
              "</pre>\n"
            ]
          },
          "metadata": {}
        },
        {
          "output_type": "display_data",
          "data": {
            "text/plain": [
              "Embedding: \u001b[1;33m[\u001b[0m\u001b[1;33m-0.5203689\u001b[0m\u001b[1;33m  \u001b[0m\u001b[1;33m-0.59298277\u001b[0m\u001b[1;33m  \u001b[0m\u001b[1;33m0.28364897\u001b[0m\u001b[1;33m  \u001b[0m\u001b[1;33m0.31230223\u001b[0m\u001b[1;33m  \u001b[0m\u001b[1;33m0.611251\u001b[0m\u001b[1;33m   \u001b[0m\u001b[1;33m-0.07076924\u001b[0m\n",
              "\u001b[1;33m \u001b[0m\u001b[1;33m-1.1455988\u001b[0m\u001b[1;33m   \u001b[0m\u001b[1;33m0.3248083\u001b[0m\u001b[1;33m  \u001b[0m\u001b[1;33m-0.40707844\u001b[0m\u001b[1;33m \u001b[0m\u001b[1;33m-0.04888151\u001b[0m\u001b[1;33m]\u001b[0m\u001b[1;33m...\u001b[0m\n"
            ],
            "text/html": [
              "<pre style=\"white-space:pre;overflow-x:auto;line-height:normal;font-family:Menlo,'DejaVu Sans Mono',consolas,'Courier New',monospace\">Embedding: <span style=\"color: #808000; text-decoration-color: #808000; font-weight: bold\">[</span><span style=\"color: #808000; text-decoration-color: #808000; font-weight: bold\">-0.5203689</span><span style=\"color: #808000; text-decoration-color: #808000; font-weight: bold\">  </span><span style=\"color: #808000; text-decoration-color: #808000; font-weight: bold\">-0.59298277</span><span style=\"color: #808000; text-decoration-color: #808000; font-weight: bold\">  </span><span style=\"color: #808000; text-decoration-color: #808000; font-weight: bold\">0.28364897</span><span style=\"color: #808000; text-decoration-color: #808000; font-weight: bold\">  </span><span style=\"color: #808000; text-decoration-color: #808000; font-weight: bold\">0.31230223</span><span style=\"color: #808000; text-decoration-color: #808000; font-weight: bold\">  </span><span style=\"color: #808000; text-decoration-color: #808000; font-weight: bold\">0.611251</span><span style=\"color: #808000; text-decoration-color: #808000; font-weight: bold\">   </span><span style=\"color: #808000; text-decoration-color: #808000; font-weight: bold\">-0.07076924</span>\n",
              "<span style=\"color: #808000; text-decoration-color: #808000; font-weight: bold\"> </span><span style=\"color: #808000; text-decoration-color: #808000; font-weight: bold\">-1.1455988</span><span style=\"color: #808000; text-decoration-color: #808000; font-weight: bold\">   </span><span style=\"color: #808000; text-decoration-color: #808000; font-weight: bold\">0.3248083</span><span style=\"color: #808000; text-decoration-color: #808000; font-weight: bold\">  </span><span style=\"color: #808000; text-decoration-color: #808000; font-weight: bold\">-0.40707844</span><span style=\"color: #808000; text-decoration-color: #808000; font-weight: bold\"> </span><span style=\"color: #808000; text-decoration-color: #808000; font-weight: bold\">-0.04888151</span><span style=\"color: #808000; text-decoration-color: #808000; font-weight: bold\">]...</span>\n",
              "</pre>\n"
            ]
          },
          "metadata": {}
        },
        {
          "output_type": "display_data",
          "data": {
            "text/plain": [
              "\n"
            ],
            "text/html": [
              "<pre style=\"white-space:pre;overflow-x:auto;line-height:normal;font-family:Menlo,'DejaVu Sans Mono',consolas,'Courier New',monospace\">\n",
              "</pre>\n"
            ]
          },
          "metadata": {}
        },
        {
          "output_type": "display_data",
          "data": {
            "text/plain": [
              "Token: \u001b[1;31mthe\u001b[0m\n"
            ],
            "text/html": [
              "<pre style=\"white-space:pre;overflow-x:auto;line-height:normal;font-family:Menlo,'DejaVu Sans Mono',consolas,'Courier New',monospace\">Token: <span style=\"color: #800000; text-decoration-color: #800000; font-weight: bold\">the</span>\n",
              "</pre>\n"
            ]
          },
          "metadata": {}
        },
        {
          "output_type": "display_data",
          "data": {
            "text/plain": [
              "Embedding: \u001b[1;33m[\u001b[0m\u001b[1;33m-0.46198413\u001b[0m\u001b[1;33m \u001b[0m\u001b[1;33m-0.5197541\u001b[0m\u001b[1;33m  \u001b[0m\u001b[1;33m-0.37599826\u001b[0m\u001b[1;33m  \u001b[0m\u001b[1;33m0.5099069\u001b[0m\u001b[1;33m   \u001b[0m\u001b[1;33m0.47716403\u001b[0m\u001b[1;33m \u001b[0m\u001b[1;33m-0.41718286\u001b[0m\n",
              "\u001b[1;33m \u001b[0m\u001b[1;33m-0.4499631\u001b[0m\u001b[1;33m   \u001b[0m\u001b[1;33m0.41355488\u001b[0m\u001b[1;33m \u001b[0m\u001b[1;33m-0.52844054\u001b[0m\u001b[1;33m \u001b[0m\u001b[1;33m-0.38209906\u001b[0m\u001b[1;33m]\u001b[0m\u001b[1;33m...\u001b[0m\n"
            ],
            "text/html": [
              "<pre style=\"white-space:pre;overflow-x:auto;line-height:normal;font-family:Menlo,'DejaVu Sans Mono',consolas,'Courier New',monospace\">Embedding: <span style=\"color: #808000; text-decoration-color: #808000; font-weight: bold\">[</span><span style=\"color: #808000; text-decoration-color: #808000; font-weight: bold\">-0.46198413</span><span style=\"color: #808000; text-decoration-color: #808000; font-weight: bold\"> </span><span style=\"color: #808000; text-decoration-color: #808000; font-weight: bold\">-0.5197541</span><span style=\"color: #808000; text-decoration-color: #808000; font-weight: bold\">  </span><span style=\"color: #808000; text-decoration-color: #808000; font-weight: bold\">-0.37599826</span><span style=\"color: #808000; text-decoration-color: #808000; font-weight: bold\">  </span><span style=\"color: #808000; text-decoration-color: #808000; font-weight: bold\">0.5099069</span><span style=\"color: #808000; text-decoration-color: #808000; font-weight: bold\">   </span><span style=\"color: #808000; text-decoration-color: #808000; font-weight: bold\">0.47716403</span><span style=\"color: #808000; text-decoration-color: #808000; font-weight: bold\"> </span><span style=\"color: #808000; text-decoration-color: #808000; font-weight: bold\">-0.41718286</span>\n",
              "<span style=\"color: #808000; text-decoration-color: #808000; font-weight: bold\"> </span><span style=\"color: #808000; text-decoration-color: #808000; font-weight: bold\">-0.4499631</span><span style=\"color: #808000; text-decoration-color: #808000; font-weight: bold\">   </span><span style=\"color: #808000; text-decoration-color: #808000; font-weight: bold\">0.41355488</span><span style=\"color: #808000; text-decoration-color: #808000; font-weight: bold\"> </span><span style=\"color: #808000; text-decoration-color: #808000; font-weight: bold\">-0.52844054</span><span style=\"color: #808000; text-decoration-color: #808000; font-weight: bold\"> </span><span style=\"color: #808000; text-decoration-color: #808000; font-weight: bold\">-0.38209906</span><span style=\"color: #808000; text-decoration-color: #808000; font-weight: bold\">]...</span>\n",
              "</pre>\n"
            ]
          },
          "metadata": {}
        },
        {
          "output_type": "display_data",
          "data": {
            "text/plain": [
              "\n"
            ],
            "text/html": [
              "<pre style=\"white-space:pre;overflow-x:auto;line-height:normal;font-family:Menlo,'DejaVu Sans Mono',consolas,'Courier New',monospace\">\n",
              "</pre>\n"
            ]
          },
          "metadata": {}
        },
        {
          "output_type": "display_data",
          "data": {
            "text/plain": [
              "Token: \u001b[1;31mmat\u001b[0m\n"
            ],
            "text/html": [
              "<pre style=\"white-space:pre;overflow-x:auto;line-height:normal;font-family:Menlo,'DejaVu Sans Mono',consolas,'Courier New',monospace\">Token: <span style=\"color: #800000; text-decoration-color: #800000; font-weight: bold\">mat</span>\n",
              "</pre>\n"
            ]
          },
          "metadata": {}
        },
        {
          "output_type": "display_data",
          "data": {
            "text/plain": [
              "Embedding: \u001b[1;33m[\u001b[0m\u001b[1;33m-0.0415443\u001b[0m\u001b[1;33m  \u001b[0m\u001b[1;33m-0.10548864\u001b[0m\u001b[1;33m \u001b[0m\u001b[1;33m-0.28080556\u001b[0m\u001b[1;33m  \u001b[0m\u001b[1;33m0.5944824\u001b[0m\u001b[1;33m   \u001b[0m\u001b[1;33m0.05494812\u001b[0m\u001b[1;33m \u001b[0m\u001b[1;33m-0.33329046\u001b[0m\n",
              "\u001b[1;33m  \u001b[0m\u001b[1;33m0.23721729\u001b[0m\u001b[1;33m  \u001b[0m\u001b[1;33m0.21435769\u001b[0m\u001b[1;33m \u001b[0m\u001b[1;33m-0.5872034\u001b[0m\u001b[1;33m  \u001b[0m\u001b[1;33m-0.5192848\u001b[0m\u001b[1;33m \u001b[0m\u001b[1;33m]\u001b[0m\u001b[1;33m...\u001b[0m\n"
            ],
            "text/html": [
              "<pre style=\"white-space:pre;overflow-x:auto;line-height:normal;font-family:Menlo,'DejaVu Sans Mono',consolas,'Courier New',monospace\">Embedding: <span style=\"color: #808000; text-decoration-color: #808000; font-weight: bold\">[</span><span style=\"color: #808000; text-decoration-color: #808000; font-weight: bold\">-0.0415443</span><span style=\"color: #808000; text-decoration-color: #808000; font-weight: bold\">  </span><span style=\"color: #808000; text-decoration-color: #808000; font-weight: bold\">-0.10548864</span><span style=\"color: #808000; text-decoration-color: #808000; font-weight: bold\"> </span><span style=\"color: #808000; text-decoration-color: #808000; font-weight: bold\">-0.28080556</span><span style=\"color: #808000; text-decoration-color: #808000; font-weight: bold\">  </span><span style=\"color: #808000; text-decoration-color: #808000; font-weight: bold\">0.5944824</span><span style=\"color: #808000; text-decoration-color: #808000; font-weight: bold\">   </span><span style=\"color: #808000; text-decoration-color: #808000; font-weight: bold\">0.05494812</span><span style=\"color: #808000; text-decoration-color: #808000; font-weight: bold\"> </span><span style=\"color: #808000; text-decoration-color: #808000; font-weight: bold\">-0.33329046</span>\n",
              "<span style=\"color: #808000; text-decoration-color: #808000; font-weight: bold\">  </span><span style=\"color: #808000; text-decoration-color: #808000; font-weight: bold\">0.23721729</span><span style=\"color: #808000; text-decoration-color: #808000; font-weight: bold\">  </span><span style=\"color: #808000; text-decoration-color: #808000; font-weight: bold\">0.21435769</span><span style=\"color: #808000; text-decoration-color: #808000; font-weight: bold\"> </span><span style=\"color: #808000; text-decoration-color: #808000; font-weight: bold\">-0.5872034</span><span style=\"color: #808000; text-decoration-color: #808000; font-weight: bold\">  </span><span style=\"color: #808000; text-decoration-color: #808000; font-weight: bold\">-0.5192848</span><span style=\"color: #808000; text-decoration-color: #808000; font-weight: bold\"> ]...</span>\n",
              "</pre>\n"
            ]
          },
          "metadata": {}
        },
        {
          "output_type": "display_data",
          "data": {
            "text/plain": [
              "\n"
            ],
            "text/html": [
              "<pre style=\"white-space:pre;overflow-x:auto;line-height:normal;font-family:Menlo,'DejaVu Sans Mono',consolas,'Courier New',monospace\">\n",
              "</pre>\n"
            ]
          },
          "metadata": {}
        },
        {
          "output_type": "display_data",
          "data": {
            "text/plain": [
              "Token: \u001b[1;31m.\u001b[0m\n"
            ],
            "text/html": [
              "<pre style=\"white-space:pre;overflow-x:auto;line-height:normal;font-family:Menlo,'DejaVu Sans Mono',consolas,'Courier New',monospace\">Token: <span style=\"color: #800000; text-decoration-color: #800000; font-weight: bold\">.</span>\n",
              "</pre>\n"
            ]
          },
          "metadata": {}
        },
        {
          "output_type": "display_data",
          "data": {
            "text/plain": [
              "Embedding: \u001b[1;33m[\u001b[0m\u001b[1;33m-0.23536152\u001b[0m\u001b[1;33m \u001b[0m\u001b[1;33m-0.4874898\u001b[0m\u001b[1;33m  \u001b[0m\u001b[1;33m-0.16314735\u001b[0m\u001b[1;33m  \u001b[0m\u001b[1;33m0.24718559\u001b[0m\u001b[1;33m  \u001b[0m\u001b[1;33m0.16603808\u001b[0m\u001b[1;33m \u001b[0m\u001b[1;33m-0.10894424\u001b[0m\n",
              "\u001b[1;33m \u001b[0m\u001b[1;33m-0.47729397\u001b[0m\u001b[1;33m  \u001b[0m\u001b[1;33m0.72053766\u001b[0m\u001b[1;33m \u001b[0m\u001b[1;33m-0.12877737\u001b[0m\u001b[1;33m \u001b[0m\u001b[1;33m-0.6664553\u001b[0m\u001b[1;33m \u001b[0m\u001b[1;33m]\u001b[0m\u001b[1;33m...\u001b[0m\n"
            ],
            "text/html": [
              "<pre style=\"white-space:pre;overflow-x:auto;line-height:normal;font-family:Menlo,'DejaVu Sans Mono',consolas,'Courier New',monospace\">Embedding: <span style=\"color: #808000; text-decoration-color: #808000; font-weight: bold\">[</span><span style=\"color: #808000; text-decoration-color: #808000; font-weight: bold\">-0.23536152</span><span style=\"color: #808000; text-decoration-color: #808000; font-weight: bold\"> </span><span style=\"color: #808000; text-decoration-color: #808000; font-weight: bold\">-0.4874898</span><span style=\"color: #808000; text-decoration-color: #808000; font-weight: bold\">  </span><span style=\"color: #808000; text-decoration-color: #808000; font-weight: bold\">-0.16314735</span><span style=\"color: #808000; text-decoration-color: #808000; font-weight: bold\">  </span><span style=\"color: #808000; text-decoration-color: #808000; font-weight: bold\">0.24718559</span><span style=\"color: #808000; text-decoration-color: #808000; font-weight: bold\">  </span><span style=\"color: #808000; text-decoration-color: #808000; font-weight: bold\">0.16603808</span><span style=\"color: #808000; text-decoration-color: #808000; font-weight: bold\"> </span><span style=\"color: #808000; text-decoration-color: #808000; font-weight: bold\">-0.10894424</span>\n",
              "<span style=\"color: #808000; text-decoration-color: #808000; font-weight: bold\"> </span><span style=\"color: #808000; text-decoration-color: #808000; font-weight: bold\">-0.47729397</span><span style=\"color: #808000; text-decoration-color: #808000; font-weight: bold\">  </span><span style=\"color: #808000; text-decoration-color: #808000; font-weight: bold\">0.72053766</span><span style=\"color: #808000; text-decoration-color: #808000; font-weight: bold\"> </span><span style=\"color: #808000; text-decoration-color: #808000; font-weight: bold\">-0.12877737</span><span style=\"color: #808000; text-decoration-color: #808000; font-weight: bold\"> </span><span style=\"color: #808000; text-decoration-color: #808000; font-weight: bold\">-0.6664553</span><span style=\"color: #808000; text-decoration-color: #808000; font-weight: bold\"> ]...</span>\n",
              "</pre>\n"
            ]
          },
          "metadata": {}
        },
        {
          "output_type": "display_data",
          "data": {
            "text/plain": [
              "\n"
            ],
            "text/html": [
              "<pre style=\"white-space:pre;overflow-x:auto;line-height:normal;font-family:Menlo,'DejaVu Sans Mono',consolas,'Courier New',monospace\">\n",
              "</pre>\n"
            ]
          },
          "metadata": {}
        },
        {
          "output_type": "display_data",
          "data": {
            "text/plain": [
              "Token: \u001b[1;31m[\u001b[0m\u001b[1;31mSEP\u001b[0m\u001b[1;31m]\u001b[0m\n"
            ],
            "text/html": [
              "<pre style=\"white-space:pre;overflow-x:auto;line-height:normal;font-family:Menlo,'DejaVu Sans Mono',consolas,'Courier New',monospace\">Token: <span style=\"color: #800000; text-decoration-color: #800000; font-weight: bold\">[SEP]</span>\n",
              "</pre>\n"
            ]
          },
          "metadata": {}
        },
        {
          "output_type": "display_data",
          "data": {
            "text/plain": [
              "Embedding: \u001b[1;33m[\u001b[0m\u001b[1;33m \u001b[0m\u001b[1;33m0.66511077\u001b[0m\u001b[1;33m  \u001b[0m\u001b[1;33m0.02249792\u001b[0m\u001b[1;33m \u001b[0m\u001b[1;33m-0.41309452\u001b[0m\u001b[1;33m  \u001b[0m\u001b[1;33m0.34166738\u001b[0m\u001b[1;33m \u001b[0m\u001b[1;33m-0.2383636\u001b[0m\u001b[1;33m  \u001b[0m\u001b[1;33m-0.40086323\u001b[0m\n",
              "\u001b[1;33m  \u001b[0m\u001b[1;33m0.6143277\u001b[0m\u001b[1;33m   \u001b[0m\u001b[1;33m0.11614177\u001b[0m\u001b[1;33m  \u001b[0m\u001b[1;33m0.33811757\u001b[0m\u001b[1;33m  \u001b[0m\u001b[1;33m0.20712788\u001b[0m\u001b[1;33m]\u001b[0m\u001b[1;33m...\u001b[0m\n"
            ],
            "text/html": [
              "<pre style=\"white-space:pre;overflow-x:auto;line-height:normal;font-family:Menlo,'DejaVu Sans Mono',consolas,'Courier New',monospace\">Embedding: <span style=\"color: #808000; text-decoration-color: #808000; font-weight: bold\">[ </span><span style=\"color: #808000; text-decoration-color: #808000; font-weight: bold\">0.66511077</span><span style=\"color: #808000; text-decoration-color: #808000; font-weight: bold\">  </span><span style=\"color: #808000; text-decoration-color: #808000; font-weight: bold\">0.02249792</span><span style=\"color: #808000; text-decoration-color: #808000; font-weight: bold\"> </span><span style=\"color: #808000; text-decoration-color: #808000; font-weight: bold\">-0.41309452</span><span style=\"color: #808000; text-decoration-color: #808000; font-weight: bold\">  </span><span style=\"color: #808000; text-decoration-color: #808000; font-weight: bold\">0.34166738</span><span style=\"color: #808000; text-decoration-color: #808000; font-weight: bold\"> </span><span style=\"color: #808000; text-decoration-color: #808000; font-weight: bold\">-0.2383636</span><span style=\"color: #808000; text-decoration-color: #808000; font-weight: bold\">  </span><span style=\"color: #808000; text-decoration-color: #808000; font-weight: bold\">-0.40086323</span>\n",
              "<span style=\"color: #808000; text-decoration-color: #808000; font-weight: bold\">  </span><span style=\"color: #808000; text-decoration-color: #808000; font-weight: bold\">0.6143277</span><span style=\"color: #808000; text-decoration-color: #808000; font-weight: bold\">   </span><span style=\"color: #808000; text-decoration-color: #808000; font-weight: bold\">0.11614177</span><span style=\"color: #808000; text-decoration-color: #808000; font-weight: bold\">  </span><span style=\"color: #808000; text-decoration-color: #808000; font-weight: bold\">0.33811757</span><span style=\"color: #808000; text-decoration-color: #808000; font-weight: bold\">  </span><span style=\"color: #808000; text-decoration-color: #808000; font-weight: bold\">0.20712788</span><span style=\"color: #808000; text-decoration-color: #808000; font-weight: bold\">]...</span>\n",
              "</pre>\n"
            ]
          },
          "metadata": {}
        },
        {
          "output_type": "display_data",
          "data": {
            "text/plain": [
              "\n"
            ],
            "text/html": [
              "<pre style=\"white-space:pre;overflow-x:auto;line-height:normal;font-family:Menlo,'DejaVu Sans Mono',consolas,'Courier New',monospace\">\n",
              "</pre>\n"
            ]
          },
          "metadata": {}
        }
      ]
    },
    {
      "cell_type": "code",
      "source": [],
      "metadata": {
        "id": "cBe9Y0kW6aix"
      },
      "execution_count": null,
      "outputs": []
    }
  ]
}