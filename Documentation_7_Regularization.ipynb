{
  "nbformat": 4,
  "nbformat_minor": 0,
  "metadata": {
    "colab": {
      "provenance": []
    },
    "kernelspec": {
      "name": "python3",
      "display_name": "Python 3"
    },
    "language_info": {
      "name": "python"
    }
  },
  "cells": [
    {
      "cell_type": "markdown",
      "metadata": {
        "id": "p8JkeN-kYXms"
      },
      "source": [
        "### Need of Loss Functions\n",
        "\n",
        "The purpose of loss functions is to compute the quantity that a model should seek to minimize during training."
      ]
    },
    {
      "cell_type": "markdown",
      "metadata": {
        "id": "KL8izx_mYdxi"
      },
      "source": [
        "### Cost Function VS Loss Functions\n",
        "\n",
        "The terms cost and loss functions almost refer to the same meaning. The cost function is calculated as an average of loss functions. The loss function is a value which is calculated at every instance. So, for a single training cycle loss is calculated numerous times, but the cost function is only calculated once.\n"
      ]
    },
    {
      "cell_type": "markdown",
      "metadata": {
        "id": "bWm36U0oaOhv"
      },
      "source": [
        "### Regularization\n",
        "\n",
        "It is a techniques by which Overfitting can be reduced by making some changes to cost functions or scaling weights.\n",
        "\n",
        "### L1 Regularization (LASSO)\n",
        "\n",
        "$J_n(\\theta) = J_0(\\theta) + \\alpha |\\theta_i|$\n",
        "\n",
        "When,\n",
        "\n",
        "$\\alpha = 1$ 100% Regularization.\n",
        "\n",
        "$\\alpha = $ 0 Regularization.\n",
        "\n",
        "\n",
        "### Disadvantage\n",
        "\n",
        "- Modulus is Not Differenciable Completely.\n"
      ]
    },
    {
      "cell_type": "code",
      "metadata": {
        "id": "48rnLdgMbchu"
      },
      "source": [
        "import numpy as np\n",
        "import pandas as pd\n",
        "import matplotlib.pyplot as plt\n",
        "import tensorflow as tf\n",
        "import time"
      ],
      "execution_count": null,
      "outputs": []
    },
    {
      "cell_type": "code",
      "metadata": {
        "id": "-TuN3YiFYc4-"
      },
      "source": [
        "(X_train_full, y_train_full), (X_test, y_test) = tf.keras.datasets.fashion_mnist.load_data()\n",
        "X_train_full = X_train_full / 255.0\n",
        "X_test = X_test / 255.0\n",
        "X_valid, X_train = X_train_full[:5000], X_train_full[5000:]\n",
        "y_valid, y_train = y_train_full[:5000], y_train_full[5000:]\n",
        "\n",
        "pixel_means = X_train.mean(axis=0, keepdims=True)\n",
        "pixel_stds = X_train.std(axis=0, keepdims=True)\n",
        "X_train_scaled = (X_train - pixel_means) / pixel_stds\n",
        "X_valid_scaled = (X_valid - pixel_means) / pixel_stds\n",
        "X_test_scaled = (X_test - pixel_means) / pixel_stds"
      ],
      "execution_count": null,
      "outputs": []
    },
    {
      "cell_type": "code",
      "metadata": {
        "colab": {
          "base_uri": "https://localhost:8080/"
        },
        "id": "xSOb3tPhbqDG",
        "outputId": "3767c4d7-7e4a-4310-f8a9-3b0d2f092264"
      },
      "source": [
        "model = tf.keras.models.Sequential([\n",
        "    tf.keras.layers.Flatten(input_shape=[28, 28]),\n",
        "    tf.keras.layers.Dense(300, activation=\"elu\",\n",
        "                       kernel_initializer=\"he_normal\",\n",
        "                       kernel_regularizer=tf.keras.regularizers.l1(0.01)),\n",
        "    tf.keras.layers.Dense(100, activation=\"elu\",\n",
        "                       kernel_initializer=\"he_normal\",\n",
        "                       kernel_regularizer=tf.keras.regularizers.l1(0.01)),\n",
        "    tf.keras.layers.Dense(10, activation=\"softmax\",\n",
        "                       kernel_regularizer=tf.keras.regularizers.l1(0.01))\n",
        "])\n",
        "model.compile(loss=\"sparse_categorical_crossentropy\", optimizer=\"nadam\", metrics=[\"accuracy\"])\n",
        "n_epochs = 10\n",
        "start = time.perf_counter()\n",
        "history = model.fit(X_train_scaled, y_train, epochs=n_epochs,\n",
        "                    validation_data=(X_valid_scaled, y_valid))\n",
        "\n",
        "elapsed = time.perf_counter() - start\n",
        "print('Elapsed %.3f seconds.' % elapsed)"
      ],
      "execution_count": null,
      "outputs": [
        {
          "output_type": "stream",
          "text": [
            "Epoch 1/10\n",
            "1719/1719 [==============================] - 14s 8ms/step - loss: 6.1199 - accuracy: 0.7425 - val_loss: 2.0790 - val_accuracy: 0.7904\n",
            "Epoch 2/10\n",
            "1719/1719 [==============================] - 13s 8ms/step - loss: 1.9918 - accuracy: 0.7818 - val_loss: 1.8754 - val_accuracy: 0.7968\n",
            "Epoch 3/10\n",
            "1719/1719 [==============================] - 13s 8ms/step - loss: 1.8232 - accuracy: 0.7907 - val_loss: 1.7315 - val_accuracy: 0.8100\n",
            "Epoch 4/10\n",
            "1719/1719 [==============================] - 13s 8ms/step - loss: 1.7124 - accuracy: 0.7919 - val_loss: 1.6424 - val_accuracy: 0.8074\n",
            "Epoch 5/10\n",
            "1719/1719 [==============================] - 13s 8ms/step - loss: 1.6420 - accuracy: 0.7951 - val_loss: 1.6007 - val_accuracy: 0.8102\n",
            "Epoch 6/10\n",
            "1719/1719 [==============================] - 13s 8ms/step - loss: 1.5791 - accuracy: 0.7959 - val_loss: 1.5536 - val_accuracy: 0.7968\n",
            "Epoch 7/10\n",
            "1719/1719 [==============================] - 13s 8ms/step - loss: 1.5302 - accuracy: 0.7975 - val_loss: 1.4980 - val_accuracy: 0.7998\n",
            "Epoch 8/10\n",
            "1719/1719 [==============================] - 13s 8ms/step - loss: 1.4908 - accuracy: 0.7984 - val_loss: 1.4541 - val_accuracy: 0.8040\n",
            "Epoch 9/10\n",
            "1719/1719 [==============================] - 13s 8ms/step - loss: 1.4605 - accuracy: 0.7983 - val_loss: 1.4355 - val_accuracy: 0.8090\n",
            "Epoch 10/10\n",
            "1719/1719 [==============================] - 13s 7ms/step - loss: 1.4445 - accuracy: 0.8006 - val_loss: 1.4085 - val_accuracy: 0.8136\n",
            "Elapsed 143.006 seconds.\n"
          ],
          "name": "stdout"
        }
      ]
    },
    {
      "cell_type": "code",
      "metadata": {
        "colab": {
          "base_uri": "https://localhost:8080/"
        },
        "id": "io39q49kj5Um",
        "outputId": "8e35bf6d-b8d3-46b4-fe12-ce6ee903340a"
      },
      "source": [
        "model.summary()"
      ],
      "execution_count": null,
      "outputs": [
        {
          "output_type": "stream",
          "text": [
            "Model: \"sequential\"\n",
            "_________________________________________________________________\n",
            "Layer (type)                 Output Shape              Param #   \n",
            "=================================================================\n",
            "flatten (Flatten)            (None, 784)               0         \n",
            "_________________________________________________________________\n",
            "dense (Dense)                (None, 300)               235500    \n",
            "_________________________________________________________________\n",
            "dense_1 (Dense)              (None, 100)               30100     \n",
            "_________________________________________________________________\n",
            "dense_2 (Dense)              (None, 10)                1010      \n",
            "=================================================================\n",
            "Total params: 266,610\n",
            "Trainable params: 266,610\n",
            "Non-trainable params: 0\n",
            "_________________________________________________________________\n"
          ],
          "name": "stdout"
        }
      ]
    },
    {
      "cell_type": "code",
      "metadata": {
        "id": "V9im7KmHb95w"
      },
      "source": [],
      "execution_count": null,
      "outputs": []
    },
    {
      "cell_type": "markdown",
      "metadata": {
        "id": "21NdTSv6etG_"
      },
      "source": [
        "### L2 Regularization (Ridge)\n",
        "\n",
        "$J_n(\\theta) = J_0(\\theta) + \\frac{\\alpha}{2} (\\theta_i)^2$"
      ]
    },
    {
      "cell_type": "code",
      "metadata": {
        "colab": {
          "base_uri": "https://localhost:8080/"
        },
        "id": "3Oe5O_3sfKrD",
        "outputId": "21b40f78-79aa-4106-f6af-66f4cb35ae1a"
      },
      "source": [
        "model = tf.keras.models.Sequential([\n",
        "    tf.keras.layers.Flatten(input_shape=[28, 28]),\n",
        "    tf.keras.layers.Dense(300, activation=\"elu\",\n",
        "                       kernel_initializer=\"he_normal\",\n",
        "                       kernel_regularizer=tf.keras.regularizers.l2(0.01)),\n",
        "    tf.keras.layers.Dense(100, activation=\"elu\",\n",
        "                       kernel_initializer=\"he_normal\",\n",
        "                       kernel_regularizer=tf.keras.regularizers.l2(0.01)),\n",
        "    tf.keras.layers.Dense(10, activation=\"softmax\",\n",
        "                       kernel_regularizer=tf.keras.regularizers.l2(0.01))\n",
        "])\n",
        "model.compile(loss=\"sparse_categorical_crossentropy\", optimizer=\"nadam\", metrics=[\"accuracy\"])\n",
        "n_epochs = 10\n",
        "start = time.perf_counter()\n",
        "history = model.fit(X_train_scaled, y_train, epochs=n_epochs,\n",
        "                    validation_data=(X_valid_scaled, y_valid))\n",
        "\n",
        "elapsed = time.perf_counter() - start\n",
        "print('Elapsed %.3f seconds.' % elapsed)"
      ],
      "execution_count": null,
      "outputs": [
        {
          "output_type": "stream",
          "text": [
            "Epoch 1/10\n",
            "1719/1719 [==============================] - 14s 8ms/step - loss: 1.6328 - accuracy: 0.8115 - val_loss: 0.7593 - val_accuracy: 0.8160\n",
            "Epoch 2/10\n",
            "1719/1719 [==============================] - 13s 7ms/step - loss: 0.7175 - accuracy: 0.8268 - val_loss: 0.6835 - val_accuracy: 0.8464\n",
            "Epoch 3/10\n",
            "1719/1719 [==============================] - 13s 7ms/step - loss: 0.6989 - accuracy: 0.8333 - val_loss: 0.6910 - val_accuracy: 0.8396\n",
            "Epoch 4/10\n",
            "1719/1719 [==============================] - 13s 8ms/step - loss: 0.6917 - accuracy: 0.8377 - val_loss: 0.6825 - val_accuracy: 0.8448\n",
            "Epoch 5/10\n",
            "1719/1719 [==============================] - 13s 7ms/step - loss: 0.6910 - accuracy: 0.8373 - val_loss: 0.6751 - val_accuracy: 0.8446\n",
            "Epoch 6/10\n",
            "1719/1719 [==============================] - 13s 7ms/step - loss: 0.6884 - accuracy: 0.8363 - val_loss: 0.6630 - val_accuracy: 0.8498\n",
            "Epoch 7/10\n",
            "1719/1719 [==============================] - 13s 7ms/step - loss: 0.6854 - accuracy: 0.8385 - val_loss: 0.6706 - val_accuracy: 0.8410\n",
            "Epoch 8/10\n",
            "1719/1719 [==============================] - 13s 8ms/step - loss: 0.6844 - accuracy: 0.8395 - val_loss: 0.6793 - val_accuracy: 0.8414\n",
            "Epoch 9/10\n",
            "1719/1719 [==============================] - 13s 7ms/step - loss: 0.6832 - accuracy: 0.8382 - val_loss: 0.6757 - val_accuracy: 0.8418\n",
            "Epoch 10/10\n",
            "1719/1719 [==============================] - 13s 7ms/step - loss: 0.6829 - accuracy: 0.8395 - val_loss: 0.6649 - val_accuracy: 0.8468\n",
            "Elapsed 142.825 seconds.\n"
          ],
          "name": "stdout"
        }
      ]
    },
    {
      "cell_type": "code",
      "metadata": {
        "colab": {
          "base_uri": "https://localhost:8080/"
        },
        "id": "9ZszceG7j9VH",
        "outputId": "6e0dd2ac-0b9c-48f1-c891-8fb7f1bcc07f"
      },
      "source": [
        "model.summary()"
      ],
      "execution_count": null,
      "outputs": [
        {
          "output_type": "stream",
          "text": [
            "Model: \"sequential_1\"\n",
            "_________________________________________________________________\n",
            "Layer (type)                 Output Shape              Param #   \n",
            "=================================================================\n",
            "flatten_1 (Flatten)          (None, 784)               0         \n",
            "_________________________________________________________________\n",
            "dense_3 (Dense)              (None, 300)               235500    \n",
            "_________________________________________________________________\n",
            "dense_4 (Dense)              (None, 100)               30100     \n",
            "_________________________________________________________________\n",
            "dense_5 (Dense)              (None, 10)                1010      \n",
            "=================================================================\n",
            "Total params: 266,610\n",
            "Trainable params: 266,610\n",
            "Non-trainable params: 0\n",
            "_________________________________________________________________\n"
          ],
          "name": "stdout"
        }
      ]
    },
    {
      "cell_type": "markdown",
      "metadata": {
        "id": "S4wjoYD_fdIv"
      },
      "source": [
        "### L1 and L2 Regularization (Elastic Net)\n",
        "\n",
        "$J_n(\\theta) = J_0(\\theta) + r \\alpha |\\theta_i| +\\frac{1-r}{2} \\alpha (\\theta_i)^2$"
      ]
    },
    {
      "cell_type": "code",
      "metadata": {
        "colab": {
          "base_uri": "https://localhost:8080/"
        },
        "id": "bV-NqqvFfbti",
        "outputId": "f49a758d-97ce-43f2-fba5-c9c27875d9d2"
      },
      "source": [
        "model = tf.keras.models.Sequential([\n",
        "    tf.keras.layers.Flatten(input_shape=[28, 28]),\n",
        "    tf.keras.layers.Dense(300, activation=\"elu\",\n",
        "                       kernel_initializer=\"he_normal\",\n",
        "                       kernel_regularizer=tf.keras.regularizers.l1_l2(0.01)),\n",
        "    tf.keras.layers.Dense(100, activation=\"elu\",\n",
        "                       kernel_initializer=\"he_normal\",\n",
        "                       kernel_regularizer=tf.keras.regularizers.l1_l2(0.01)),\n",
        "    tf.keras.layers.Dense(10, activation=\"softmax\",\n",
        "                       kernel_regularizer=tf.keras.regularizers.l1_l2(0.01))\n",
        "])\n",
        "model.compile(loss=\"sparse_categorical_crossentropy\", optimizer=\"nadam\", metrics=[\"accuracy\"])\n",
        "n_epochs = 10\n",
        "start = time.perf_counter()\n",
        "history = model.fit(X_train_scaled, y_train, epochs=n_epochs,\n",
        "                    validation_data=(X_valid_scaled, y_valid))\n",
        "\n",
        "elapsed = time.perf_counter() - start\n",
        "print('Elapsed %.3f seconds.' % elapsed)"
      ],
      "execution_count": null,
      "outputs": [
        {
          "output_type": "stream",
          "text": [
            "Epoch 1/10\n",
            "1719/1719 [==============================] - 16s 9ms/step - loss: 6.2129 - accuracy: 0.7357 - val_loss: 2.1848 - val_accuracy: 0.7674\n",
            "Epoch 2/10\n",
            "1719/1719 [==============================] - 15s 9ms/step - loss: 2.0810 - accuracy: 0.7629 - val_loss: 1.9692 - val_accuracy: 0.7800\n",
            "Epoch 3/10\n",
            "1719/1719 [==============================] - 14s 8ms/step - loss: 1.9252 - accuracy: 0.7705 - val_loss: 1.8503 - val_accuracy: 0.7816\n",
            "Epoch 4/10\n",
            "1719/1719 [==============================] - 14s 8ms/step - loss: 1.8302 - accuracy: 0.7734 - val_loss: 1.7757 - val_accuracy: 0.7832\n",
            "Epoch 5/10\n",
            "1719/1719 [==============================] - 14s 8ms/step - loss: 1.7619 - accuracy: 0.7748 - val_loss: 1.7151 - val_accuracy: 0.7864\n",
            "Epoch 6/10\n",
            "1719/1719 [==============================] - 14s 8ms/step - loss: 1.7179 - accuracy: 0.7748 - val_loss: 1.6948 - val_accuracy: 0.7818\n",
            "Epoch 7/10\n",
            "1719/1719 [==============================] - 14s 8ms/step - loss: 1.6868 - accuracy: 0.7742 - val_loss: 1.6469 - val_accuracy: 0.7892\n",
            "Epoch 8/10\n",
            "1719/1719 [==============================] - 14s 8ms/step - loss: 1.6622 - accuracy: 0.7764 - val_loss: 1.6399 - val_accuracy: 0.7888\n",
            "Epoch 9/10\n",
            "1719/1719 [==============================] - 15s 9ms/step - loss: 1.6437 - accuracy: 0.7746 - val_loss: 1.6235 - val_accuracy: 0.7878\n",
            "Epoch 10/10\n",
            "1719/1719 [==============================] - 14s 8ms/step - loss: 1.6251 - accuracy: 0.7749 - val_loss: 1.5890 - val_accuracy: 0.7844\n",
            "Elapsed 145.458 seconds.\n"
          ],
          "name": "stdout"
        }
      ]
    },
    {
      "cell_type": "code",
      "metadata": {
        "colab": {
          "base_uri": "https://localhost:8080/"
        },
        "id": "PEeGGgpij_Xm",
        "outputId": "26c93c6c-bd96-4ad4-9995-a2b27a922e5d"
      },
      "source": [
        "model.summary()"
      ],
      "execution_count": null,
      "outputs": [
        {
          "output_type": "stream",
          "text": [
            "Model: \"sequential_2\"\n",
            "_________________________________________________________________\n",
            "Layer (type)                 Output Shape              Param #   \n",
            "=================================================================\n",
            "flatten_2 (Flatten)          (None, 784)               0         \n",
            "_________________________________________________________________\n",
            "dense_6 (Dense)              (None, 300)               235500    \n",
            "_________________________________________________________________\n",
            "dense_7 (Dense)              (None, 100)               30100     \n",
            "_________________________________________________________________\n",
            "dense_8 (Dense)              (None, 10)                1010      \n",
            "=================================================================\n",
            "Total params: 266,610\n",
            "Trainable params: 266,610\n",
            "Non-trainable params: 0\n",
            "_________________________________________________________________\n"
          ],
          "name": "stdout"
        }
      ]
    },
    {
      "cell_type": "markdown",
      "metadata": {
        "id": "xjD2mGn3f6Ta"
      },
      "source": [
        "### Max _ Norm Regulaization\n",
        "\n",
        "- Not added to the final Cost Function\n",
        "- The Weights are scaled.\n",
        "\n",
        "W for incoming connection is constrained based on below condition.\n",
        "\n",
        "$||W||_2 <= r$\n",
        "\n",
        "where, $r \\Rightarrow$ is the max- norm hyperparameter\n",
        "\n",
        "After each Training Steps -\n",
        "\n",
        "- if $||W||_2  = r \\Rightarrow$ No regularization and No Scaling\n",
        "- if $||W||_2  < r \\Rightarrow$ $w = w * \\frac{r}{||W||_2}$"
      ]
    },
    {
      "cell_type": "code",
      "metadata": {
        "colab": {
          "base_uri": "https://localhost:8080/"
        },
        "id": "HYUXcT2tiLuU",
        "outputId": "ba525fca-067f-4639-e68f-6f978eded0d1"
      },
      "source": [
        "model = tf.keras.models.Sequential([\n",
        "    tf.keras.layers.Flatten(input_shape=[28, 28]),\n",
        "    tf.keras.layers.Dense(300, activation=\"elu\",\n",
        "                       kernel_initializer=\"he_normal\",\n",
        "                       kernel_constraint=tf.keras.constraints.max_norm()), # Here r =2\n",
        "    tf.keras.layers.Dense(100, activation=\"elu\",\n",
        "                       kernel_initializer=\"he_normal\",\n",
        "                       kernel_constraint=tf.keras.constraints.max_norm()),\n",
        "    tf.keras.layers.Dense(10, activation=\"softmax\",\n",
        "                       kernel_constraint=tf.keras.constraints.max_norm())\n",
        "])\n",
        "model.compile(loss=\"sparse_categorical_crossentropy\", optimizer=\"nadam\", metrics=[\"accuracy\"])\n",
        "n_epochs = 10\n",
        "start = time.perf_counter()\n",
        "history = model.fit(X_train_scaled, y_train, epochs=n_epochs,\n",
        "                    validation_data=(X_valid_scaled, y_valid))\n",
        "\n",
        "elapsed = time.perf_counter() - start\n",
        "print('Elapsed %.3f seconds.' % elapsed)"
      ],
      "execution_count": null,
      "outputs": [
        {
          "output_type": "stream",
          "text": [
            "Epoch 1/10\n",
            "1719/1719 [==============================] - 14s 7ms/step - loss: 0.4503 - accuracy: 0.8413 - val_loss: 0.3557 - val_accuracy: 0.8698\n",
            "Epoch 2/10\n",
            "1719/1719 [==============================] - 12s 7ms/step - loss: 0.3225 - accuracy: 0.8823 - val_loss: 0.3616 - val_accuracy: 0.8740\n",
            "Epoch 3/10\n",
            "1719/1719 [==============================] - 12s 7ms/step - loss: 0.2872 - accuracy: 0.8933 - val_loss: 0.3237 - val_accuracy: 0.8814\n",
            "Epoch 4/10\n",
            "1719/1719 [==============================] - 13s 7ms/step - loss: 0.2616 - accuracy: 0.9019 - val_loss: 0.3470 - val_accuracy: 0.8752\n",
            "Epoch 5/10\n",
            "1719/1719 [==============================] - 12s 7ms/step - loss: 0.2480 - accuracy: 0.9075 - val_loss: 0.3399 - val_accuracy: 0.8846\n",
            "Epoch 6/10\n",
            "1719/1719 [==============================] - 13s 7ms/step - loss: 0.2338 - accuracy: 0.9110 - val_loss: 0.3290 - val_accuracy: 0.8900\n",
            "Epoch 7/10\n",
            "1719/1719 [==============================] - 12s 7ms/step - loss: 0.2240 - accuracy: 0.9157 - val_loss: 0.3313 - val_accuracy: 0.8854\n",
            "Epoch 8/10\n",
            "1719/1719 [==============================] - 13s 7ms/step - loss: 0.2191 - accuracy: 0.9173 - val_loss: 0.3382 - val_accuracy: 0.8898\n",
            "Epoch 9/10\n",
            "1719/1719 [==============================] - 12s 7ms/step - loss: 0.2100 - accuracy: 0.9205 - val_loss: 0.3616 - val_accuracy: 0.8784\n",
            "Epoch 10/10\n",
            "1719/1719 [==============================] - 13s 7ms/step - loss: 0.2049 - accuracy: 0.9226 - val_loss: 0.3630 - val_accuracy: 0.8856\n",
            "Elapsed 125.566 seconds.\n"
          ],
          "name": "stdout"
        }
      ]
    },
    {
      "cell_type": "code",
      "metadata": {
        "colab": {
          "base_uri": "https://localhost:8080/"
        },
        "id": "KzongWDekCQ6",
        "outputId": "f49c740f-b285-4547-be7c-b431128d68c3"
      },
      "source": [
        "model.summary()"
      ],
      "execution_count": null,
      "outputs": [
        {
          "output_type": "stream",
          "text": [
            "Model: \"sequential_3\"\n",
            "_________________________________________________________________\n",
            "Layer (type)                 Output Shape              Param #   \n",
            "=================================================================\n",
            "flatten_3 (Flatten)          (None, 784)               0         \n",
            "_________________________________________________________________\n",
            "dense_9 (Dense)              (None, 300)               235500    \n",
            "_________________________________________________________________\n",
            "dense_10 (Dense)             (None, 100)               30100     \n",
            "_________________________________________________________________\n",
            "dense_11 (Dense)             (None, 10)                1010      \n",
            "=================================================================\n",
            "Total params: 266,610\n",
            "Trainable params: 266,610\n",
            "Non-trainable params: 0\n",
            "_________________________________________________________________\n"
          ],
          "name": "stdout"
        }
      ]
    },
    {
      "cell_type": "markdown",
      "metadata": {
        "id": "nhfbFHYUjyBj"
      },
      "source": [
        "### Dropout\n",
        "- At every training step, every neuron (including the\n",
        "input neurons, but always excluding the output neurons) has a probability p of being temporarily “dropped out,” meaning it will be entirely ignored during this training step, but it may be active during the next step.\n",
        "- The hyperparameter **p** is called the dropout rate, and it is typically set to 50%.\n",
        "- Neurons trained with dropout cannot co-adapt with their neighboring neurons; they have to be as useful as possible on their own.\n",
        "- The resulting neural network can be seen as an averaging ensemble of all these smaller neural networks.\n",
        "\n",
        "**Important technical detail**\n",
        "- When p = 50% , in which case during testing a neuron will be connected to twice as many input neurons as it was (on average) during training.\n",
        "- We need to multiply each neuron’s input connection weights by 0.5 after training.\n",
        "- If we don’t, each neuron will get a total input signal roughly twice as large as what the network was trained on, and it is **unlikely** to perform well.\n",
        "\n",
        "#### **Disadvantage**\n",
        "\n",
        "- Increase in training time\n"
      ]
    },
    {
      "cell_type": "code",
      "metadata": {
        "colab": {
          "base_uri": "https://localhost:8080/"
        },
        "id": "mo8r8ByBinR7",
        "outputId": "3c07364d-40cd-4547-b402-b46f27ebfc52"
      },
      "source": [
        "model = tf.keras.models.Sequential([\n",
        "    tf.keras.layers.Flatten(input_shape=[28, 28]),\n",
        "    tf.keras.layers.Dropout(rate=0.5),\n",
        "    tf.keras.layers.Dense(300, activation=\"elu\", kernel_initializer=\"he_normal\"),\n",
        "    tf.keras.layers.Dropout(rate=0.5),\n",
        "    tf.keras.layers.Dense(100, activation=\"elu\", kernel_initializer=\"he_normal\"),\n",
        "    tf.keras.layers.Dropout(rate=0.6),\n",
        "    tf.keras.layers.Dense(10, activation=\"softmax\")\n",
        "])\n",
        "model.compile(loss=\"sparse_categorical_crossentropy\", optimizer=\"nadam\", metrics=[\"accuracy\"])\n",
        "n_epochs = 10\n",
        "start = time.perf_counter()\n",
        "history = model.fit(X_train_scaled, y_train, epochs=n_epochs,\n",
        "                    validation_data=(X_valid_scaled, y_valid))\n",
        "\n",
        "elapsed = time.perf_counter() - start\n",
        "print('Elapsed %.3f seconds.' % elapsed)"
      ],
      "execution_count": null,
      "outputs": [
        {
          "output_type": "stream",
          "text": [
            "Epoch 1/10\n",
            "1719/1719 [==============================] - 13s 7ms/step - loss: 1.0844 - accuracy: 0.6785 - val_loss: 0.4585 - val_accuracy: 0.8310\n",
            "Epoch 2/10\n",
            "1719/1719 [==============================] - 12s 7ms/step - loss: 0.6524 - accuracy: 0.7656 - val_loss: 0.4319 - val_accuracy: 0.8368\n",
            "Epoch 3/10\n",
            "1719/1719 [==============================] - 12s 7ms/step - loss: 0.6088 - accuracy: 0.7787 - val_loss: 0.4184 - val_accuracy: 0.8434\n",
            "Epoch 4/10\n",
            "1719/1719 [==============================] - 12s 7ms/step - loss: 0.6008 - accuracy: 0.7809 - val_loss: 0.4018 - val_accuracy: 0.8444\n",
            "Epoch 5/10\n",
            "1719/1719 [==============================] - 12s 7ms/step - loss: 0.5903 - accuracy: 0.7864 - val_loss: 0.3837 - val_accuracy: 0.8592\n",
            "Epoch 6/10\n",
            "1719/1719 [==============================] - 13s 7ms/step - loss: 0.5796 - accuracy: 0.7908 - val_loss: 0.3813 - val_accuracy: 0.8558\n",
            "Epoch 7/10\n",
            "1719/1719 [==============================] - 12s 7ms/step - loss: 0.5722 - accuracy: 0.7925 - val_loss: 0.3785 - val_accuracy: 0.8538\n",
            "Epoch 8/10\n",
            "1719/1719 [==============================] - 12s 7ms/step - loss: 0.5653 - accuracy: 0.7972 - val_loss: 0.3620 - val_accuracy: 0.8644\n",
            "Epoch 9/10\n",
            "1719/1719 [==============================] - 12s 7ms/step - loss: 0.5632 - accuracy: 0.7981 - val_loss: 0.3702 - val_accuracy: 0.8590\n",
            "Epoch 10/10\n",
            "1719/1719 [==============================] - 13s 7ms/step - loss: 0.5616 - accuracy: 0.7979 - val_loss: 0.3829 - val_accuracy: 0.8528\n",
            "Elapsed 123.334 seconds.\n"
          ],
          "name": "stdout"
        }
      ]
    },
    {
      "cell_type": "code",
      "metadata": {
        "colab": {
          "base_uri": "https://localhost:8080/"
        },
        "id": "ob8Xdx6WmXXw",
        "outputId": "b102a73e-7a5d-459c-acea-e63e3c0d347b"
      },
      "source": [
        "model.summary()"
      ],
      "execution_count": null,
      "outputs": [
        {
          "output_type": "stream",
          "text": [
            "Model: \"sequential_4\"\n",
            "_________________________________________________________________\n",
            "Layer (type)                 Output Shape              Param #   \n",
            "=================================================================\n",
            "flatten_4 (Flatten)          (None, 784)               0         \n",
            "_________________________________________________________________\n",
            "dropout (Dropout)            (None, 784)               0         \n",
            "_________________________________________________________________\n",
            "dense_12 (Dense)             (None, 300)               235500    \n",
            "_________________________________________________________________\n",
            "dropout_1 (Dropout)          (None, 300)               0         \n",
            "_________________________________________________________________\n",
            "dense_13 (Dense)             (None, 100)               30100     \n",
            "_________________________________________________________________\n",
            "dropout_2 (Dropout)          (None, 100)               0         \n",
            "_________________________________________________________________\n",
            "dense_14 (Dense)             (None, 10)                1010      \n",
            "=================================================================\n",
            "Total params: 266,610\n",
            "Trainable params: 266,610\n",
            "Non-trainable params: 0\n",
            "_________________________________________________________________\n"
          ],
          "name": "stdout"
        }
      ]
    },
    {
      "cell_type": "code",
      "metadata": {
        "id": "DJNrzAM8uXGE"
      },
      "source": [],
      "execution_count": null,
      "outputs": []
    },
    {
      "cell_type": "code",
      "metadata": {
        "id": "8SnHmsuXpLl5"
      },
      "source": [],
      "execution_count": null,
      "outputs": []
    }
  ]
}