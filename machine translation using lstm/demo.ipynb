{
 "cells": [
  {
   "cell_type": "code",
   "execution_count": 52,
   "id": "1ef900f8-ba20-45b6-8b28-13e1f90fcb6c",
   "metadata": {},
   "outputs": [],
   "source": [
    "import torch\n",
    "import pandas as pd"
   ]
  },
  {
   "cell_type": "code",
   "execution_count": 29,
   "id": "82860e5e-bf83-40f8-a831-f2ec82a2d870",
   "metadata": {},
   "outputs": [
    {
     "name": "stdout",
     "output_type": "stream",
     "text": [
      "DatasetDict({\n",
      "    train: Dataset({\n",
      "        features: ['translation'],\n",
      "        num_rows: 6596\n",
      "    })\n",
      "    test: Dataset({\n",
      "        features: ['translation'],\n",
      "        num_rows: 1649\n",
      "    })\n",
      "})\n"
     ]
    }
   ],
   "source": [
    "from datasets import load_dataset\n",
    "\n",
    "raw_data= load_dataset(\"paulh27/alignment_iwslt2017_de_en\", split=\"train\")\n",
    "raw_data = raw_data.train_test_split(0.04)['test']\n",
    "raw_data = raw_data.train_test_split(0.2) ## reducing the dataset size for faster calcul.\n",
    "print(raw_data) "
   ]
  },
  {
   "cell_type": "code",
   "execution_count": 37,
   "id": "515570c6-fc7e-4640-abb3-064fc0c9d35f",
   "metadata": {},
   "outputs": [
    {
     "data": {
      "text/plain": [
       "[{'de': 'Wie ist es, einer dieser grossartigen Schmetterlinge zu sein, der fünf Hypothesen in zwei Minuten testen kann?',\n",
       "  'en': \"What's it like to be one of these great butterflies who can test five hypotheses in two minutes?\"},\n",
       " {'de': 'Huntington Kitchen. In Huntington, wo ich diese Sendung gemacht habe, wisst ihr, wir machen diese Sendung zur besten Sendezeit, die hoffentlich die Menschen dazu anregt, diesen Wandel mitzumachen.',\n",
       "  'en': \"Huntington's Kitchen. Huntington, where I made this program, you know, we make this prime-time program that hopefully inspires people to join this change.\"}]"
      ]
     },
     "execution_count": 37,
     "metadata": {},
     "output_type": "execute_result"
    }
   ],
   "source": [
    "raw_data['train'].to_dict()['translation'][:2]"
   ]
  },
  {
   "cell_type": "code",
   "execution_count": 36,
   "id": "70f26eb7-fbd4-41f5-b0ad-9d49112f60e7",
   "metadata": {},
   "outputs": [],
   "source": [
    "train_translation_dict= raw_data['train'].to_dict()['translation']\n",
    "test_translation_dict= raw_data['test'].to_dict()['translation']"
   ]
  },
  {
   "cell_type": "code",
   "execution_count": 38,
   "id": "cea1f90b-abf8-42f3-9e9a-99ac2a3964aa",
   "metadata": {},
   "outputs": [],
   "source": [
    "train_df= pd.DataFrame(train_translation_dict)\n",
    "test_df= pd.DataFrame(test_translation_dict)"
   ]
  },
  {
   "cell_type": "code",
   "execution_count": 48,
   "id": "e55681ea-93bc-4a6d-9128-452331e51964",
   "metadata": {},
   "outputs": [
    {
     "data": {
      "text/html": [
       "<div>\n",
       "<style scoped>\n",
       "    .dataframe tbody tr th:only-of-type {\n",
       "        vertical-align: middle;\n",
       "    }\n",
       "\n",
       "    .dataframe tbody tr th {\n",
       "        vertical-align: top;\n",
       "    }\n",
       "\n",
       "    .dataframe thead th {\n",
       "        text-align: right;\n",
       "    }\n",
       "</style>\n",
       "<table border=\"1\" class=\"dataframe\">\n",
       "  <thead>\n",
       "    <tr style=\"text-align: right;\">\n",
       "      <th></th>\n",
       "      <th>de</th>\n",
       "      <th>en</th>\n",
       "    </tr>\n",
       "  </thead>\n",
       "  <tbody>\n",
       "    <tr>\n",
       "      <th>0</th>\n",
       "      <td>Wie ist es, einer dieser grossartigen Schmette...</td>\n",
       "      <td>What's it like to be one of these great butter...</td>\n",
       "    </tr>\n",
       "    <tr>\n",
       "      <th>1</th>\n",
       "      <td>Huntington Kitchen. In Huntington, wo ich dies...</td>\n",
       "      <td>Huntington's Kitchen. Huntington, where I made...</td>\n",
       "    </tr>\n",
       "    <tr>\n",
       "      <th>2</th>\n",
       "      <td>Und wäre das nicht eine interessante Art, die ...</td>\n",
       "      <td>And wouldn't that be an interesting way of loo...</td>\n",
       "    </tr>\n",
       "    <tr>\n",
       "      <th>3</th>\n",
       "      <td>Darüberhinaus war uns klar, dass wir, sobald d...</td>\n",
       "      <td>And we also realized that once this worked, we...</td>\n",
       "    </tr>\n",
       "    <tr>\n",
       "      <th>4</th>\n",
       "      <td>Ich optimiere mein Leben nach Qualität; für mi...</td>\n",
       "      <td>I'm optimizing my life for quality; that, to m...</td>\n",
       "    </tr>\n",
       "  </tbody>\n",
       "</table>\n",
       "</div>"
      ],
      "text/plain": [
       "                                                  de                                                 en\n",
       "0  Wie ist es, einer dieser grossartigen Schmette...  What's it like to be one of these great butter...\n",
       "1  Huntington Kitchen. In Huntington, wo ich dies...  Huntington's Kitchen. Huntington, where I made...\n",
       "2  Und wäre das nicht eine interessante Art, die ...  And wouldn't that be an interesting way of loo...\n",
       "3  Darüberhinaus war uns klar, dass wir, sobald d...  And we also realized that once this worked, we...\n",
       "4  Ich optimiere mein Leben nach Qualität; für mi...  I'm optimizing my life for quality; that, to m..."
      ]
     },
     "execution_count": 48,
     "metadata": {},
     "output_type": "execute_result"
    }
   ],
   "source": [
    "train_df.head()"
   ]
  },
  {
   "cell_type": "code",
   "execution_count": 53,
   "id": "93166ef3-dc46-433b-b9a2-0613b3de28d2",
   "metadata": {},
   "outputs": [
    {
     "data": {
      "text/plain": [
       "'2.0.1+cpu'"
      ]
     },
     "execution_count": 53,
     "metadata": {},
     "output_type": "execute_result"
    }
   ],
   "source": [
    "torch.__version__"
   ]
  },
  {
   "cell_type": "code",
   "execution_count": null,
   "id": "1d5f5d51-42ae-4097-855c-ee6e350a4d76",
   "metadata": {},
   "outputs": [],
   "source": [
    "#2.0.0 for torchtext=0.15.1, torchdata 0.6.0"
   ]
  },
  {
   "cell_type": "code",
   "execution_count": null,
   "id": "43b3d854-5060-4022-a5bf-1b85da34f463",
   "metadata": {},
   "outputs": [],
   "source": []
  }
 ],
 "metadata": {
  "kernelspec": {
   "display_name": "Python 3 (ipykernel)",
   "language": "python",
   "name": "python3"
  },
  "language_info": {
   "codemirror_mode": {
    "name": "ipython",
    "version": 3
   },
   "file_extension": ".py",
   "mimetype": "text/x-python",
   "name": "python",
   "nbconvert_exporter": "python",
   "pygments_lexer": "ipython3",
   "version": "3.9.21"
  }
 },
 "nbformat": 4,
 "nbformat_minor": 5
}
