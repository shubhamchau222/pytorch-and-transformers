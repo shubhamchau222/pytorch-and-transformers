{
 "cells": [
  {
   "cell_type": "code",
   "execution_count": 11,
   "id": "df565c49",
   "metadata": {},
   "outputs": [],
   "source": [
    "import numpy as np\n",
    "from sklearn.datasets import make_classification"
   ]
  },
  {
   "cell_type": "code",
   "execution_count": 12,
   "id": "c73f058c",
   "metadata": {},
   "outputs": [],
   "source": [
    "from sklearn.datasets import make_classification\n",
    "\n",
    "X, Y = make_classification(\n",
    "  n_samples=100, n_features=4, n_redundant=0,\n",
    "  n_informative=3,  n_clusters_per_class=2, n_classes=3\n",
    ")"
   ]
  },
  {
   "cell_type": "code",
   "execution_count": 49,
   "id": "f3a14408",
   "metadata": {},
   "outputs": [
    {
     "name": "stdout",
     "output_type": "stream",
     "text": [
      "X_train tensor Shape torch.Size([75, 4]), torch.float32\n",
      "x_test tensor Shape torch.Size([25, 4]), torch.float32\n",
      "y_train tensor Shape torch.Size([75]), torch.int64\n",
      "y_test tensor Shape torch.Size([25]), torch.int64\n",
      "Unique classes : 3\n"
     ]
    }
   ],
   "source": [
    "from sklearn.model_selection import train_test_split\n",
    "import torch \n",
    "\n",
    "X_train, X_test, Y_train, Y_test = train_test_split(X, Y, \n",
    "                                                    test_size=0.25, \n",
    "                                                    random_state=42)\n",
    "\n",
    "\n",
    "X_train = torch.from_numpy(X_train.astype(np.float32))\n",
    "X_test = torch.from_numpy(X_test.astype(np.float32))\n",
    "Y_train = torch.from_numpy(Y_train).type(torch.LongTensor)\n",
    "Y_test = torch.from_numpy(Y_test).type(torch.LongTensor)\n",
    "\n",
    "# Checking the output and input type\n",
    "print(f\"X_train tensor Shape {X_train.shape}, {X_train.dtype}\")\n",
    "print(f\"x_test tensor Shape {X_test.shape}, {X_test.dtype}\")\n",
    "print(f\"y_train tensor Shape {Y_train.shape}, {Y_train.dtype}\")\n",
    "print(f\"y_test tensor Shape {Y_test.shape}, {Y_test.dtype}\")\n",
    "\n",
    "n_unique_labels = len(np.unique(Y_test))\n",
    "print(f\"Unique classes : {n_unique_labels}\")"
   ]
  },
  {
   "cell_type": "code",
   "execution_count": 50,
   "id": "b028a820",
   "metadata": {},
   "outputs": [],
   "source": [
    "import torch\n",
    "from torch.utils.data import Dataset, DataLoader"
   ]
  },
  {
   "cell_type": "code",
   "execution_count": 72,
   "id": "d0d7ff44",
   "metadata": {},
   "outputs": [],
   "source": [
    "class MyDataset(Dataset):\n",
    "    def __init__(self, x, y):\n",
    "        super().__init__()\n",
    "        self.input_features= x\n",
    "        self.label=y\n",
    "\n",
    "    def __len__(self):\n",
    "        return len(self.input_features)\n",
    "    \n",
    "    def __getitem__(self, index):\n",
    "        data= self.input_features[index]\n",
    "        label_= self.label[index]\n",
    "        return data, label_"
   ]
  },
  {
   "cell_type": "code",
   "execution_count": 188,
   "id": "0f233cc1",
   "metadata": {},
   "outputs": [],
   "source": [
    "training_data= MyDataset(X_train, Y_train)\n",
    "testing_data = MyDataset(X_test, Y_test)\n",
    "\n",
    "batch_size = 8\n",
    "trainloader = DataLoader(training_data, batch_size=batch_size, shuffle=True)\n",
    "testloader =  DataLoader(testing_data, batch_size=batch_size, shuffle=False)"
   ]
  },
  {
   "cell_type": "code",
   "execution_count": 233,
   "id": "76b4074a",
   "metadata": {},
   "outputs": [
    {
     "name": "stdout",
     "output_type": "stream",
     "text": [
      "<bound method Module.parameters of Network(\n",
      "  (linear1): Linear(in_features=4, out_features=25, bias=True)\n",
      "  (linear2): Linear(in_features=25, out_features=3, bias=True)\n",
      ")>\n"
     ]
    }
   ],
   "source": [
    "import torch.nn as nn\n",
    "\n",
    "input_dim = 4\n",
    "hidden_layers = 25\n",
    "output_dim = 3\n",
    "\n",
    "class Network(nn.Module):\n",
    "  def __init__(self):\n",
    "    super(Network, self).__init__()\n",
    "    self.linear1 = nn.Linear(input_dim, hidden_layers)\n",
    "    self.linear2 = nn.Linear(hidden_layers, output_dim)\n",
    "    \n",
    "  def forward(self, x):\n",
    "    x = torch.sigmoid(self.linear1(x))\n",
    "    x = self.linear2(x)\n",
    "    return x\n",
    "  \n",
    "# model and it's parameters \n",
    "model= Network()\n",
    "print(model.parameters)"
   ]
  },
  {
   "cell_type": "code",
   "execution_count": 234,
   "id": "6e35444b",
   "metadata": {},
   "outputs": [],
   "source": [
    "criterion = nn.CrossEntropyLoss()\n",
    "optimizer = torch.optim.SGD(model.parameters(), lr=0.01)"
   ]
  },
  {
   "cell_type": "code",
   "execution_count": 235,
   "id": "74d38bf8",
   "metadata": {},
   "outputs": [
    {
     "name": "stdout",
     "output_type": "stream",
     "text": [
      "Epoch:0 | Train loss: 0.1512 | Train accuracy: 0.1467 | Test loss: 0.1798 | Test accuracy: 0.1600\n",
      "Epoch:1 | Train loss: 0.1516 | Train accuracy: 0.2000 | Test loss: 0.1795 | Test accuracy: 0.1600\n",
      "Epoch:2 | Train loss: 0.1521 | Train accuracy: 0.2000 | Test loss: 0.1791 | Test accuracy: 0.1600\n",
      "Epoch:3 | Train loss: 0.1502 | Train accuracy: 0.1867 | Test loss: 0.1792 | Test accuracy: 0.2000\n",
      "Epoch:4 | Train loss: 0.1498 | Train accuracy: 0.2000 | Test loss: 0.1790 | Test accuracy: 0.2000\n",
      "Epoch:5 | Train loss: 0.1495 | Train accuracy: 0.1867 | Test loss: 0.1795 | Test accuracy: 0.1600\n",
      "Epoch:6 | Train loss: 0.1490 | Train accuracy: 0.2533 | Test loss: 0.1786 | Test accuracy: 0.2000\n",
      "Epoch:7 | Train loss: 0.1476 | Train accuracy: 0.2933 | Test loss: 0.1780 | Test accuracy: 0.2400\n",
      "Epoch:8 | Train loss: 0.1478 | Train accuracy: 0.2667 | Test loss: 0.1769 | Test accuracy: 0.2000\n",
      "Epoch:9 | Train loss: 0.1471 | Train accuracy: 0.2800 | Test loss: 0.1769 | Test accuracy: 0.2400\n"
     ]
    }
   ],
   "source": [
    "epochs= 10\n",
    "\n",
    "for epoch in range(epochs):\n",
    "    train_loss, test_loss =0,0\n",
    "    train_count, test_count =0,0\n",
    "    train_acc, test_acc= 0,0\n",
    "\n",
    "    model.train()\n",
    "\n",
    "    for steps,data in enumerate(trainloader):\n",
    "    \n",
    "        inputs, labels = data\n",
    "        outputs= model(inputs)\n",
    "\n",
    "        #calculate gradients & backword propogation\n",
    "        optimizer.zero_grad()\n",
    "        loss = criterion(outputs, labels)\n",
    "        loss.backward()      \n",
    "        optimizer.step()\n",
    "\n",
    "        # add the loss \n",
    "        train_loss += loss.item()\n",
    "        train_count += inputs.shape[0]\n",
    "\n",
    "        _, train_predictions= torch.max(outputs, axis=1)\n",
    "        train_acc += (train_predictions == labels).sum().item()\n",
    "      \n",
    "\n",
    "    with torch.no_grad():\n",
    "        for test_inputs, test_labels in testloader:\n",
    "            test_outputs= model(test_inputs)\n",
    "            test_loss += criterion(test_outputs, test_labels)\n",
    "            test_count += test_inputs.shape[0]\n",
    "\n",
    "            _, test_predictions= torch.max(test_outputs, axis=1)\n",
    "            test_acc += (test_predictions == test_labels).sum().item()\n",
    "\n",
    "    print(f\"Epoch:{epoch} | Train loss: {train_loss/train_count:.4f} | Train accuracy: {train_acc/train_count:.4f} | Test loss: {test_loss/test_count:.4f} | Test accuracy: {test_acc/test_count:.4f}\")\n"
   ]
  },
  {
   "cell_type": "code",
   "execution_count": 226,
   "id": "a1344c58",
   "metadata": {},
   "outputs": [
    {
     "data": {
      "text/plain": [
       "2"
      ]
     },
     "execution_count": 226,
     "metadata": {},
     "output_type": "execute_result"
    }
   ],
   "source": []
  },
  {
   "cell_type": "code",
   "execution_count": 225,
   "id": "0b699c3c",
   "metadata": {},
   "outputs": [
    {
     "data": {
      "text/plain": [
       "(tensor([0, 1, 1]), tensor([0, 2, 1]))"
      ]
     },
     "execution_count": 225,
     "metadata": {},
     "output_type": "execute_result"
    }
   ],
   "source": [
    "train_predictions, labels"
   ]
  },
  {
   "cell_type": "code",
   "execution_count": 220,
   "id": "8c5fc667",
   "metadata": {},
   "outputs": [
    {
     "data": {
      "text/plain": [
       "torch.return_types.max(\n",
       "values=tensor([0.8019, 0.8964, 0.2037], grad_fn=<MaxBackward0>),\n",
       "indices=tensor([2, 2, 1]))"
      ]
     },
     "execution_count": 220,
     "metadata": {},
     "output_type": "execute_result"
    }
   ],
   "source": [
    "torch.max(outputs, axis=1)[]"
   ]
  },
  {
   "cell_type": "code",
   "execution_count": null,
   "id": "3a4ed7a8",
   "metadata": {},
   "outputs": [],
   "source": []
  },
  {
   "cell_type": "code",
   "execution_count": null,
   "id": "fd9d0188",
   "metadata": {},
   "outputs": [],
   "source": []
  },
  {
   "cell_type": "code",
   "execution_count": null,
   "id": "6403db32",
   "metadata": {},
   "outputs": [],
   "source": []
  },
  {
   "cell_type": "code",
   "execution_count": 160,
   "id": "a0af2399",
   "metadata": {},
   "outputs": [
    {
     "name": "stdout",
     "output_type": "stream",
     "text": [
      "0.8842911720275879\n",
      "1.8292537927627563\n",
      "2.5715860724449158\n",
      "3.764537751674652\n",
      "4.555106580257416\n",
      "5.353415787220001\n",
      "6.562723219394684\n",
      "Epoch:0 | Train loss: 0.0000000 | Test loss: 0.2625\n",
      "0.8371245265007019\n",
      "1.5569008588790894\n",
      "2.380488693714142\n",
      "3.4742533564567566\n",
      "4.14954000711441\n",
      "4.925200045108795\n",
      "6.299934923648834\n",
      "Epoch:1 | Train loss: 0.0000000 | Test loss: 0.2520\n"
     ]
    }
   ],
   "source": [
    "# epochs= 2\n",
    "\n",
    "# for epoch in range(epochs):\n",
    "#     model.train()\n",
    "#     train_loss= 0\n",
    "#     test_loss=0\n",
    "#     total_samples=0\n",
    "#     correct_predictions= 0\n",
    "\n",
    "#     for steps,data in enumerate(trainloader):\n",
    "    \n",
    "#         inputs, labels = data\n",
    "#         optimizer.zero_grad()\n",
    "\n",
    "#         outputs= model(inputs)\n",
    "#         loss = criterion(outputs, labels)\n",
    "\n",
    "#         #calculate gradients & backword propogation \n",
    "#         loss.backward()\n",
    "#         optimizer.step() \n",
    "\n",
    "#         # add the loss \n",
    "#         running_loss_per_epoc += loss.item()\n",
    "\n",
    "#     with torch.no_grad():\n",
    "#         for test_inputs, test_labels in testloader:\n",
    "#             test_outputs = model(test_inputs)\n",
    "#             test_loss += criterion(test_outputs, test_labels).item()\n",
    "#             _, predicted = torch.max(test_outputs, 1) \n",
    "#             total_samples += test_labels.size(0)\n",
    "#             correct_predictions += (predicted == test_labels).sum().item()\n",
    "#             print(test_loss)\n",
    "\n",
    "#     accuracy = correct_predictions / total_samples\n",
    "#     avg_test_loss = test_loss / len(testing_data)\n",
    "#     avg_train_loss = train_loss/ len(training_data)\n",
    "\n",
    "#     print(f'Epoch:{epoch} | Train loss: {avg_train_loss:.7f} | Test loss: {avg_test_loss:.4f}')\n",
    "\n",
    "  \n",
    "  "
   ]
  },
  {
   "cell_type": "code",
   "execution_count": 159,
   "id": "37236129",
   "metadata": {},
   "outputs": [
    {
     "data": {
      "text/plain": [
       "0.02693753401438395"
      ]
     },
     "execution_count": 159,
     "metadata": {},
     "output_type": "execute_result"
    }
   ],
   "source": [
    "2.0203150510787964/75"
   ]
  },
  {
   "cell_type": "code",
   "execution_count": 150,
   "id": "d8559c07",
   "metadata": {},
   "outputs": [
    {
     "data": {
      "text/plain": [
       "(7, 75)"
      ]
     },
     "execution_count": 150,
     "metadata": {},
     "output_type": "execute_result"
    }
   ],
   "source": [
    "len(testloader), len(training_data)"
   ]
  },
  {
   "cell_type": "code",
   "execution_count": 126,
   "id": "98479007",
   "metadata": {},
   "outputs": [
    {
     "data": {
      "text/plain": [
       "tensor([[ 1.1078, -1.6956,  0.3433],\n",
       "        [-0.3032,  0.1201,  0.0611],\n",
       "        [ 2.0489, -2.9327,  0.6322],\n",
       "        [-1.3448,  1.7912, -0.6751]])"
      ]
     },
     "execution_count": 126,
     "metadata": {},
     "output_type": "execute_result"
    }
   ],
   "source": [
    "test_outputs"
   ]
  },
  {
   "cell_type": "code",
   "execution_count": 132,
   "id": "6224cc5e",
   "metadata": {},
   "outputs": [
    {
     "data": {
      "text/plain": [
       "torch.return_types.max(\n",
       "values=tensor([1.1078, 0.1201, 2.0489, 1.7912]),\n",
       "indices=tensor([0, 1, 0, 1]))"
      ]
     },
     "execution_count": 132,
     "metadata": {},
     "output_type": "execute_result"
    }
   ],
   "source": [
    "torch.max(test_outputs, dim=1)"
   ]
  },
  {
   "cell_type": "code",
   "execution_count": 133,
   "id": "e2ea4924",
   "metadata": {},
   "outputs": [
    {
     "data": {
      "text/plain": [
       "tensor([0, 1, 0, 1])"
      ]
     },
     "execution_count": 133,
     "metadata": {},
     "output_type": "execute_result"
    }
   ],
   "source": [
    "torch.argmax(test_outputs, dim=1)"
   ]
  },
  {
   "cell_type": "code",
   "execution_count": 135,
   "id": "25d9b7cc",
   "metadata": {},
   "outputs": [
    {
     "data": {
      "text/plain": [
       "tensor([2, 0, 0, 1])"
      ]
     },
     "execution_count": 135,
     "metadata": {},
     "output_type": "execute_result"
    }
   ],
   "source": [
    "test_labels"
   ]
  },
  {
   "cell_type": "code",
   "execution_count": 136,
   "id": "2755e9a7",
   "metadata": {},
   "outputs": [
    {
     "data": {
      "text/plain": [
       "2"
      ]
     },
     "execution_count": 136,
     "metadata": {},
     "output_type": "execute_result"
    }
   ],
   "source": [
    "(torch.argmax(test_outputs, dim=1) == test_labels).sum().item()"
   ]
  },
  {
   "cell_type": "code",
   "execution_count": null,
   "id": "0e5c29e7",
   "metadata": {},
   "outputs": [],
   "source": []
  }
 ],
 "metadata": {
  "kernelspec": {
   "display_name": ".venv",
   "language": "python",
   "name": "python3"
  },
  "language_info": {
   "codemirror_mode": {
    "name": "ipython",
    "version": 3
   },
   "file_extension": ".py",
   "mimetype": "text/x-python",
   "name": "python",
   "nbconvert_exporter": "python",
   "pygments_lexer": "ipython3",
   "version": "3.13.2"
  }
 },
 "nbformat": 4,
 "nbformat_minor": 5
}
